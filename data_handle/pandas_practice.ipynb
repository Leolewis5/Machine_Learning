{
 "cells": [
  {
   "cell_type": "code",
   "execution_count": 33,
   "metadata": {},
   "outputs": [
    {
     "data": {
      "text/plain": [
       "100     1\n",
       "101    -3\n",
       "102     3\n",
       "103    -3\n",
       "104   -10\n",
       "dtype: int32"
      ]
     },
     "execution_count": 33,
     "metadata": {},
     "output_type": "execute_result"
    }
   ],
   "source": [
    "import numpy as np\n",
    "import pandas as pd\n",
    "'''\n",
    "more detial see pandas document\n",
    "https://pandas.pydata.org/pandas-docs/stable/getting_started/10min.html\n",
    "\n",
    "'''\n",
    "\n",
    "\n",
    "#pandas Series data\n",
    "data1 = pd.Series(np.random.randint(-10,10,100))\n",
    "\n",
    "# change index\n",
    "listA = np.arange(100,200)\n",
    "data1.index = listA\n",
    "\n",
    "pd.set_option('max_r',5)  # printing set\n",
    "print(data1)"
   ]
  },
  {
   "cell_type": "code",
   "execution_count": 65,
   "metadata": {},
   "outputs": [
    {
     "name": "stdout",
     "output_type": "stream",
     "text": [
      "          a         b         c         d         e         f         g  \\\n",
      "0  0.789503  0.972434  0.079377  0.762863  0.796828  0.436946  0.070076   \n",
      "1  0.895842  0.196622  0.402770  0.404101  0.678502  0.093611  0.398522   \n",
      "2  0.455367  0.358073  0.460731  0.155168  0.163254  0.271020  0.037638   \n",
      "3  0.448701  0.823203  0.711506  0.175065  0.074110  0.268618  0.339231   \n",
      "4  0.402817  0.618179  0.900808  0.854527  0.149887  0.778843  0.221033   \n",
      "\n",
      "          h         i         j  \n",
      "0  0.523627  0.641050  0.947255  \n",
      "1  0.495769  0.726487  0.292725  \n",
      "2  0.072686  0.963663  0.996595  \n",
      "3  0.098060  0.020239  0.816067  \n",
      "4  0.723976  0.019572  0.902632  \n",
      "          a         b         c         d         e         f         g  \\\n",
      "0  0.789503  0.972434  0.079377  0.762863  0.796828  0.436946  0.070076   \n",
      "9  0.893018  0.439416  0.280446  0.240534  0.245612  0.925405  0.447220   \n",
      "1  0.895842  0.196622  0.402770  0.404101  0.678502  0.093611  0.398522   \n",
      "2  0.455367  0.358073  0.460731  0.155168  0.163254  0.271020  0.037638   \n",
      "6  0.540948  0.336329  0.535819  0.060049  0.984296  0.922877  0.808169   \n",
      "\n",
      "          h         i         j  \n",
      "0  0.523627  0.641050  0.947255  \n",
      "9  0.095377  0.890315  0.246784  \n",
      "1  0.495769  0.726487  0.292725  \n",
      "2  0.072686  0.963663  0.996595  \n",
      "6  0.956638  0.853832  0.733259  \n"
     ]
    }
   ],
   "source": [
    "#====show data====\n",
    "\n",
    "data2 =  pd.DataFrame(np.random.random(100).reshape(10,10), columns=[chr(i) for i in range(97,107)])\n",
    "\n",
    "'''\n",
    "also see\n",
    "data2.\n",
    "      head()\n",
    "      tail()\n",
    "      describe()\n",
    "      shape()\n",
    "      index()\n",
    "      columns()\n",
    "      T   # trandpose data\n",
    "'''\n",
    "\n",
    "print(data2.head(5))\n",
    "\n",
    "#==== sorting data====\n",
    "#data2.sort_index(axis=0, ascending=True)  # axis = 0 (row direction), axis= 1 (column direction)\n",
    "data2 = data2.sort_values(by='c',ascending=True)  # need to assign back to data\n",
    "print(data2.head(5))"
   ]
  },
  {
   "cell_type": "code",
   "execution_count": null,
   "metadata": {},
   "outputs": [],
   "source": [
    "# getting data"
   ]
  },
  {
   "cell_type": "code",
   "execution_count": null,
   "metadata": {},
   "outputs": [],
   "source": []
  }
 ],
 "metadata": {
  "kernelspec": {
   "display_name": "Python 3",
   "language": "python",
   "name": "python3"
  },
  "language_info": {
   "codemirror_mode": {
    "name": "ipython",
    "version": 3
   },
   "file_extension": ".py",
   "mimetype": "text/x-python",
   "name": "python",
   "nbconvert_exporter": "python",
   "pygments_lexer": "ipython3",
   "version": "3.7.3"
  }
 },
 "nbformat": 4,
 "nbformat_minor": 2
}
