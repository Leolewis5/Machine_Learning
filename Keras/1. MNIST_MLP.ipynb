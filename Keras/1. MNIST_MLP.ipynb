{
 "cells": [
  {
   "cell_type": "markdown",
   "metadata": {},
   "source": [
    "# Hello world to mechine learning - MNIST MLP\n",
    "\n",
    "\n",
    "\n",
    "## step1. 匯入模組\n",
    "目前先匯入處理資料的模組\n",
    "mnist 路徑: ~/.keras/datasets/mnist.npz (numpy file)"
   ]
  },
  {
   "cell_type": "code",
   "execution_count": 1,
   "metadata": {
    "scrolled": true
   },
   "outputs": [
    {
     "name": "stderr",
     "output_type": "stream",
     "text": [
      "Using TensorFlow backend.\n"
     ]
    }
   ],
   "source": [
    "import numpy as np\n",
    "import pandas as pd\n",
    "import keras.utils as np_utils  # this is use to transfer label into one-hot-encoding\n",
    "from keras.datasets import mnist"
   ]
  },
  {
   "cell_type": "markdown",
   "metadata": {},
   "source": [
    "## step2. 匯入資料\n",
    "\n",
    "另外把資料印出來看看內容"
   ]
  },
  {
   "cell_type": "code",
   "execution_count": 2,
   "metadata": {},
   "outputs": [
    {
     "name": "stdout",
     "output_type": "stream",
     "text": [
      "(60000, 28, 28)\n",
      "(10000, 28, 28)\n"
     ]
    }
   ],
   "source": [
    "(x_train, y_train), (x_test,y_test) = mnist.load_data()\n",
    "print(x_train.shape)  # (60000, 28, 28)\n",
    "print(x_test.shape)   # (10000, 28, 28)"
   ]
  },
  {
   "cell_type": "markdown",
   "metadata": {},
   "source": [
    "可視化圖形結果"
   ]
  },
  {
   "cell_type": "code",
   "execution_count": 4,
   "metadata": {},
   "outputs": [
    {
     "data": {
      "text/plain": [
       "<Figure size 432x288 with 0 Axes>"
      ]
     },
     "metadata": {},
     "output_type": "display_data"
    },
    {
     "data": {
      "image/png": "[encoded data removed]",
      "text/plain": [
       "<Figure size 144x144 with 1 Axes>"
      ]
     },
     "metadata": {
      "needs_background": "light"
     },
     "output_type": "display_data"
    }
   ],
   "source": [
    "import matplotlib.pyplot as plt\n",
    "\n",
    "def printimage(image,title_of_image):\n",
    "    plt.figure()\n",
    "    plt.figure(figsize=(2,2))\n",
    "    plt.imshow(image,cmap='binary')\n",
    "    plt.title(title_of_image)\n",
    "    plt.show()\n",
    "    \n",
    "printimage(x_train[0], y_train[0]) "
   ]
  },
  {
   "cell_type": "markdown",
   "metadata": {},
   "source": [
    "## step3. 資料預處理\n",
    "輸入的資料我們必須先給他們做預處理，這一步我們有幾件事需要做\n",
    "1. 把輸入的資料每一筆化為一維向量\n",
    "2. 特徵標準化資料(nomalization)\n",
    "3. 把label data轉為one-hot-encoding"
   ]
  },
  {
   "cell_type": "code",
   "execution_count": 36,
   "metadata": {},
   "outputs": [
    {
     "name": "stdout",
     "output_type": "stream",
     "text": [
      "(60000, 784)\n",
      "y_label:  5 , and y_train shape: (60000,)\n",
      "after one hot encoding:  [0. 0. 0. 0. 0. 1. 0. 0. 0. 0.] \n",
      "y_train_data shape:  (60000, 10)\n"
     ]
    }
   ],
   "source": [
    "x_train_data = x_train.reshape(60000,-1).astype('float32')/255  \n",
    "x_test_data = x_test.reshape(10000,-1).astype('float32')/255\n",
    "\n",
    "print(x_train_data.shape)\n",
    "\n",
    "y_train_data = np_utils.to_categorical(y_train)\n",
    "y_test_data = np_utils.to_categorical(y_test)\n",
    "\n",
    "print('y_label: ', y_train[0], ', and y_train shape:', y_train.shape)\n",
    "print('after one hot encoding: ', y_train_data[0],'\\ny_train_data shape: ', y_train_data.shape)"
   ]
  },
  {
   "cell_type": "markdown",
   "metadata": {},
   "source": [
    "## step4. 建立模型\n",
    "MLP 多層感知機可拆成三個部分\n",
    "1. 輸入層，其輸入神經元必須與輸入檔案的大小需要一致，在這為28*28=784\n",
    "2. 隱藏層，我們在隱藏層設定激活函數(activation function)與神經元數量\n",
    "3. 輸出層，神經元數量必須與輸出大小匹配，在這裡為10\n",
    "\n",
    "以下我們利用Keras的Sequential mode與Dense全連結層"
   ]
  },
  {
   "cell_type": "code",
   "execution_count": 12,
   "metadata": {},
   "outputs": [
    {
     "name": "stdout",
     "output_type": "stream",
     "text": [
      "WARNING:tensorflow:From C:\\Users\\a2720\\Anaconda3\\lib\\site-packages\\tensorflow\\python\\framework\\op_def_library.py:263: colocate_with (from tensorflow.python.framework.ops) is deprecated and will be removed in a future version.\n",
      "Instructions for updating:\n",
      "Colocations handled automatically by placer.\n",
      "_________________________________________________________________\n",
      "Layer (type)                 Output Shape              Param #   \n",
      "=================================================================\n",
      "dense_1 (Dense)              (None, 100)               78500     \n",
      "_________________________________________________________________\n",
      "dense_2 (Dense)              (None, 10)                1010      \n",
      "=================================================================\n",
      "Total params: 79,510\n",
      "Trainable params: 79,510\n",
      "Non-trainable params: 0\n",
      "_________________________________________________________________\n"
     ]
    }
   ],
   "source": [
    "from keras.models import Sequential\n",
    "from keras.layers import Dense\n",
    "\n",
    "model = Sequential()  # construct the model\n",
    "model.add(Dense(units=100,input_dim=784,activation='relu',kernel_initializer='normal'))\n",
    "model.add(Dense(units=10,activation='softmax',kernel_initializer='normal'))\n",
    "\n",
    "#show the model summary\n",
    "model.summary()"
   ]
  },
  {
   "cell_type": "markdown",
   "metadata": {},
   "source": [
    "## step5. 進行訓練\n",
    "\n",
    "定義訓練方式\n",
    "在compile內定義\n",
    "1. loss function 2.optimizer 一般梯度下降法我們會使用adam\n",
    "\n",
    "進行訓練\n",
    "在fit內設定\n",
    "1. training data 2.taining data label 3. validation split 4. batch_size 5. epochs\n",
    "\n",
    "    * validation_split代表著要把train data 分多少比例出來當作validation set\n",
    "    * batch size 代表每一次update weight 共利用幾筆data\n",
    "    * epochs 表示共利用全部的data訓練的次數"
   ]
  },
  {
   "cell_type": "code",
   "execution_count": 14,
   "metadata": {},
   "outputs": [
    {
     "name": "stdout",
     "output_type": "stream",
     "text": [
      "WARNING:tensorflow:From C:\\Users\\a2720\\Anaconda3\\lib\\site-packages\\tensorflow\\python\\ops\\math_ops.py:3066: to_int32 (from tensorflow.python.ops.math_ops) is deprecated and will be removed in a future version.\n",
      "Instructions for updating:\n",
      "Use tf.cast instead.\n",
      "Train on 48000 samples, validate on 12000 samples\n",
      "Epoch 1/10\n",
      "48000/48000 [==============================] - 4s 87us/step - loss: 0.4596 - acc: 0.8820 - val_loss: 0.2364 - val_acc: 0.9343\n",
      "Epoch 2/10\n",
      "48000/48000 [==============================] - 1s 27us/step - loss: 0.2053 - acc: 0.9432 - val_loss: 0.1708 - val_acc: 0.9548\n",
      "Epoch 3/10\n",
      "48000/48000 [==============================] - 1s 26us/step - loss: 0.1529 - acc: 0.9558 - val_loss: 0.1427 - val_acc: 0.9608\n",
      "Epoch 4/10\n",
      "48000/48000 [==============================] - 1s 28us/step - loss: 0.1210 - acc: 0.9656 - val_loss: 0.1241 - val_acc: 0.9635\n",
      "Epoch 5/10\n",
      "48000/48000 [==============================] - 1s 27us/step - loss: 0.0999 - acc: 0.9716 - val_loss: 0.1137 - val_acc: 0.9658\n",
      "Epoch 6/10\n",
      "48000/48000 [==============================] - 1s 27us/step - loss: 0.0840 - acc: 0.9754 - val_loss: 0.1071 - val_acc: 0.9687\n",
      "Epoch 7/10\n",
      "48000/48000 [==============================] - 1s 27us/step - loss: 0.0721 - acc: 0.9793 - val_loss: 0.1038 - val_acc: 0.9691\n",
      "Epoch 8/10\n",
      "48000/48000 [==============================] - 1s 27us/step - loss: 0.0628 - acc: 0.9815 - val_loss: 0.0971 - val_acc: 0.9718\n",
      "Epoch 9/10\n",
      "48000/48000 [==============================] - 1s 27us/step - loss: 0.0537 - acc: 0.9842 - val_loss: 0.0999 - val_acc: 0.9702\n",
      "Epoch 10/10\n",
      "48000/48000 [==============================] - 1s 27us/step - loss: 0.0467 - acc: 0.9865 - val_loss: 0.0947 - val_acc: 0.9710\n"
     ]
    }
   ],
   "source": [
    "model.compile(loss='categorical_crossentropy', optimizer='adam',metrics=['accuracy'])\n",
    "\n",
    "train_history= model.fit(x_train_data,y_train_data,validation_split=0.2,batch_size=100,epochs=10,verbose=1)"
   ]
  },
  {
   "cell_type": "markdown",
   "metadata": {},
   "source": [
    "可視化我們的訓練結果，在此我們利用存在train_history的data"
   ]
  },
  {
   "cell_type": "code",
   "execution_count": 65,
   "metadata": {
    "scrolled": true
   },
   "outputs": [
    {
     "data": {
      "image/png": "[encoded data removed]",
      "text/plain": [
       "<Figure size 432x288 with 1 Axes>"
      ]
     },
     "metadata": {
      "needs_background": "light"
     },
     "output_type": "display_data"
    }
   ],
   "source": [
    "import matplotlib.pyplot as plt\n",
    "\n",
    "def plot_train_result(train_history,train,val):\n",
    "    plt.figure()\n",
    "    plt.plot(train_history.history[train])\n",
    "    plt.plot(train_history.history[val])\n",
    "    plt.title(train+'_history')\n",
    "    plt.xlabel('Epoch')\n",
    "    plt.ylabel(train,fontsize=20)\n",
    "    plt.show()\n",
    "    \n",
    "plot_train_result(train_history,'acc','val_acc')"
   ]
  },
  {
   "cell_type": "code",
   "execution_count": 66,
   "metadata": {},
   "outputs": [
    {
     "data": {
      "image/png": "[encoded data removed]",
      "text/plain": [
       "<Figure size 432x288 with 1 Axes>"
      ]
     },
     "metadata": {
      "needs_background": "light"
     },
     "output_type": "display_data"
    }
   ],
   "source": [
    "plot_train_result(train_history,'loss','val_loss')"
   ]
  },
  {
   "cell_type": "markdown",
   "metadata": {},
   "source": [
    "我們可以看到loss 與 accuracy 都隨著訓練次數增加而有更好的表現"
   ]
  },
  {
   "cell_type": "markdown",
   "metadata": {},
   "source": [
    "## step6. inference step\n",
    "在這一步我們要利用test data來評估我們的模型在測試資料上的準確率\n",
    "\n",
    "利用evaluate來預測模型"
   ]
  },
  {
   "cell_type": "code",
   "execution_count": 68,
   "metadata": {},
   "outputs": [
    {
     "name": "stdout",
     "output_type": "stream",
     "text": [
      "10000/10000 [==============================] - 0s 27us/step\n",
      "Accuary of test data: 97.3\n"
     ]
    }
   ],
   "source": [
    "score=model.evaluate(x_test_data,y_test_data)\n",
    "predict = model.predict_classes(x_test_data)\n",
    "print('Accuary of test data: %.1f'%(score[1]*100))"
   ]
  },
  {
   "cell_type": "markdown",
   "metadata": {},
   "source": [
    "印出10筆data來看看結果"
   ]
  },
  {
   "cell_type": "code",
   "execution_count": 92,
   "metadata": {},
   "outputs": [
    {
     "data": {
      "image/png": "[encoded data removed]",
      "text/plain": [
       "<Figure size 720x288 with 10 Axes>"
      ]
     },
     "metadata": {},
     "output_type": "display_data"
    }
   ],
   "source": [
    "def printdata(data, label, predict):\n",
    "    plt.figure(figsize=(10,4))\n",
    "    idx=1;\n",
    "    for i in np.random.randint(0,10000,10):\n",
    "        ax = plt.subplot(2,5,idx)\n",
    "        idx+=1\n",
    "        ax.imshow(data[i],cmap='binary')\n",
    "        ax.set_xticks([])\n",
    "        ax.set_yticks([])\n",
    "        ax.set_title('label: '+str(label[i])+', predict: '+str(predict[i]))\n",
    "    plt.show()\n",
    "\n",
    "printdata(x_test,y_test,predict)"
   ]
  },
  {
   "cell_type": "markdown",
   "metadata": {},
   "source": []
  }
 ],
 "metadata": {
  "kernelspec": {
   "display_name": "Python 3",
   "language": "python",
   "name": "python3"
  },
  "language_info": {
   "codemirror_mode": {
    "name": "ipython",
    "version": 3
   },
   "file_extension": ".py",
   "mimetype": "text/x-python",
   "name": "python",
   "nbconvert_exporter": "python",
   "pygments_lexer": "ipython3",
   "version": "3.7.3"
  }
 },
 "nbformat": 4,
 "nbformat_minor": 2
}
