{
 "cells": [
  {
   "cell_type": "markdown",
   "metadata": {},
   "source": [
    "# MNIST-CNN\n",
    "學習利用CNN的模型來做手寫辨識\n",
    "順便比較利用MLP模型訓練出來的結果\n",
    "\n",
    "### What is CNN?\n",
    "[李宏毅CNN講義](http://speech.ee.ntu.edu.tw/~tlkagk/courses/ML_2017/Lecture/CNN.pdf)\n",
    "李老師的講義有CNN的詳細介紹\n",
    "\n",
    "簡單說，CNN與一般的DNN不同之處在於\n",
    "* convolution layer\n",
    "* pooling layer"
   ]
  },
  {
   "cell_type": "markdown",
   "metadata": {},
   "source": [
    "![cnn](https://i.imgur.com/mhrmL69.png)"
   ]
  },
  {
   "cell_type": "markdown",
   "metadata": {},
   "source": [
    "由於影像的特性:  \n",
    "1. 有特徵形狀(如車子的輪子)  \n",
    "2. 出現的位置不固定(取得影像的角度，視角，方向等等都會影響)   \n",
    "3. 壓縮後不會影響整張圖片的判讀\n",
    "\n",
    "所以我們可以利用convolution來萃取出影像的特徵\n",
    "與利用pooling來獲取我們需要的資訊就好\n",
    "\n",
    "其目的有兩點:\n",
    "1. 因為影像的資訊量過於龐大，如一張500x500大小並以24位元儲存顏色的圖片來說，光是輸入層便有500x500x24個神經元，在往後接上全連結層的話其資料量會過於龐大，對於訓練上來說會非常消耗資源。\n",
    "2. 以人類做影像辨識來說，我們看到一個物件的時候，是先對其特徵部位做出反應，如我們看到車子會先看到其有輪子，再來看到車門、窗戶等等，在我們腦中結合這些資訊以後才了解到這是車，所以我們如果使用全連結層做為訓練，是無法做出特徵判斷的，訓練的結果會較差。"
   ]
  },
  {
   "cell_type": "markdown",
   "metadata": {},
   "source": [
    "## Step1. 匯入模組\n",
    "標準起手式XD"
   ]
  },
  {
   "cell_type": "code",
   "execution_count": 3,
   "metadata": {},
   "outputs": [
    {
     "name": "stderr",
     "output_type": "stream",
     "text": [
      "Using TensorFlow backend.\n"
     ]
    }
   ],
   "source": [
    "import numpy as np\n",
    "import pandas as pd\n",
    "import matplotlib.pyplot as plt\n",
    "from keras.datasets import mnist\n",
    "from keras.utils import np_utils "
   ]
  },
  {
   "cell_type": "markdown",
   "metadata": {},
   "source": [
    "## Step2. 資料預處理，這裡處理資料與MLP的部分相差無幾\n",
    "不同的是，在MLP部分我們是用全連結層去接資料，所以需要把資料從28x28轉成784\n",
    "convolution layer的話，我們用二維圖形+第三維(色彩)去接"
   ]
  },
  {
   "cell_type": "code",
   "execution_count": 5,
   "metadata": {},
   "outputs": [
    {
     "name": "stdout",
     "output_type": "stream",
     "text": [
      "(60000, 28, 28)   (60000, 28, 28, 1)\n"
     ]
    }
   ],
   "source": [
    "(x_train, y_train),(x_test, y_test) = mnist.load_data()\n",
    "\n",
    "\n",
    "x_train_r = x_train.reshape(x_train.shape[0],28,28,1).astype('float32')/256\n",
    "x_test_r = x_test.reshape(x_test.shape[0],28,28,1).astype('float32')/256\n",
    "\n",
    "y_train_r = np_utils.to_categorical(y_train)\n",
    "y_test_r = np_utils.to_categorical(y_test)\n",
    "\n",
    "print(x_train.shape, \" \", x_train_r.shape)"
   ]
  },
  {
   "cell_type": "markdown",
   "metadata": {},
   "source": [
    "## Step3. 建立模型\n",
    "在這裡我們用兩層的convolution與兩層的pooling\n",
    "第二層以後便不需要input size\n",
    "\n",
    "在卷積層完成以後需要先平坦化再接上全連結層做資料處理"
   ]
  },
  {
   "cell_type": "code",
   "execution_count": 9,
   "metadata": {},
   "outputs": [
    {
     "name": "stdout",
     "output_type": "stream",
     "text": [
      "WARNING:tensorflow:From C:\\Users\\a2720\\Anaconda3\\lib\\site-packages\\tensorflow\\python\\framework\\op_def_library.py:263: colocate_with (from tensorflow.python.framework.ops) is deprecated and will be removed in a future version.\n",
      "Instructions for updating:\n",
      "Colocations handled automatically by placer.\n",
      "_________________________________________________________________\n",
      "Layer (type)                 Output Shape              Param #   \n",
      "=================================================================\n",
      "conv2d_1 (Conv2D)            (None, 28, 28, 25)        250       \n",
      "_________________________________________________________________\n",
      "max_pooling2d_1 (MaxPooling2 (None, 14, 14, 25)        0         \n",
      "_________________________________________________________________\n",
      "conv2d_2 (Conv2D)            (None, 14, 14, 25)        5650      \n",
      "_________________________________________________________________\n",
      "max_pooling2d_2 (MaxPooling2 (None, 7, 7, 25)          0         \n",
      "_________________________________________________________________\n",
      "flatten_1 (Flatten)          (None, 1225)              0         \n",
      "_________________________________________________________________\n",
      "dense_1 (Dense)              (None, 100)               122600    \n",
      "_________________________________________________________________\n",
      "dense_2 (Dense)              (None, 10)                1010      \n",
      "=================================================================\n",
      "Total params: 129,510\n",
      "Trainable params: 129,510\n",
      "Non-trainable params: 0\n",
      "_________________________________________________________________\n"
     ]
    }
   ],
   "source": [
    "from keras.models import Sequential\n",
    "from keras.layers import Dense,Flatten,Conv2D,MaxPool2D \n",
    "model = Sequential()\n",
    "\n",
    "model.add(Conv2D(filters=25,kernel_size=(3,3),strides=(1,1),padding='same',activation='relu',input_shape=(28,28,1)))\n",
    "model.add(MaxPool2D(pool_size=(2,2),padding='same'))\n",
    "model.add(Conv2D(filters=25,kernel_size=(3,3),strides=(1,1),padding='same',activation='relu'))\n",
    "model.add(MaxPool2D(pool_size=(2,2),padding='same'))\n",
    "model.add(Flatten())\n",
    "model.add(Dense(100,activation='relu'))\n",
    "model.add(Dense(10,activation='softmax'))\n",
    "\n",
    "model.summary()"
   ]
  },
  {
   "cell_type": "markdown",
   "metadata": {},
   "source": [
    "## Step4. 訓練模型\n",
    "與MLP一樣"
   ]
  },
  {
   "cell_type": "code",
   "execution_count": 10,
   "metadata": {},
   "outputs": [
    {
     "name": "stdout",
     "output_type": "stream",
     "text": [
      "WARNING:tensorflow:From C:\\Users\\a2720\\Anaconda3\\lib\\site-packages\\tensorflow\\python\\ops\\math_ops.py:3066: to_int32 (from tensorflow.python.ops.math_ops) is deprecated and will be removed in a future version.\n",
      "Instructions for updating:\n",
      "Use tf.cast instead.\n",
      "Train on 48000 samples, validate on 12000 samples\n",
      "Epoch 1/10\n",
      "48000/48000 [==============================] - 5s 111us/step - loss: 0.2788 - acc: 0.9190 - val_loss: 0.0876 - val_acc: 0.9743\n",
      "Epoch 2/10\n",
      "48000/48000 [==============================] - 2s 46us/step - loss: 0.0715 - acc: 0.9774 - val_loss: 0.0602 - val_acc: 0.9828\n",
      "Epoch 3/10\n",
      "48000/48000 [==============================] - 2s 47us/step - loss: 0.0479 - acc: 0.9850 - val_loss: 0.0487 - val_acc: 0.9855\n",
      "Epoch 4/10\n",
      "48000/48000 [==============================] - 2s 46us/step - loss: 0.0375 - acc: 0.9886 - val_loss: 0.0544 - val_acc: 0.9835\n",
      "Epoch 5/10\n",
      "48000/48000 [==============================] - 2s 46us/step - loss: 0.0293 - acc: 0.9908 - val_loss: 0.0401 - val_acc: 0.9879\n",
      "Epoch 6/10\n",
      "48000/48000 [==============================] - 2s 46us/step - loss: 0.0234 - acc: 0.9926 - val_loss: 0.0434 - val_acc: 0.9868\n",
      "Epoch 7/10\n",
      "48000/48000 [==============================] - 2s 46us/step - loss: 0.0189 - acc: 0.9941 - val_loss: 0.0390 - val_acc: 0.9892\n",
      "Epoch 8/10\n",
      "48000/48000 [==============================] - 2s 47us/step - loss: 0.0163 - acc: 0.9946 - val_loss: 0.0425 - val_acc: 0.9885\n",
      "Epoch 9/10\n",
      "48000/48000 [==============================] - 2s 46us/step - loss: 0.0128 - acc: 0.9955 - val_loss: 0.0437 - val_acc: 0.9883\n",
      "Epoch 10/10\n",
      "48000/48000 [==============================] - 2s 46us/step - loss: 0.0110 - acc: 0.9964 - val_loss: 0.0410 - val_acc: 0.9878\n"
     ]
    }
   ],
   "source": [
    "model.compile(loss='categorical_crossentropy',optimizer='adam',metrics=['accuracy'])\n",
    "\n",
    "train_history = model.fit(x_train_r,y_train_r,validation_split=0.2,batch_size=100,epochs=10,verbose=1)"
   ]
  },
  {
   "cell_type": "markdown",
   "metadata": {},
   "source": [
    "## Step5. 可視化訓練結果"
   ]
  },
  {
   "cell_type": "code",
   "execution_count": 11,
   "metadata": {},
   "outputs": [
    {
     "data": {
      "image/png": "[encoded data removed]",
      "text/plain": [
       "<Figure size 432x288 with 1 Axes>"
      ]
     },
     "metadata": {
      "needs_background": "light"
     },
     "output_type": "display_data"
    }
   ],
   "source": [
    "import matplotlib.pyplot as plt\n",
    "\n",
    "def plot_train_result(train_history,train,val):\n",
    "    plt.figure()\n",
    "    plt.plot(train_history.history[train])\n",
    "    plt.plot(train_history.history[val])\n",
    "    plt.title(train+'_history')\n",
    "    plt.xlabel('Epoch')\n",
    "    plt.ylabel(train,fontsize=20)\n",
    "    plt.show()\n",
    "    \n",
    "plot_train_result(train_history,'acc','val_acc')"
   ]
  },
  {
   "cell_type": "code",
   "execution_count": 12,
   "metadata": {},
   "outputs": [
    {
     "data": {
      "image/png": "[encoded data removed]",
      "text/plain": [
       "<Figure size 432x288 with 1 Axes>"
      ]
     },
     "metadata": {
      "needs_background": "light"
     },
     "output_type": "display_data"
    }
   ],
   "source": [
    "plot_train_result(train_history,'loss','val_loss')"
   ]
  },
  {
   "cell_type": "markdown",
   "metadata": {},
   "source": [
    "## Step6. Inference step"
   ]
  },
  {
   "cell_type": "code",
   "execution_count": 14,
   "metadata": {},
   "outputs": [
    {
     "name": "stdout",
     "output_type": "stream",
     "text": [
      "10000/10000 [==============================] - 0s 47us/step\n",
      "Accuary of test data: 98.9\n"
     ]
    }
   ],
   "source": [
    "score=model.evaluate(x_test_r,y_test_r)\n",
    "predict = model.predict_classes(x_test_r)\n",
    "print('Accuary of test data: %.1f'%(score[1]*100))"
   ]
  },
  {
   "cell_type": "markdown",
   "metadata": {},
   "source": [
    "準確率高達98.9%\n",
    "\n",
    "#### 與先前一樣把結果印出來吧"
   ]
  },
  {
   "cell_type": "code",
   "execution_count": 15,
   "metadata": {},
   "outputs": [
    {
     "data": {
      "image/png": "[encoded data removed]",
      "text/plain": [
       "<Figure size 720x288 with 10 Axes>"
      ]
     },
     "metadata": {},
     "output_type": "display_data"
    }
   ],
   "source": [
    "def printdata(data, label, predict):\n",
    "    plt.figure(figsize=(10,4))\n",
    "    idx=1;\n",
    "    for i in np.random.randint(0,10000,10):\n",
    "        ax = plt.subplot(2,5,idx)\n",
    "        idx+=1\n",
    "        ax.imshow(data[i],cmap='binary')\n",
    "        ax.set_xticks([])\n",
    "        ax.set_yticks([])\n",
    "        ax.set_title('label: '+str(label[i])+', predict: '+str(predict[i]))\n",
    "    plt.show()\n",
    "\n",
    "printdata(x_test,y_test,predict)"
   ]
  },
  {
   "cell_type": "markdown",
   "metadata": {},
   "source": [
    "#### 把訓練好的模型儲存起來吧"
   ]
  },
  {
   "cell_type": "code",
   "execution_count": 20,
   "metadata": {},
   "outputs": [],
   "source": [
    "model.save('mnist_cnn.h5')"
   ]
  },
  {
   "cell_type": "code",
   "execution_count": null,
   "metadata": {},
   "outputs": [],
   "source": []
  }
 ],
 "metadata": {
  "kernelspec": {
   "display_name": "Python 3",
   "language": "python",
   "name": "python3"
  },
  "language_info": {
   "codemirror_mode": {
    "name": "ipython",
    "version": 3
   },
   "file_extension": ".py",
   "mimetype": "text/x-python",
   "name": "python",
   "nbconvert_exporter": "python",
   "pygments_lexer": "ipython3",
   "version": "3.7.3"
  }
 },
 "nbformat": 4,
 "nbformat_minor": 2
}
