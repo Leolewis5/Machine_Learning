{
 "cells": [
  {
   "cell_type": "markdown",
   "metadata": {},
   "source": [
    "# Dog vs Cat - 基於VGG16的transfer learning\n",
    "\n",
    "利用Kaggle的Dogs vs Cats做VGG16的transfer learning 的學習\n",
    "\n",
    "[資料集](https://www.kaggle.com/c/dogs-vs-cats)\n",
    "\n",
    "\n",
    "#### Tranfer learning 有兩種方法可以達到\n",
    "1. 載入pre-training model，把後面幾層的分類層替換掉符合需求的神經元結構，並且重新訓練他們  \n",
    "    優點：可做fine-tune，可以利用data-generator做資料擴充來做更多的訓練\n",
    "    缺點：速度慢，因為必須在每次的訓練都經過特徵擷取的運算\n",
    "  \n",
    "   \n",
    "2. 利用pre-training model的特徵擷取層，讓檔案藉由特徵擷取後的檔案輸入我們設計的神經元訓練\n",
    "    優點：快速，由於把特徵擷取這最肥大的部分以計算完，在後面的訓練只需要提取檔案就好\n",
    "    缺點：除了無法fine-tune與擴充資料以外，還需要把資料都放在記憶體內，這在龐大數據集無法使用"
   ]
  },
  {
   "cell_type": "markdown",
   "metadata": {},
   "source": [
    "## Phase1. 移花接木--在pre-training mode 後面接上自定義神經元\n",
    "\n",
    "### Step1. 資料預處理\n",
    "\n",
    "首先需要把當前的資料另外建立出一個資料夾結構如下\n",
    "目的是為了使用keras內建的檔案處理data generator的load_from_dictionary來利用資料夾做分類\n",
    "\n",
    "```\n",
    "root_floder/  \n",
    "   ├────/TRAIN  \n",
    "   |      ├──/DOG  \n",
    "   |      └──/CAT  \n",
    "   └────/TEST  \n",
    "         ├──/DOG  \n",
    "         └──/CAT  \n",
    "```"
   ]
  },
  {
   "cell_type": "code",
   "execution_count": 1,
   "metadata": {},
   "outputs": [
    {
     "name": "stdout",
     "output_type": "stream",
     "text": [
      "length of train data 25000\n"
     ]
    }
   ],
   "source": [
    "import os\n",
    "\n",
    "ROOT_DIR = os.getcwd()\n",
    "DATA_PATH = os.path.join(ROOT_DIR, \"dogs-vs-cats\")\n",
    "SOURCE_DATA_DIR = os.path.join(DATA_PATH, \"train\")\n",
    "\n",
    "print('length of train data %d' %(len(os.listdir(SOURCE_DATA_DIR))))"
   ]
  },
  {
   "cell_type": "code",
   "execution_count": 2,
   "metadata": {},
   "outputs": [],
   "source": [
    "BASE_DIR = os.path.join(DATA_PATH, \"VGG_Practice\")\n",
    "if not os.path.exists(BASE_DIR):\n",
    "    os.mkdir(BASE_DIR)\n",
    "    \n",
    "TRAIN_DIR = os.path.join(BASE_DIR, \"TRAIN\")\n",
    "if not os.path.exists(TRAIN_DIR):\n",
    "    os.mkdir(TRAIN_DIR)\n",
    "    \n",
    "TEST_DIR = os.path.join(BASE_DIR, \"TEST\")\n",
    "if not os.path.exists(TEST_DIR):\n",
    "    os.mkdir(TEST_DIR)\n",
    "    \n",
    "DOG_TRAIN = os.path.join(TRAIN_DIR, \"DOG\")\n",
    "if not os.path.exists(DOG_TRAIN):\n",
    "    os.mkdir(DOG_TRAIN)\n",
    "\n",
    "CAT_TRAIN = os.path.join(TRAIN_DIR, \"CAT\")\n",
    "if not os.path.exists(CAT_TRAIN):\n",
    "    os.mkdir(CAT_TRAIN)\n",
    "    \n",
    "DOG_TEST = os.path.join(TEST_DIR, \"DOG\")\n",
    "if not os.path.exists(DOG_TEST):\n",
    "    os.mkdir(DOG_TEST)\n",
    "    \n",
    "CAT_TEST = os.path.join(TEST_DIR, \"CAT\")\n",
    "if not os.path.exists(CAT_TEST):\n",
    "    os.mkdir(CAT_TEST)\n"
   ]
  },
  {
   "cell_type": "code",
   "execution_count": 3,
   "metadata": {},
   "outputs": [],
   "source": [
    "import shutil\n",
    "\n",
    "for frame in ['cat.{}.jpg'.format(i) for i in range(0,2000)]:\n",
    "    source = os.path.join(SOURCE_DATA_DIR,frame)\n",
    "    target = os.path.join(CAT_TRAIN,frame)\n",
    "    if not os.path.exists(target):\n",
    "        shutil.copyfile(source,target)\n",
    "\n",
    "for frame in ['dog.{}.jpg'.format(i) for i in range(0,2000)]:\n",
    "    source = os.path.join(SOURCE_DATA_DIR,frame)\n",
    "    target = os.path.join(DOG_TRAIN,frame)\n",
    "    if not os.path.exists(target):\n",
    "        shutil.copyfile(source,target)\n",
    "        \n",
    "for frame in ['cat.{}.jpg'.format(i) for i in range(10000,11000)]:\n",
    "    source = os.path.join(SOURCE_DATA_DIR,frame)\n",
    "    target = os.path.join(CAT_TEST,frame)\n",
    "    if not os.path.exists(target):\n",
    "        shutil.copyfile(source,target)\n",
    "        \n",
    "for frame in ['dog.{}.jpg'.format(i) for i in range(10000,11000)]:\n",
    "    source = os.path.join(SOURCE_DATA_DIR,frame)\n",
    "    target = os.path.join(DOG_TEST,frame)\n",
    "    if not os.path.exists(target):\n",
    "        shutil.copyfile(source,target)"
   ]
  },
  {
   "cell_type": "markdown",
   "metadata": {},
   "source": [
    "#### ImageDataGenerator詳細操作\n",
    "[ImageDataGenerator document](https://keras.io/zh/preprocessing/image/)"
   ]
  },
  {
   "cell_type": "code",
   "execution_count": 4,
   "metadata": {},
   "outputs": [
    {
     "name": "stderr",
     "output_type": "stream",
     "text": [
      "Using TensorFlow backend.\n"
     ]
    },
    {
     "name": "stdout",
     "output_type": "stream",
     "text": [
      "Found 3200 images belonging to 2 classes.\n",
      "Found 800 images belonging to 2 classes.\n",
      "Found 2000 images belonging to 2 classes.\n",
      "train_batch_shape:  (20, 150, 150, 3)\n",
      "label_batch_shape:  (20,)\n"
     ]
    }
   ],
   "source": [
    "from keras.preprocessing.image import ImageDataGenerator\n",
    "\n",
    "# normalizing\n",
    "train_gen = ImageDataGenerator(rescale=1./255,validation_split=0.2)\n",
    "test_gen = ImageDataGenerator(rescale=1./255)\n",
    "\n",
    "batch_size = 20\n",
    "\n",
    "train_datagen = train_gen.flow_from_directory(\n",
    "            TRAIN_DIR,\n",
    "            target_size=(150,150),\n",
    "            batch_size=batch_size,\n",
    "            class_mode='binary',\n",
    "            subset='training'\n",
    "            )\n",
    "\n",
    "validation_datagen = train_gen.flow_from_directory(\n",
    "            TRAIN_DIR,\n",
    "            target_size=(150,150),\n",
    "            batch_size=batch_size,\n",
    "            class_mode='binary',\n",
    "            subset='validation'\n",
    "            )\n",
    "\n",
    "test_datagen = test_gen.flow_from_directory(\n",
    "            TEST_DIR,\n",
    "            target_size=(150,150),\n",
    "            batch_size=batch_size,\n",
    "            class_mode='binary',\n",
    "            )\n",
    "\n",
    "for train_batch, label_batch in train_datagen:\n",
    "    print('train_batch_shape: ', train_batch.shape)\n",
    "    print('label_batch_shape: ', label_batch.shape)\n",
    "    break;"
   ]
  },
  {
   "cell_type": "markdown",
   "metadata": {},
   "source": [
    "### Step 2. model setting\n",
    "\n",
    "這裡我利用VGG16  \n",
    "宣告模型的時候在include_top部分設定為false  \n",
    "這樣就會只會把特徵萃取層取出  \n",
    "可以在model summary看出來"
   ]
  },
  {
   "cell_type": "code",
   "execution_count": 5,
   "metadata": {},
   "outputs": [
    {
     "name": "stdout",
     "output_type": "stream",
     "text": [
      "WARNING:tensorflow:From C:\\Users\\a2720\\Anaconda3\\lib\\site-packages\\tensorflow\\python\\framework\\op_def_library.py:263: colocate_with (from tensorflow.python.framework.ops) is deprecated and will be removed in a future version.\n",
      "Instructions for updating:\n",
      "Colocations handled automatically by placer.\n",
      "_________________________________________________________________\n",
      "Layer (type)                 Output Shape              Param #   \n",
      "=================================================================\n",
      "input_1 (InputLayer)         (None, 150, 150, 3)       0         \n",
      "_________________________________________________________________\n",
      "block1_conv1 (Conv2D)        (None, 150, 150, 64)      1792      \n",
      "_________________________________________________________________\n",
      "block1_conv2 (Conv2D)        (None, 150, 150, 64)      36928     \n",
      "_________________________________________________________________\n",
      "block1_pool (MaxPooling2D)   (None, 75, 75, 64)        0         \n",
      "_________________________________________________________________\n",
      "block2_conv1 (Conv2D)        (None, 75, 75, 128)       73856     \n",
      "_________________________________________________________________\n",
      "block2_conv2 (Conv2D)        (None, 75, 75, 128)       147584    \n",
      "_________________________________________________________________\n",
      "block2_pool (MaxPooling2D)   (None, 37, 37, 128)       0         \n",
      "_________________________________________________________________\n",
      "block3_conv1 (Conv2D)        (None, 37, 37, 256)       295168    \n",
      "_________________________________________________________________\n",
      "block3_conv2 (Conv2D)        (None, 37, 37, 256)       590080    \n",
      "_________________________________________________________________\n",
      "block3_conv3 (Conv2D)        (None, 37, 37, 256)       590080    \n",
      "_________________________________________________________________\n",
      "block3_pool (MaxPooling2D)   (None, 18, 18, 256)       0         \n",
      "_________________________________________________________________\n",
      "block4_conv1 (Conv2D)        (None, 18, 18, 512)       1180160   \n",
      "_________________________________________________________________\n",
      "block4_conv2 (Conv2D)        (None, 18, 18, 512)       2359808   \n",
      "_________________________________________________________________\n",
      "block4_conv3 (Conv2D)        (None, 18, 18, 512)       2359808   \n",
      "_________________________________________________________________\n",
      "block4_pool (MaxPooling2D)   (None, 9, 9, 512)         0         \n",
      "_________________________________________________________________\n",
      "block5_conv1 (Conv2D)        (None, 9, 9, 512)         2359808   \n",
      "_________________________________________________________________\n",
      "block5_conv2 (Conv2D)        (None, 9, 9, 512)         2359808   \n",
      "_________________________________________________________________\n",
      "block5_conv3 (Conv2D)        (None, 9, 9, 512)         2359808   \n",
      "_________________________________________________________________\n",
      "block5_pool (MaxPooling2D)   (None, 4, 4, 512)         0         \n",
      "=================================================================\n",
      "Total params: 14,714,688\n",
      "Trainable params: 14,714,688\n",
      "Non-trainable params: 0\n",
      "_________________________________________________________________\n"
     ]
    }
   ],
   "source": [
    "from keras.applications import VGG16\n",
    "\n",
    "vgg_model = VGG16(weights='imagenet',include_top=False,input_shape=(150,150,3))\n",
    "vgg_model.summary()"
   ]
  },
  {
   "cell_type": "markdown",
   "metadata": {},
   "source": [
    "後面接上自訂定義的神經元  \n",
    "並且把前面的特徵萃取層的訓練關閉  \n",
    "可以看到最後Trainable params: 由14M降到250K"
   ]
  },
  {
   "cell_type": "code",
   "execution_count": 6,
   "metadata": {
    "scrolled": false
   },
   "outputs": [
    {
     "name": "stdout",
     "output_type": "stream",
     "text": [
      "WARNING:tensorflow:From C:\\Users\\a2720\\Anaconda3\\lib\\site-packages\\keras\\backend\\tensorflow_backend.py:3445: calling dropout (from tensorflow.python.ops.nn_ops) with keep_prob is deprecated and will be removed in a future version.\n",
      "Instructions for updating:\n",
      "Please use `rate` instead of `keep_prob`. Rate should be set to `rate = 1 - keep_prob`.\n",
      "_________________________________________________________________\n",
      "Layer (type)                 Output Shape              Param #   \n",
      "=================================================================\n",
      "vgg16 (Model)                (None, 4, 4, 512)         14714688  \n",
      "_________________________________________________________________\n",
      "flatten_1 (Flatten)          (None, 8192)              0         \n",
      "_________________________________________________________________\n",
      "dropout_1 (Dropout)          (None, 8192)              0         \n",
      "_________________________________________________________________\n",
      "dense_1 (Dense)              (None, 10)                81930     \n",
      "_________________________________________________________________\n",
      "dense_2 (Dense)              (None, 10)                110       \n",
      "_________________________________________________________________\n",
      "dense_3 (Dense)              (None, 1)                 11        \n",
      "=================================================================\n",
      "Total params: 14,796,739\n",
      "Trainable params: 82,051\n",
      "Non-trainable params: 14,714,688\n",
      "_________________________________________________________________\n"
     ]
    }
   ],
   "source": [
    "from keras.layers import Dense, Flatten, Dropout\n",
    "from keras.models import Sequential\n",
    "\n",
    "model = Sequential()\n",
    "\n",
    "model.add(vgg_model)\n",
    "model.add(Flatten())\n",
    "model.add(Dropout(0.5))\n",
    "model.add(Dense(10,activation = 'relu'))\n",
    "model.add(Dense(10,activation = 'relu'))\n",
    "model.add(Dense(1,activation = 'sigmoid'))\n",
    "\n",
    "vgg_model.trainable = False\n",
    "    \n",
    "model.summary()"
   ]
  },
  {
   "cell_type": "markdown",
   "metadata": {},
   "source": [
    "### Step3. 訓練與結果\n",
    "\n",
    "由於我們的train_date與validation data是利用preprocess unit的data generator產生的  \n",
    "這裡利用fit_generator來訓練我們的模型  \n",
    "詳細文檔參閱  \n",
    "[fit_generator document](https://keras-cn.readthedocs.io/en/latest/models/model/)\n",
    "\n"
   ]
  },
  {
   "cell_type": "code",
   "execution_count": 7,
   "metadata": {},
   "outputs": [
    {
     "name": "stdout",
     "output_type": "stream",
     "text": [
      "WARNING:tensorflow:From C:\\Users\\a2720\\Anaconda3\\lib\\site-packages\\tensorflow\\python\\ops\\math_ops.py:3066: to_int32 (from tensorflow.python.ops.math_ops) is deprecated and will be removed in a future version.\n",
      "Instructions for updating:\n",
      "Use tf.cast instead.\n",
      "Epoch 1/20\n",
      "160/160 [==============================] - 15s 95ms/step - loss: 0.3929 - acc: 0.8109 - val_loss: 0.2698 - val_acc: 0.8812\n",
      "Epoch 2/20\n",
      "160/160 [==============================] - 12s 75ms/step - loss: 0.2665 - acc: 0.8872 - val_loss: 0.2260 - val_acc: 0.9075\n",
      "Epoch 3/20\n",
      "160/160 [==============================] - 12s 77ms/step - loss: 0.2365 - acc: 0.9050 - val_loss: 0.2088 - val_acc: 0.9237\n",
      "Epoch 4/20\n",
      "160/160 [==============================] - 12s 76ms/step - loss: 0.2221 - acc: 0.9072 - val_loss: 0.1940 - val_acc: 0.9250\n",
      "Epoch 5/20\n",
      "160/160 [==============================] - 12s 75ms/step - loss: 0.1845 - acc: 0.9253 - val_loss: 0.2118 - val_acc: 0.9250\n",
      "Epoch 6/20\n",
      "160/160 [==============================] - 12s 76ms/step - loss: 0.2080 - acc: 0.9156 - val_loss: 0.4672 - val_acc: 0.8087\n",
      "Epoch 7/20\n",
      "160/160 [==============================] - 12s 76ms/step - loss: 0.1707 - acc: 0.9278 - val_loss: 0.2261 - val_acc: 0.9075\n",
      "Epoch 8/20\n",
      "160/160 [==============================] - 12s 77ms/step - loss: 0.1673 - acc: 0.9328 - val_loss: 0.2206 - val_acc: 0.9187\n",
      "Epoch 9/20\n",
      "160/160 [==============================] - 13s 78ms/step - loss: 0.1536 - acc: 0.9366 - val_loss: 0.2137 - val_acc: 0.9262\n",
      "Epoch 10/20\n",
      "160/160 [==============================] - 13s 81ms/step - loss: 0.1456 - acc: 0.9425 - val_loss: 0.2142 - val_acc: 0.9162\n",
      "Epoch 11/20\n",
      "160/160 [==============================] - 12s 78ms/step - loss: 0.1396 - acc: 0.9456 - val_loss: 0.2195 - val_acc: 0.9187\n",
      "Epoch 12/20\n",
      "160/160 [==============================] - 12s 78ms/step - loss: 0.1477 - acc: 0.9387 - val_loss: 0.2366 - val_acc: 0.9112\n",
      "Epoch 13/20\n",
      "160/160 [==============================] - 13s 80ms/step - loss: 0.1489 - acc: 0.9366 - val_loss: 0.2233 - val_acc: 0.9137\n",
      "Epoch 14/20\n",
      "160/160 [==============================] - 13s 81ms/step - loss: 0.1404 - acc: 0.9419 - val_loss: 0.2254 - val_acc: 0.9200\n",
      "Epoch 15/20\n",
      "160/160 [==============================] - 13s 79ms/step - loss: 0.1314 - acc: 0.9450 - val_loss: 0.2215 - val_acc: 0.9125\n",
      "Epoch 16/20\n",
      "160/160 [==============================] - 13s 78ms/step - loss: 0.1227 - acc: 0.9494 - val_loss: 0.2304 - val_acc: 0.9175\n",
      "Epoch 17/20\n",
      "160/160 [==============================] - 12s 77ms/step - loss: 0.1042 - acc: 0.9591 - val_loss: 0.2311 - val_acc: 0.9087\n",
      "Epoch 18/20\n",
      "160/160 [==============================] - 12s 76ms/step - loss: 0.1080 - acc: 0.9550 - val_loss: 0.2356 - val_acc: 0.9200\n",
      "Epoch 19/20\n",
      "160/160 [==============================] - 12s 77ms/step - loss: 0.1123 - acc: 0.9537 - val_loss: 0.2326 - val_acc: 0.9175\n",
      "Epoch 20/20\n",
      "160/160 [==============================] - 12s 75ms/step - loss: 0.0987 - acc: 0.9606 - val_loss: 0.2795 - val_acc: 0.9000\n"
     ]
    }
   ],
   "source": [
    "model.compile(loss='binary_crossentropy',optimizer = 'adam', metrics = ['acc'])\n",
    "\n",
    "train_history = model.fit_generator(train_datagen,\n",
    "                                    steps_per_epoch=train_datagen.samples/batch_size,\n",
    "                                    epochs=20,\n",
    "                                    validation_data=validation_datagen,\n",
    "                                    validation_steps=validation_datagen.samples/batch_size,\n",
    "                                    verbose=1)"
   ]
  },
  {
   "cell_type": "code",
   "execution_count": 18,
   "metadata": {},
   "outputs": [
    {
     "data": {
      "image/png": "[encoded data removed]",
      "text/plain": [
       "<Figure size 432x288 with 1 Axes>"
      ]
     },
     "metadata": {
      "needs_background": "light"
     },
     "output_type": "display_data"
    }
   ],
   "source": [
    "import matplotlib.pyplot as plt\n",
    "\n",
    "def plot_train_result(train_history,train,val):\n",
    "    plt.figure()\n",
    "    plt.plot(train_history.history[train])\n",
    "    plt.plot(train_history.history[val])\n",
    "    plt.legend(['train','validation'])\n",
    "    plt.title(train+'_history')\n",
    "    plt.xlabel('Epoch')\n",
    "    plt.ylabel(train,fontsize=20)\n",
    "    plt.show()\n",
    "    \n",
    "plot_train_result(train_history,'acc','val_acc')"
   ]
  },
  {
   "cell_type": "code",
   "execution_count": 19,
   "metadata": {},
   "outputs": [
    {
     "data": {
      "image/png": "[encoded data removed]",
      "text/plain": [
       "<Figure size 432x288 with 1 Axes>"
      ]
     },
     "metadata": {
      "needs_background": "light"
     },
     "output_type": "display_data"
    }
   ],
   "source": [
    "plot_train_result(train_history,'loss','val_loss')"
   ]
  },
  {
   "cell_type": "code",
   "execution_count": 10,
   "metadata": {},
   "outputs": [
    {
     "name": "stdout",
     "output_type": "stream",
     "text": [
      "test data accuracy: 87.00\n"
     ]
    }
   ],
   "source": [
    "scores = model.evaluate_generator(test_datagen,steps= 10)\n",
    "print('test data accuracy: %.2f' %(scores[1]*100))"
   ]
  },
  {
   "cell_type": "markdown",
   "metadata": {},
   "source": [
    "從測試資料集，我們可以看到這模型獲得了93%的預測成功率"
   ]
  },
  {
   "cell_type": "code",
   "execution_count": 11,
   "metadata": {},
   "outputs": [],
   "source": [
    "# this is use to save mode\n",
    "#model.save('dog-vs-cat-vgg16.h5')"
   ]
  },
  {
   "cell_type": "markdown",
   "metadata": {},
   "source": [
    "## Phase 2. 利用pre-training mode 提取特徵在放入我們的模型\n",
    "\n",
    "### Step1. 提取特徵萃取資料\n",
    "\n",
    "利用Datagen來提取特徵資料"
   ]
  },
  {
   "cell_type": "code",
   "execution_count": 12,
   "metadata": {},
   "outputs": [],
   "source": [
    "import os\n",
    "import numpy as np\n",
    "from keras.preprocessing.image import ImageDataGenerator\n",
    "\n",
    "datagen = ImageDataGenerator(1./255)\n",
    "\n",
    "\n",
    "\n",
    "def ExtractData(DIR):  # trager folder\n",
    "    sub_dir=os.path.join(DIR,'DOG')\n",
    "    total_data = len(os.listdir(sub_dir))*2\n",
    "    \n",
    "    # first, need to create container\n",
    "    feature_data = np.zeros(shape=(total_data,4,4,512)) # meet VGG16 last output shape\n",
    "    label_data = np.zeros(shape=(total_data))\n",
    "    \n",
    "    feture_gen = datagen.flow_from_directory(\n",
    "            DIR,\n",
    "            target_size=(150,150),\n",
    "            batch_size=100,\n",
    "            class_mode='binary')\n",
    "    i=0\n",
    "    for feature , label in feture_gen:\n",
    "        feature = vgg_model.predict(feature)\n",
    "        feature_data[i*100:(i+1)*100]=feature\n",
    "        label_data[i*100:(i+1)*100]=label\n",
    "        i+=1\n",
    "        if i >= total_data/100:\n",
    "            break\n",
    "    \n",
    "    return feature_data , label_data"
   ]
  },
  {
   "cell_type": "markdown",
   "metadata": {},
   "source": [
    "必須另外設置一組Validation用的圖片集"
   ]
  },
  {
   "cell_type": "code",
   "execution_count": 13,
   "metadata": {},
   "outputs": [],
   "source": [
    "VAL_DIR = os.path.join(BASE_DIR, \"Validation\")\n",
    "if not os.path.exists(VAL_DIR):\n",
    "    os.mkdir(VAL_DIR)\n",
    "    \n",
    "DOG_VAL = os.path.join(VAL_DIR, \"DOG\")\n",
    "if not os.path.exists(DOG_VAL):\n",
    "    os.mkdir(DOG_VAL)\n",
    "\n",
    "CAT_VAL = os.path.join(VAL_DIR, \"CAT\")\n",
    "if not os.path.exists(CAT_VAL):\n",
    "    os.mkdir(CAT_VAL)\n",
    "    \n",
    "for frame in ['cat.{}.jpg'.format(i) for i in range(2001,3001)]:\n",
    "    source = os.path.join(SOURCE_DATA_DIR,frame)\n",
    "    target = os.path.join(CAT_VAL,frame)\n",
    "    if not os.path.exists(target):\n",
    "        shutil.copyfile(source,target)\n",
    "\n",
    "for frame in ['dog.{}.jpg'.format(i) for i in range(2001,3001)]:\n",
    "    source = os.path.join(SOURCE_DATA_DIR,frame)\n",
    "    target = os.path.join(DOG_VAL,frame)\n",
    "    if not os.path.exists(target):\n",
    "        shutil.copyfile(source,target)"
   ]
  },
  {
   "cell_type": "markdown",
   "metadata": {},
   "source": [
    "利用剛剛定義的特徵提取函數來提取資料"
   ]
  },
  {
   "cell_type": "code",
   "execution_count": 14,
   "metadata": {},
   "outputs": [
    {
     "name": "stdout",
     "output_type": "stream",
     "text": [
      "Found 4000 images belonging to 2 classes.\n"
     ]
    },
    {
     "name": "stderr",
     "output_type": "stream",
     "text": [
      "C:\\Users\\a2720\\Anaconda3\\lib\\site-packages\\keras_preprocessing\\image\\image_data_generator.py:699: UserWarning: This ImageDataGenerator specifies `featurewise_center`, but it hasn't been fit on any training data. Fit it first by calling `.fit(numpy_data)`.\n",
      "  warnings.warn('This ImageDataGenerator specifies '\n"
     ]
    },
    {
     "name": "stdout",
     "output_type": "stream",
     "text": [
      "Found 2000 images belonging to 2 classes.\n",
      "Found 2000 images belonging to 2 classes.\n",
      "Train_data shape:  (4000, 4, 4, 512)  and label shape:  (4000,)\n",
      "Test_data shape:  (2000, 4, 4, 512)  and label shape:  (2000,)\n",
      "Val_data shape:  (2000, 4, 4, 512)  and label shape:  (2000,)\n"
     ]
    }
   ],
   "source": [
    "Train_data, Train_label = ExtractData(TRAIN_DIR)\n",
    "Test_data, Test_label = ExtractData(TEST_DIR)\n",
    "Val_data, Val_label = ExtractData(VAL_DIR)\n",
    "\n",
    "print('Train_data shape: ', Train_data.shape,' and label shape: ',  Train_label.shape)\n",
    "print('Test_data shape: ', Test_data.shape,' and label shape: ',  Test_label.shape)\n",
    "print('Val_data shape: ', Val_data.shape,' and label shape: ',  Val_label.shape)"
   ]
  },
  {
   "cell_type": "markdown",
   "metadata": {},
   "source": [
    "輸出的資料為特層萃取的結果，我們需要把他們壓扁\n",
    "來給全連結層作為輸入使用"
   ]
  },
  {
   "cell_type": "code",
   "execution_count": 15,
   "metadata": {},
   "outputs": [],
   "source": [
    "Train_data = Train_data.reshape(4000,-1)\n",
    "Test_data = Test_data.reshape(2000,-1)\n",
    "Val_data  = Val_data.reshape(2000,-1)"
   ]
  },
  {
   "cell_type": "markdown",
   "metadata": {},
   "source": [
    "### Step2. 搭建模型與訓練"
   ]
  },
  {
   "cell_type": "code",
   "execution_count": 20,
   "metadata": {},
   "outputs": [
    {
     "name": "stdout",
     "output_type": "stream",
     "text": [
      "_________________________________________________________________\n",
      "Layer (type)                 Output Shape              Param #   \n",
      "=================================================================\n",
      "dense_7 (Dense)              (None, 10)                81930     \n",
      "_________________________________________________________________\n",
      "dense_8 (Dense)              (None, 10)                110       \n",
      "_________________________________________________________________\n",
      "dense_9 (Dense)              (None, 1)                 11        \n",
      "=================================================================\n",
      "Total params: 82,051\n",
      "Trainable params: 82,051\n",
      "Non-trainable params: 0\n",
      "_________________________________________________________________\n"
     ]
    }
   ],
   "source": [
    "model2 = Sequential()\n",
    "\n",
    "model2.add(Dense(10,input_dim=4*4*512,activation='relu'))\n",
    "model2.add(Dense(10,activation = 'relu'))\n",
    "model2.add(Dense(1,activation = 'sigmoid'))\n",
    "\n",
    "model2.summary()"
   ]
  },
  {
   "cell_type": "markdown",
   "metadata": {},
   "source": [
    "可以看到訓練參數一樣是250K\n",
    "\n",
    "### Step3. 模型訓練與評估\n",
    "用跟剛剛一樣的方法訓練"
   ]
  },
  {
   "cell_type": "code",
   "execution_count": 21,
   "metadata": {},
   "outputs": [
    {
     "name": "stdout",
     "output_type": "stream",
     "text": [
      "Train on 4000 samples, validate on 2000 samples\n",
      "Epoch 1/20\n",
      "4000/4000 [==============================] - 1s 203us/step - loss: 0.5752 - acc: 0.8775 - val_loss: 0.1962 - val_acc: 0.9155\n",
      "Epoch 2/20\n",
      "4000/4000 [==============================] - 0s 123us/step - loss: 0.1109 - acc: 0.9530 - val_loss: 0.1838 - val_acc: 0.9320\n",
      "Epoch 3/20\n",
      "4000/4000 [==============================] - 0s 122us/step - loss: 0.0628 - acc: 0.9665 - val_loss: 0.2223 - val_acc: 0.9360\n",
      "Epoch 4/20\n",
      "4000/4000 [==============================] - 0s 121us/step - loss: 0.0412 - acc: 0.9785 - val_loss: 0.2197 - val_acc: 0.9425\n",
      "Epoch 5/20\n",
      "4000/4000 [==============================] - 1s 126us/step - loss: 0.0272 - acc: 0.9868 - val_loss: 0.2344 - val_acc: 0.9390\n",
      "Epoch 6/20\n",
      "4000/4000 [==============================] - 0s 121us/step - loss: 0.0213 - acc: 0.9885 - val_loss: 0.2560 - val_acc: 0.9400\n",
      "Epoch 7/20\n",
      "4000/4000 [==============================] - 0s 122us/step - loss: 0.0163 - acc: 0.9913 - val_loss: 0.3026 - val_acc: 0.9435\n",
      "Epoch 8/20\n",
      "4000/4000 [==============================] - 0s 124us/step - loss: 0.0127 - acc: 0.9935 - val_loss: 0.2792 - val_acc: 0.9420\n",
      "Epoch 9/20\n",
      "4000/4000 [==============================] - 1s 125us/step - loss: 0.0098 - acc: 0.9950 - val_loss: 0.3393 - val_acc: 0.9410\n",
      "Epoch 10/20\n",
      "4000/4000 [==============================] - 0s 124us/step - loss: 0.0100 - acc: 0.9960 - val_loss: 0.3219 - val_acc: 0.9350\n",
      "Epoch 11/20\n",
      "4000/4000 [==============================] - 0s 123us/step - loss: 0.0067 - acc: 0.9978 - val_loss: 0.3309 - val_acc: 0.9430\n",
      "Epoch 12/20\n",
      "4000/4000 [==============================] - 0s 121us/step - loss: 0.0053 - acc: 0.9978 - val_loss: 0.3470 - val_acc: 0.9395\n",
      "Epoch 13/20\n",
      "4000/4000 [==============================] - 0s 123us/step - loss: 0.0045 - acc: 0.9983 - val_loss: 0.3677 - val_acc: 0.9465\n",
      "Epoch 14/20\n",
      "4000/4000 [==============================] - 0s 121us/step - loss: 0.0042 - acc: 0.9983 - val_loss: 0.3683 - val_acc: 0.9345\n",
      "Epoch 15/20\n",
      "4000/4000 [==============================] - 0s 122us/step - loss: 0.0037 - acc: 0.9988 - val_loss: 0.3681 - val_acc: 0.9420\n",
      "Epoch 16/20\n",
      "4000/4000 [==============================] - 1s 127us/step - loss: 0.0036 - acc: 0.9988 - val_loss: 0.3785 - val_acc: 0.9405\n",
      "Epoch 17/20\n",
      "4000/4000 [==============================] - 1s 125us/step - loss: 0.0035 - acc: 0.9988 - val_loss: 0.3863 - val_acc: 0.9385\n",
      "Epoch 18/20\n",
      "4000/4000 [==============================] - 0s 122us/step - loss: 0.0035 - acc: 0.9988 - val_loss: 0.3960 - val_acc: 0.9360\n",
      "Epoch 19/20\n",
      "4000/4000 [==============================] - 0s 123us/step - loss: 0.0030 - acc: 0.9985 - val_loss: 0.3985 - val_acc: 0.9370\n",
      "Epoch 20/20\n",
      "4000/4000 [==============================] - 0s 123us/step - loss: 0.0027 - acc: 0.9988 - val_loss: 0.4054 - val_acc: 0.9375\n"
     ]
    }
   ],
   "source": [
    "model2.compile(loss='binary_crossentropy',optimizer = 'adam', metrics = ['acc'])\n",
    "\n",
    "train_history2 = model2.fit(Train_data,Train_label,batch_size=100,epochs=20,validation_data=(Val_data,Val_label),verbose=1)"
   ]
  },
  {
   "cell_type": "markdown",
   "metadata": {},
   "source": [
    "由於特徵已經先算完了，所以運算速度跟Phase1比起來相差巨大，每個epoch只需要一秒"
   ]
  },
  {
   "cell_type": "code",
   "execution_count": 25,
   "metadata": {},
   "outputs": [
    {
     "data": {
      "image/png": "[encoded data removed]",
      "text/plain": [
       "<Figure size 432x288 with 1 Axes>"
      ]
     },
     "metadata": {
      "needs_background": "light"
     },
     "output_type": "display_data"
    }
   ],
   "source": [
    "plot_train_result(train_history2,'acc','val_acc')"
   ]
  },
  {
   "cell_type": "code",
   "execution_count": 26,
   "metadata": {},
   "outputs": [
    {
     "data": {
      "image/png": "[encoded data removed]",
      "text/plain": [
       "<Figure size 432x288 with 1 Axes>"
      ]
     },
     "metadata": {
      "needs_background": "light"
     },
     "output_type": "display_data"
    }
   ],
   "source": [
    "plot_train_result(train_history2,'loss','val_loss')"
   ]
  },
  {
   "cell_type": "code",
   "execution_count": 24,
   "metadata": {},
   "outputs": [
    {
     "name": "stdout",
     "output_type": "stream",
     "text": [
      "2000/2000 [==============================] - 0s 97us/step\n",
      "Accuary of test data: 94.5\n"
     ]
    }
   ],
   "source": [
    "score2 = model2.evaluate(Test_data,Test_label)\n",
    "\n",
    "print('Accuary of test data: %.1f'%(score2[1]*100))"
   ]
  },
  {
   "cell_type": "code",
   "execution_count": 27,
   "metadata": {},
   "outputs": [],
   "source": [
    "model2.save('dog-cat-vgg.h5')"
   ]
  },
  {
   "cell_type": "markdown",
   "metadata": {},
   "source": [
    "### Summary\n",
    "\n",
    "由於我是利用VGG16,原本imagenet的分類器內已經有貓跟狗的訓練集了\n",
    "所以在這裡利用VGG16來做貓狗大戰得到的分數都滿高的"
   ]
  }
 ],
 "metadata": {
  "kernelspec": {
   "display_name": "Python 3",
   "language": "python",
   "name": "python3"
  },
  "language_info": {
   "codemirror_mode": {
    "name": "ipython",
    "version": 3
   },
   "file_extension": ".py",
   "mimetype": "text/x-python",
   "name": "python",
   "nbconvert_exporter": "python",
   "pygments_lexer": "ipython3",
   "version": "3.7.3"
  }
 },
 "nbformat": 4,
 "nbformat_minor": 2
}
