{
 "cells": [
  {
   "cell_type": "markdown",
   "metadata": {},
   "source": [
    "# Dog vs Cat - 基於VGG16的transfer learning\n",
    "\n",
    "利用Kaggle的Dogs vs Cats做VGG16的transfer learning 的學習\n",
    "\n",
    "[資料集](https://www.kaggle.com/c/dogs-vs-cats)\n",
    "\n",
    "\n",
    "#### Tranfer learning 有兩種方法可以達到\n",
    "1. 載入pre-training model，把後面幾層的分類層替換掉符合需求的神經元結構，並且重新訓練他們  \n",
    "    優點：可做fine-tune，可以利用data-generator做資料擴充來做更多的訓練\n",
    "    缺點：速度慢，因為必須在每次的訓練都經過特徵擷取的運算\n",
    "  \n",
    "   \n",
    "2. 利用pre-training model的特徵擷取層，讓檔案藉由特徵擷取後的檔案輸入我們設計的神經元訓練\n",
    "    優點：快速，由於把特徵擷取這最肥大的部分以計算完，在後面的訓練只需要提取檔案就好\n",
    "    缺點：除了無法fine-tune與擴充資料以外，還需要把資料都放在記憶體內，這在龐大數據集無法使用"
   ]
  },
  {
   "cell_type": "markdown",
   "metadata": {},
   "source": [
    "## Phase1. 移花接木--在pre-training mode 後面接上自定義神經元\n",
    "\n",
    "### Step1. 資料預處理\n",
    "\n",
    "首先需要把當前的資料另外建立出一個資料夾結構如下\n",
    "目的是為了使用keras內建的檔案處理data generator的load_from_dictionary來利用資料夾做分類\n",
    "\n",
    "```\n",
    "root_floder/  \n",
    "   ├────/TRAIN  \n",
    "   |      ├──/DOG  \n",
    "   |      └──/CAT  \n",
    "   └────/TEST  \n",
    "         ├──/DOG  \n",
    "         └──/CAT  \n",
    "```"
   ]
  },
  {
   "cell_type": "code",
   "execution_count": 5,
   "metadata": {},
   "outputs": [
    {
     "name": "stdout",
     "output_type": "stream",
     "text": [
      "length of train data 2\n"
     ]
    }
   ],
   "source": [
    "import os\n",
    "\n",
    "ROOT_DIR = os.getcwd()\n",
    "DATA_PATH = os.path.join(ROOT_DIR, \"dogs-vs-cats\")\n",
    "SOURCE_DATA_DIR = os.path.join(DATA_PATH, \"train\")\n",
    "\n",
    "print('length of train data %d' %(len(os.listdir(TRAIN_DIR))))"
   ]
  },
  {
   "cell_type": "code",
   "execution_count": 6,
   "metadata": {},
   "outputs": [],
   "source": [
    "BASE_DIR = os.path.join(DATA_PATH, \"VGG_Practice\")\n",
    "if not os.path.exists(BASE_DIR):\n",
    "    os.mkdir(BASE_DIR)\n",
    "    \n",
    "TRAIN_DIR = os.path.join(BASE_DIR, \"TRAIN\")\n",
    "if not os.path.exists(TRAIN_DIR):\n",
    "    os.mkdir(TRAIN_DIR)\n",
    "    \n",
    "TEST_DIR = os.path.join(BASE_DIR, \"TEST\")\n",
    "if not os.path.exists(TEST_DIR):\n",
    "    os.mkdir(TEST_DIR)\n",
    "    \n",
    "DOG_TRAIN = os.path.join(TRAIN_DIR, \"DOG\")\n",
    "if not os.path.exists(DOG_TRAIN):\n",
    "    os.mkdir(DOG_TRAIN)\n",
    "\n",
    "CAT_TRAIN = os.path.join(TRAIN_DIR, \"CAT\")\n",
    "if not os.path.exists(CAT_TRAIN):\n",
    "    os.mkdir(CAT_TRAIN)\n",
    "    \n",
    "DOG_TEST = os.path.join(TEST_DIR, \"DOG\")\n",
    "if not os.path.exists(DOG_TEST):\n",
    "    os.mkdir(DOG_TEST)\n",
    "    \n",
    "CAT_TEST = os.path.join(TEST_DIR, \"CAT\")\n",
    "if not os.path.exists(CAT_TEST):\n",
    "    os.mkdir(CAT_TEST)\n"
   ]
  },
  {
   "cell_type": "code",
   "execution_count": 7,
   "metadata": {},
   "outputs": [],
   "source": [
    "import shutil\n",
    "\n",
    "for frame in ['cat.{}.jpg'.format(i) for i in range(0,2000)]:\n",
    "    source = os.path.join(SOURCE_DATA_DIR,frame)\n",
    "    target = os.path.join(CAT_TRAIN,frame)\n",
    "    if not os.path.exists(target):\n",
    "        shutil.copyfile(source,target)\n",
    "\n",
    "for frame in ['dog.{}.jpg'.format(i) for i in range(0,2000)]:\n",
    "    source = os.path.join(SOURCE_DATA_DIR,frame)\n",
    "    target = os.path.join(DOG_TRAIN,frame)\n",
    "    if not os.path.exists(target):\n",
    "        shutil.copyfile(source,target)\n",
    "        \n",
    "for frame in ['cat.{}.jpg'.format(i) for i in range(10000,11000)]:\n",
    "    source = os.path.join(SOURCE_DATA_DIR,frame)\n",
    "    target = os.path.join(CAT_TEST,frame)\n",
    "    if not os.path.exists(target):\n",
    "        shutil.copyfile(source,target)\n",
    "        \n",
    "for frame in ['dog.{}.jpg'.format(i) for i in range(10000,11000)]:\n",
    "    source = os.path.join(SOURCE_DATA_DIR,frame)\n",
    "    target = os.path.join(DOG_TEST,frame)\n",
    "    if not os.path.exists(target):\n",
    "        shutil.copyfile(source,target)"
   ]
  },
  {
   "cell_type": "markdown",
   "metadata": {},
   "source": [
    "#### ImageDataGenerator詳細操作\n",
    "[ImageDataGenerator document](https://keras.io/zh/preprocessing/image/)"
   ]
  },
  {
   "cell_type": "code",
   "execution_count": 9,
   "metadata": {},
   "outputs": [
    {
     "name": "stdout",
     "output_type": "stream",
     "text": [
      "Found 3200 images belonging to 2 classes.\n",
      "Found 800 images belonging to 2 classes.\n",
      "Found 2000 images belonging to 2 classes.\n",
      "train_batch_shape:  (20, 224, 224, 3)\n",
      "label_batch_shape:  (20,)\n"
     ]
    }
   ],
   "source": [
    "from keras.preprocessing.image import ImageDataGenerator\n",
    "\n",
    "# normalizing\n",
    "train_gen = ImageDataGenerator(rescale=1./255,validation_split=0.2)\n",
    "test_gen = ImageDataGenerator(rescale=1./255)\n",
    "\n",
    "batch_size = 20\n",
    "\n",
    "train_datagen = train_gen.flow_from_directory(\n",
    "            TRAIN_DIR,\n",
    "            target_size=(224,224),\n",
    "            batch_size=batch_size,\n",
    "            class_mode='binary',\n",
    "            subset='training'\n",
    "            )\n",
    "\n",
    "validation_datagen = train_gen.flow_from_directory(\n",
    "            TRAIN_DIR,\n",
    "            target_size=(224,224),\n",
    "            batch_size=batch_size,\n",
    "            class_mode='binary',\n",
    "            subset='validation'\n",
    "            )\n",
    "\n",
    "test_datagen = test_gen.flow_from_directory(\n",
    "            TEST_DIR,\n",
    "            target_size=(224,224),\n",
    "            batch_size=batch_size,\n",
    "            class_mode='binary',\n",
    "            )\n",
    "\n",
    "for train_batch, label_batch in train_datagen:\n",
    "    print('train_batch_shape: ', train_batch.shape)\n",
    "    print('label_batch_shape: ', label_batch.shape)\n",
    "    break;"
   ]
  },
  {
   "cell_type": "markdown",
   "metadata": {},
   "source": [
    "### Step 2. model setting\n",
    "\n",
    "這裡我利用VGG16  \n",
    "宣告模型的時候在include_top部分設定為false  \n",
    "這樣就會只會把特徵萃取層取出  \n",
    "可以在model summary看出來"
   ]
  },
  {
   "cell_type": "code",
   "execution_count": 10,
   "metadata": {},
   "outputs": [
    {
     "name": "stdout",
     "output_type": "stream",
     "text": [
      "WARNING:tensorflow:From C:\\Users\\a2720\\Anaconda3\\lib\\site-packages\\tensorflow\\python\\framework\\op_def_library.py:263: colocate_with (from tensorflow.python.framework.ops) is deprecated and will be removed in a future version.\n",
      "Instructions for updating:\n",
      "Colocations handled automatically by placer.\n",
      "_________________________________________________________________\n",
      "Layer (type)                 Output Shape              Param #   \n",
      "=================================================================\n",
      "input_1 (InputLayer)         (None, 224, 224, 3)       0         \n",
      "_________________________________________________________________\n",
      "block1_conv1 (Conv2D)        (None, 224, 224, 64)      1792      \n",
      "_________________________________________________________________\n",
      "block1_conv2 (Conv2D)        (None, 224, 224, 64)      36928     \n",
      "_________________________________________________________________\n",
      "block1_pool (MaxPooling2D)   (None, 112, 112, 64)      0         \n",
      "_________________________________________________________________\n",
      "block2_conv1 (Conv2D)        (None, 112, 112, 128)     73856     \n",
      "_________________________________________________________________\n",
      "block2_conv2 (Conv2D)        (None, 112, 112, 128)     147584    \n",
      "_________________________________________________________________\n",
      "block2_pool (MaxPooling2D)   (None, 56, 56, 128)       0         \n",
      "_________________________________________________________________\n",
      "block3_conv1 (Conv2D)        (None, 56, 56, 256)       295168    \n",
      "_________________________________________________________________\n",
      "block3_conv2 (Conv2D)        (None, 56, 56, 256)       590080    \n",
      "_________________________________________________________________\n",
      "block3_conv3 (Conv2D)        (None, 56, 56, 256)       590080    \n",
      "_________________________________________________________________\n",
      "block3_pool (MaxPooling2D)   (None, 28, 28, 256)       0         \n",
      "_________________________________________________________________\n",
      "block4_conv1 (Conv2D)        (None, 28, 28, 512)       1180160   \n",
      "_________________________________________________________________\n",
      "block4_conv2 (Conv2D)        (None, 28, 28, 512)       2359808   \n",
      "_________________________________________________________________\n",
      "block4_conv3 (Conv2D)        (None, 28, 28, 512)       2359808   \n",
      "_________________________________________________________________\n",
      "block4_pool (MaxPooling2D)   (None, 14, 14, 512)       0         \n",
      "_________________________________________________________________\n",
      "block5_conv1 (Conv2D)        (None, 14, 14, 512)       2359808   \n",
      "_________________________________________________________________\n",
      "block5_conv2 (Conv2D)        (None, 14, 14, 512)       2359808   \n",
      "_________________________________________________________________\n",
      "block5_conv3 (Conv2D)        (None, 14, 14, 512)       2359808   \n",
      "_________________________________________________________________\n",
      "block5_pool (MaxPooling2D)   (None, 7, 7, 512)         0         \n",
      "=================================================================\n",
      "Total params: 14,714,688\n",
      "Trainable params: 14,714,688\n",
      "Non-trainable params: 0\n",
      "_________________________________________________________________\n"
     ]
    }
   ],
   "source": [
    "from keras.applications import VGG16\n",
    "\n",
    "vgg_model = VGG16(weights='imagenet',include_top=False,input_shape=(224,224,3))\n",
    "vgg_model.summary()"
   ]
  },
  {
   "cell_type": "markdown",
   "metadata": {},
   "source": [
    "後面接上自訂定義的神經元  \n",
    "並且把前面的特徵萃取層的訓練關閉  \n",
    "可以看到最後Trainable params: 由14M降到250K"
   ]
  },
  {
   "cell_type": "code",
   "execution_count": 17,
   "metadata": {},
   "outputs": [
    {
     "name": "stdout",
     "output_type": "stream",
     "text": [
      "_________________________________________________________________\n",
      "Layer (type)                 Output Shape              Param #   \n",
      "=================================================================\n",
      "vgg16 (Model)                (None, 7, 7, 512)         14714688  \n",
      "_________________________________________________________________\n",
      "flatten_3 (Flatten)          (None, 25088)             0         \n",
      "_________________________________________________________________\n",
      "dropout_3 (Dropout)          (None, 25088)             0         \n",
      "_________________________________________________________________\n",
      "dense_7 (Dense)              (None, 10)                250890    \n",
      "_________________________________________________________________\n",
      "dense_8 (Dense)              (None, 10)                110       \n",
      "_________________________________________________________________\n",
      "dense_9 (Dense)              (None, 1)                 11        \n",
      "=================================================================\n",
      "Total params: 14,965,699\n",
      "Trainable params: 251,011\n",
      "Non-trainable params: 14,714,688\n",
      "_________________________________________________________________\n"
     ]
    }
   ],
   "source": [
    "from keras.layers import Dense, Flatten, Dropout\n",
    "from keras.models import Sequential\n",
    "\n",
    "model = Sequential()\n",
    "\n",
    "model.add(vgg_model)\n",
    "model.add(Flatten())\n",
    "model.add(Dropout(0.5))\n",
    "model.add(Dense(10,activation = 'relu'))\n",
    "model.add(Dense(10,activation = 'relu'))\n",
    "model.add(Dense(1,activation = 'sigmoid'))\n",
    "\n",
    "vgg_model.trainable = False\n",
    "    \n",
    "model.summary()"
   ]
  },
  {
   "cell_type": "markdown",
   "metadata": {},
   "source": [
    "### Step3. 訓練與結果\n",
    "\n",
    "由於我們的train_date與validation data是利用preprocess unit的data generator產生的  \n",
    "這裡利用fit_generator來訓練我們的模型  \n",
    "詳細文檔參閱  \n",
    "[fit_generator document](https://keras-cn.readthedocs.io/en/latest/models/model/)\n",
    "\n"
   ]
  },
  {
   "cell_type": "code",
   "execution_count": 24,
   "metadata": {},
   "outputs": [
    {
     "name": "stdout",
     "output_type": "stream",
     "text": [
      "Epoch 1/20\n",
      "160/160 [==============================] - 23s 145ms/step - loss: 0.0369 - acc: 0.9862 - val_loss: 0.2435 - val_acc: 0.9250\n",
      "Epoch 2/20\n",
      "160/160 [==============================] - 23s 145ms/step - loss: 0.0311 - acc: 0.9881 - val_loss: 0.2429 - val_acc: 0.9250\n",
      "Epoch 3/20\n",
      "160/160 [==============================] - 23s 144ms/step - loss: 0.0381 - acc: 0.9859 - val_loss: 0.2205 - val_acc: 0.9362\n",
      "Epoch 4/20\n",
      "160/160 [==============================] - 23s 145ms/step - loss: 0.0393 - acc: 0.9825 - val_loss: 0.2056 - val_acc: 0.9325\n",
      "Epoch 5/20\n",
      "160/160 [==============================] - 23s 146ms/step - loss: 0.0328 - acc: 0.9881 - val_loss: 0.2791 - val_acc: 0.9225\n",
      "Epoch 6/20\n",
      "160/160 [==============================] - 23s 145ms/step - loss: 0.0418 - acc: 0.9856 - val_loss: 0.2878 - val_acc: 0.9175\n",
      "Epoch 7/20\n",
      "160/160 [==============================] - 23s 146ms/step - loss: 0.0484 - acc: 0.9809 - val_loss: 0.3170 - val_acc: 0.9150\n",
      "Epoch 8/20\n",
      "160/160 [==============================] - 23s 146ms/step - loss: 0.0335 - acc: 0.9872 - val_loss: 0.2586 - val_acc: 0.9300\n",
      "Epoch 9/20\n",
      "160/160 [==============================] - 23s 146ms/step - loss: 0.0261 - acc: 0.9897 - val_loss: 0.2290 - val_acc: 0.9362\n",
      "Epoch 10/20\n",
      "160/160 [==============================] - 24s 147ms/step - loss: 0.0301 - acc: 0.9862 - val_loss: 0.2318 - val_acc: 0.9300\n",
      "Epoch 11/20\n",
      "160/160 [==============================] - 23s 146ms/step - loss: 0.0296 - acc: 0.9891 - val_loss: 0.2019 - val_acc: 0.9375\n",
      "Epoch 12/20\n",
      "160/160 [==============================] - 24s 149ms/step - loss: 0.0453 - acc: 0.9828 - val_loss: 0.2482 - val_acc: 0.9312\n",
      "Epoch 13/20\n",
      "160/160 [==============================] - 24s 148ms/step - loss: 0.0300 - acc: 0.9878 - val_loss: 0.2765 - val_acc: 0.9262\n",
      "Epoch 14/20\n",
      "160/160 [==============================] - 24s 147ms/step - loss: 0.0254 - acc: 0.9928 - val_loss: 0.2498 - val_acc: 0.9237\n",
      "Epoch 15/20\n",
      "160/160 [==============================] - 23s 146ms/step - loss: 0.0281 - acc: 0.9900 - val_loss: 0.2214 - val_acc: 0.9337\n",
      "Epoch 16/20\n",
      "160/160 [==============================] - 23s 147ms/step - loss: 0.0199 - acc: 0.9919 - val_loss: 0.2661 - val_acc: 0.9350\n",
      "Epoch 17/20\n",
      "160/160 [==============================] - 24s 149ms/step - loss: 0.0248 - acc: 0.9912 - val_loss: 0.2696 - val_acc: 0.9237\n",
      "Epoch 18/20\n",
      "160/160 [==============================] - 23s 146ms/step - loss: 0.0205 - acc: 0.9934 - val_loss: 0.2851 - val_acc: 0.9300\n",
      "Epoch 19/20\n",
      "160/160 [==============================] - 24s 148ms/step - loss: 0.0260 - acc: 0.9894 - val_loss: 0.2789 - val_acc: 0.9237\n",
      "Epoch 20/20\n",
      "160/160 [==============================] - 24s 149ms/step - loss: 0.0287 - acc: 0.9859 - val_loss: 0.3120 - val_acc: 0.9325\n"
     ]
    }
   ],
   "source": [
    "model.compile(loss='binary_crossentropy',optimizer = 'adam', metrics = ['acc'])\n",
    "\n",
    "train_history = model.fit_generator(train_datagen,\n",
    "                                    steps_per_epoch=train_datagen.samples/batch_size,\n",
    "                                    epochs=20,\n",
    "                                    validation_data=validation_datagen,\n",
    "                                    validation_steps=validation_datagen.samples/batch_size,\n",
    "                                    verbose=1)"
   ]
  },
  {
   "cell_type": "code",
   "execution_count": 50,
   "metadata": {},
   "outputs": [
    {
     "data": {
      "image/png": "[encoded data removed]",
      "text/plain": [
       "<Figure size 432x288 with 1 Axes>"
      ]
     },
     "metadata": {
      "needs_background": "light"
     },
     "output_type": "display_data"
    }
   ],
   "source": [
    "import matplotlib.pyplot as plt\n",
    "\n",
    "def plot_train_result(train_history,train,val):\n",
    "    plt.figure()\n",
    "    plt.plot(train_history.history[train])\n",
    "    plt.plot(train_history.history[val])\n",
    "    plt.legend(['train','validation'])\n",
    "    plt.title(train+'_history')\n",
    "    plt.xlabel('Epoch')\n",
    "    plt.ylabel(train,fontsize=20)\n",
    "    plt.show()\n",
    "    \n",
    "plot_train_result(train_history,'acc','val_acc')"
   ]
  },
  {
   "cell_type": "code",
   "execution_count": 51,
   "metadata": {},
   "outputs": [
    {
     "data": {
      "image/png": "[encoded data removed]",
      "text/plain": [
       "<Figure size 432x288 with 1 Axes>"
      ]
     },
     "metadata": {
      "needs_background": "light"
     },
     "output_type": "display_data"
    }
   ],
   "source": [
    "plot_train_result(train_history,'loss','val_loss')"
   ]
  },
  {
   "cell_type": "code",
   "execution_count": 52,
   "metadata": {},
   "outputs": [
    {
     "name": "stdout",
     "output_type": "stream",
     "text": [
      "test data accuracy: 93.00\n"
     ]
    }
   ],
   "source": [
    "scores = model.evaluate_generator(test_datagen,steps= 10)\n",
    "print('test data accuracy: %.2f' %(scores[1]*100))"
   ]
  },
  {
   "cell_type": "markdown",
   "metadata": {},
   "source": [
    "從測試資料集，我們可以看到這模型獲得了93%的預測成功率"
   ]
  },
  {
   "cell_type": "code",
   "execution_count": 53,
   "metadata": {},
   "outputs": [],
   "source": [
    "# this is use to save mode\n",
    "#model.save('dog-vs-cat-vgg16.h5')"
   ]
  },
  {
   "cell_type": "markdown",
   "metadata": {},
   "source": [
    "## Phase 2. 利用pre-training mode 提取特徵在放入我們的模型\n",
    "\n",
    "### Step1. 提取特徵萃取資料\n",
    "\n",
    "利用Datagen來提取特徵資料"
   ]
  },
  {
   "cell_type": "code",
   "execution_count": 46,
   "metadata": {},
   "outputs": [],
   "source": [
    "import os\n",
    "import numpy as np\n",
    "from keras.preprocessing.image import ImageDataGenerator\n",
    "\n",
    "datagen = ImageDataGenerator(1./255)\n",
    "\n",
    "\n",
    "\n",
    "def ExtractData(DIR):  # trager folder\n",
    "    sub_dir=os.path.join(DIR,'DOG')\n",
    "    total_data = len(os.listdir(sub_dir))*2\n",
    "    \n",
    "    # first, need to create container\n",
    "    feature_data = np.zeros(shape=(total_data,7,7,512)) # meet VGG16 last output shape\n",
    "    label_data = np.zeros(shape=(total_data))\n",
    "    \n",
    "    feture_gen = datagen.flow_from_directory(\n",
    "            DIR,\n",
    "            target_size=(224,224),\n",
    "            batch_size=100,\n",
    "            class_mode='binary')\n",
    "    i=0\n",
    "    for feature , label in feture_gen:\n",
    "        feature = vgg_model.predict(feature)\n",
    "        feature_data[i*100:(i+1)*100]=feature\n",
    "        label_data[i*100:(i+1)*100]=label\n",
    "        i+=1\n",
    "        if i >= total_data/100:\n",
    "            break\n",
    "    \n",
    "    return feature_data , label_data"
   ]
  },
  {
   "cell_type": "markdown",
   "metadata": {},
   "source": [
    "必須另外設置一組Validation用的圖片集"
   ]
  },
  {
   "cell_type": "code",
   "execution_count": 43,
   "metadata": {},
   "outputs": [],
   "source": [
    "VAL_DIR = os.path.join(BASE_DIR, \"Validation\")\n",
    "if not os.path.exists(VAL_DIR):\n",
    "    os.mkdir(VAL_DIR)\n",
    "    \n",
    "DOG_VAL = os.path.join(VAL_DIR, \"DOG\")\n",
    "if not os.path.exists(DOG_VAL):\n",
    "    os.mkdir(DOG_VAL)\n",
    "\n",
    "CAT_VAL = os.path.join(VAL_DIR, \"CAT\")\n",
    "if not os.path.exists(CAT_VAL):\n",
    "    os.mkdir(CAT_VAL)\n",
    "    \n",
    "for frame in ['cat.{}.jpg'.format(i) for i in range(2001,3001)]:\n",
    "    source = os.path.join(SOURCE_DATA_DIR,frame)\n",
    "    target = os.path.join(CAT_VAL,frame)\n",
    "    if not os.path.exists(target):\n",
    "        shutil.copyfile(source,target)\n",
    "\n",
    "for frame in ['dog.{}.jpg'.format(i) for i in range(2001,3001)]:\n",
    "    source = os.path.join(SOURCE_DATA_DIR,frame)\n",
    "    target = os.path.join(DOG_VAL,frame)\n",
    "    if not os.path.exists(target):\n",
    "        shutil.copyfile(source,target)"
   ]
  },
  {
   "cell_type": "markdown",
   "metadata": {},
   "source": [
    "利用剛剛定義的特徵提取函數來提取資料"
   ]
  },
  {
   "cell_type": "code",
   "execution_count": 47,
   "metadata": {},
   "outputs": [
    {
     "name": "stdout",
     "output_type": "stream",
     "text": [
      "Found 4000 images belonging to 2 classes.\n",
      "Found 2000 images belonging to 2 classes.\n",
      "Found 2000 images belonging to 2 classes.\n",
      "Train_data shape:  (4000, 7, 7, 512)  and label shape:  (4000,)\n",
      "Test_data shape:  (2000, 7, 7, 512)  and label shape:  (2000,)\n",
      "Val_data shape:  (2000, 7, 7, 512)  and label shape:  (2000,)\n"
     ]
    }
   ],
   "source": [
    "Train_data, Train_label = ExtractData(TRAIN_DIR)\n",
    "Test_data, Test_label = ExtractData(TEST_DIR)\n",
    "Val_data, Val_label = ExtractData(VAL_DIR)\n",
    "\n",
    "print('Train_data shape: ', Train_data.shape,' and label shape: ',  Train_label.shape)\n",
    "print('Test_data shape: ', Test_data.shape,' and label shape: ',  Test_label.shape)\n",
    "print('Val_data shape: ', Val_data.shape,' and label shape: ',  Val_label.shape)"
   ]
  },
  {
   "cell_type": "markdown",
   "metadata": {},
   "source": [
    "輸出的資料為特層萃取的結果，我們需要把他們壓扁\n",
    "來給全連結層作為輸入使用"
   ]
  },
  {
   "cell_type": "code",
   "execution_count": 49,
   "metadata": {},
   "outputs": [
    {
     "name": "stdout",
     "output_type": "stream",
     "text": [
      "Train_data shape:  (4000, 25088)\n"
     ]
    }
   ],
   "source": [
    "Train_data = Train_data.reshape(4000,-1)\n",
    "Test_data = Test_data.reshape(2000,-1)\n",
    "Val_data  = Val_data.reshape(2000,-1)"
   ]
  },
  {
   "cell_type": "markdown",
   "metadata": {},
   "source": [
    "### Step2. 搭建模型與訓練"
   ]
  },
  {
   "cell_type": "code",
   "execution_count": 57,
   "metadata": {},
   "outputs": [
    {
     "name": "stdout",
     "output_type": "stream",
     "text": [
      "_________________________________________________________________\n",
      "Layer (type)                 Output Shape              Param #   \n",
      "=================================================================\n",
      "dense_16 (Dense)             (None, 10)                250890    \n",
      "_________________________________________________________________\n",
      "dense_17 (Dense)             (None, 10)                110       \n",
      "_________________________________________________________________\n",
      "dense_18 (Dense)             (None, 1)                 11        \n",
      "=================================================================\n",
      "Total params: 251,011\n",
      "Trainable params: 251,011\n",
      "Non-trainable params: 0\n",
      "_________________________________________________________________\n"
     ]
    }
   ],
   "source": [
    "\n",
    "\n",
    "model2 = Sequential()\n",
    "\n",
    "\n",
    "\n",
    "model2.add(Dense(10,input_dim=7*7*512,activation='relu'))\n",
    "model2.add(Dense(10,activation = 'relu'))\n",
    "model2.add(Dense(1,activation = 'sigmoid'))\n",
    "\n",
    "model2.summary()"
   ]
  },
  {
   "cell_type": "markdown",
   "metadata": {},
   "source": [
    "可以看到訓練參數一樣是250K\n",
    "\n",
    "### Step3. 模型訓練與評估\n",
    "用跟剛剛一樣的方法訓練"
   ]
  },
  {
   "cell_type": "code",
   "execution_count": 58,
   "metadata": {},
   "outputs": [
    {
     "name": "stdout",
     "output_type": "stream",
     "text": [
      "Train on 4000 samples, validate on 2000 samples\n",
      "Epoch 1/20\n",
      "4000/4000 [==============================] - 2s 457us/step - loss: 0.7725 - acc: 0.8078 - val_loss: 0.1633 - val_acc: 0.9360\n",
      "Epoch 2/20\n",
      "4000/4000 [==============================] - 1s 311us/step - loss: 0.1114 - acc: 0.9613 - val_loss: 0.1082 - val_acc: 0.9615\n",
      "Epoch 3/20\n",
      "4000/4000 [==============================] - 1s 312us/step - loss: 0.0335 - acc: 0.9865 - val_loss: 0.1186 - val_acc: 0.9635\n",
      "Epoch 4/20\n",
      "4000/4000 [==============================] - 1s 312us/step - loss: 0.0172 - acc: 0.9925 - val_loss: 0.1408 - val_acc: 0.9620\n",
      "Epoch 5/20\n",
      "4000/4000 [==============================] - 1s 315us/step - loss: 0.0078 - acc: 0.9963 - val_loss: 0.1362 - val_acc: 0.9655\n",
      "Epoch 6/20\n",
      "4000/4000 [==============================] - 1s 311us/step - loss: 0.0045 - acc: 0.9973 - val_loss: 0.1241 - val_acc: 0.9715\n",
      "Epoch 7/20\n",
      "4000/4000 [==============================] - 1s 311us/step - loss: 0.0026 - acc: 0.9983 - val_loss: 0.1420 - val_acc: 0.9680\n",
      "Epoch 8/20\n",
      "4000/4000 [==============================] - 1s 315us/step - loss: 0.0023 - acc: 0.9988 - val_loss: 0.1358 - val_acc: 0.9735\n",
      "Epoch 9/20\n",
      "4000/4000 [==============================] - 1s 313us/step - loss: 0.0017 - acc: 0.9990 - val_loss: 0.1377 - val_acc: 0.9730\n",
      "Epoch 10/20\n",
      "4000/4000 [==============================] - 1s 316us/step - loss: 0.0014 - acc: 0.9990 - val_loss: 0.1449 - val_acc: 0.9705\n",
      "Epoch 11/20\n",
      "4000/4000 [==============================] - 1s 315us/step - loss: 0.0013 - acc: 0.9990 - val_loss: 0.1448 - val_acc: 0.9710\n",
      "Epoch 12/20\n",
      "4000/4000 [==============================] - 1s 315us/step - loss: 0.0013 - acc: 0.9990 - val_loss: 0.1455 - val_acc: 0.9705\n",
      "Epoch 13/20\n",
      "4000/4000 [==============================] - 1s 316us/step - loss: 0.0013 - acc: 0.9990 - val_loss: 0.1464 - val_acc: 0.9705\n",
      "Epoch 14/20\n",
      "4000/4000 [==============================] - 1s 313us/step - loss: 0.0013 - acc: 0.9990 - val_loss: 0.1473 - val_acc: 0.9705\n",
      "Epoch 15/20\n",
      "4000/4000 [==============================] - 1s 320us/step - loss: 0.0012 - acc: 0.9990 - val_loss: 0.1666 - val_acc: 0.9675\n",
      "Epoch 16/20\n",
      "4000/4000 [==============================] - 1s 314us/step - loss: 7.1550e-04 - acc: 0.9995 - val_loss: 0.1629 - val_acc: 0.9685\n",
      "Epoch 17/20\n",
      "4000/4000 [==============================] - 1s 317us/step - loss: 3.5514e-04 - acc: 1.0000 - val_loss: 0.1604 - val_acc: 0.9700\n",
      "Epoch 18/20\n",
      "4000/4000 [==============================] - 1s 318us/step - loss: 3.3271e-05 - acc: 1.0000 - val_loss: 0.1559 - val_acc: 0.9705\n",
      "Epoch 19/20\n",
      "4000/4000 [==============================] - 1s 322us/step - loss: 2.1458e-05 - acc: 1.0000 - val_loss: 0.1552 - val_acc: 0.9705\n",
      "Epoch 20/20\n",
      "4000/4000 [==============================] - 1s 320us/step - loss: 1.8193e-05 - acc: 1.0000 - val_loss: 0.1554 - val_acc: 0.9715\n"
     ]
    }
   ],
   "source": [
    "model2.compile(loss='binary_crossentropy',optimizer = 'adam', metrics = ['acc'])\n",
    "\n",
    "train_history2 = model2.fit(Train_data,Train_label,batch_size=100,epochs=20,validation_data=(Val_data,Val_label),verbose=1)"
   ]
  },
  {
   "cell_type": "markdown",
   "metadata": {},
   "source": [
    "由於特徵已經先算完了，所以運算速度跟Phase1比起來相差巨大，每個epoch只需要一秒"
   ]
  },
  {
   "cell_type": "code",
   "execution_count": 60,
   "metadata": {},
   "outputs": [
    {
     "data": {
      "image/png": "[encoded data removed]",
      "text/plain": [
       "<Figure size 432x288 with 1 Axes>"
      ]
     },
     "metadata": {
      "needs_background": "light"
     },
     "output_type": "display_data"
    }
   ],
   "source": [
    "plot_train_result(train_history,'acc','val_acc')"
   ]
  },
  {
   "cell_type": "code",
   "execution_count": 61,
   "metadata": {},
   "outputs": [
    {
     "data": {
      "image/png": "[encoded data removed]",
      "text/plain": [
       "<Figure size 432x288 with 1 Axes>"
      ]
     },
     "metadata": {
      "needs_background": "light"
     },
     "output_type": "display_data"
    }
   ],
   "source": [
    "plot_train_result(train_history,'loss','val_loss')"
   ]
  },
  {
   "cell_type": "code",
   "execution_count": 59,
   "metadata": {},
   "outputs": [
    {
     "name": "stdout",
     "output_type": "stream",
     "text": [
      "2000/2000 [==============================] - 0s 242us/step\n",
      "Accuary of test data: 96.5\n"
     ]
    }
   ],
   "source": [
    "score2 = model2.evaluate(Test_data,Test_label)\n",
    "\n",
    "print('Accuary of test data: %.1f'%(score2[1]*100))"
   ]
  },
  {
   "cell_type": "markdown",
   "metadata": {},
   "source": [
    "### Summary\n",
    "\n",
    "由於我是利用VGG16,原本imagenet的分類器內已經有貓跟狗的訓練集了\n",
    "所以在這裡利用VGG16來做貓狗大戰得到的分數都滿高的"
   ]
  }
 ],
 "metadata": {
  "kernelspec": {
   "display_name": "Python 3",
   "language": "python",
   "name": "python3"
  },
  "language_info": {
   "codemirror_mode": {
    "name": "ipython",
    "version": 3
   },
   "file_extension": ".py",
   "mimetype": "text/x-python",
   "name": "python",
   "nbconvert_exporter": "python",
   "pygments_lexer": "ipython3",
   "version": "3.7.3"
  }
 },
 "nbformat": 4,
 "nbformat_minor": 2
}
