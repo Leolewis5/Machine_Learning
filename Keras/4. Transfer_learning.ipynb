{
 "cells": [
  {
   "cell_type": "markdown",
   "metadata": {},
   "source": [
    "## Dog vs Cat - 基於VGG16的transfer learning\n",
    "\n",
    "利用Kaggle的Dogs vs Cats做VGG16的transfer learning 的學習"
   ]
  },
  {
   "cell_type": "code",
   "execution_count": 1,
   "metadata": {},
   "outputs": [],
   "source": [
    "import os\n",
    "\n",
    "ROOT_DIR = os.getcwd()\n",
    "DATA_PATH = os.path.join(ROOT_DIR, \"dogs-vs-cats\")\n",
    "SOURCE_DATA_DIR = os.path.join(DATA_PATH, \"train\")\n",
    "\n",
    "print('length of train data %d' %(len(os.listdir(TRAIN_DIR))))"
   ]
  },
  {
   "cell_type": "code",
   "execution_count": 2,
   "metadata": {},
   "outputs": [],
   "source": [
    "BASE_DIR = os.path.join(DATA_PATH, \"VGG_Practice\")\n",
    "if not os.path.exists(BASE_DIR):\n",
    "    os.mkdir(BASE_DIR)\n",
    "    \n",
    "TRAIN_DIR = os.path.join(BASE_DIR, \"TRAIN\")\n",
    "if not os.path.exists(TRAIN_DIR):\n",
    "    os.mkdir(TRAIN_DIR)\n",
    "    \n",
    "TEST_DIR = os.path.join(BASE_DIR, \"TEST\")\n",
    "if not os.path.exists(TEST_DIR):\n",
    "    os.mkdir(TEST_DIR)\n",
    "    \n",
    "DOG_TRAIN = os.path.join(TRAIN_DIR, \"DOG\")\n",
    "if not os.path.exists(DOG_TRAIN):\n",
    "    os.mkdir(DOG_TRAIN)\n",
    "\n",
    "CAT_TRAIN = os.path.join(TRAIN_DIR, \"CAT\")\n",
    "if not os.path.exists(CAT_TRAIN):\n",
    "    os.mkdir(CAT_TRAIN)\n",
    "    \n",
    "DOG_TEST = os.path.join(TEST_DIR, \"DOG\")\n",
    "if not os.path.exists(DOG_TEST):\n",
    "    os.mkdir(DOG_TEST)\n",
    "    \n",
    "CAT_TEST = os.path.join(TEST_DIR, \"CAT\")\n",
    "if not os.path.exists(CAT_TEST):\n",
    "    os.mkdir(CAT_TEST)\n"
   ]
  },
  {
   "cell_type": "code",
   "execution_count": 3,
   "metadata": {},
   "outputs": [],
   "source": [
    "import shutil\n",
    "\n",
    "for frame in ['cat.{}.jpg'.format(i) for i in range(0,2000)]:\n",
    "    source = os.path.join(SOURCE_DATA_DIR,frame)\n",
    "    target = os.path.join(CAT_TRAIN,frame)\n",
    "    if not os.path.exists(target):\n",
    "        shutil.copyfile(source,target)\n",
    "\n",
    "for frame in ['dog.{}.jpg'.format(i) for i in range(0,2000)]:\n",
    "    source = os.path.join(SOURCE_DATA_DIR,frame)\n",
    "    target = os.path.join(DOG_TRAIN,frame)\n",
    "    if not os.path.exists(target):\n",
    "        shutil.copyfile(source,target)\n",
    "        \n",
    "for frame in ['cat.{}.jpg'.format(i) for i in range(10001,12000)]:\n",
    "    source = os.path.join(SOURCE_DATA_DIR,frame)\n",
    "    target = os.path.join(CAT_TEST,frame)\n",
    "    if not os.path.exists(target):\n",
    "        shutil.copyfile(source,target)\n",
    "        \n",
    "for frame in ['dog.{}.jpg'.format(i) for i in range(10001,12000)]:\n",
    "    source = os.path.join(SOURCE_DATA_DIR,frame)\n",
    "    target = os.path.join(DOG_TEST,frame)\n",
    "    if not os.path.exists(target):\n",
    "        shutil.copyfile(source,target)"
   ]
  },
  {
   "cell_type": "code",
   "execution_count": 32,
   "metadata": {},
   "outputs": [
    {
     "name": "stdout",
     "output_type": "stream",
     "text": [
      "Found 3200 images belonging to 2 classes.\n",
      "Found 800 images belonging to 2 classes.\n",
      "Found 3998 images belonging to 2 classes.\n",
      "train_batch_shape:  (20, 224, 224, 3)\n",
      "label_batch_shape:  (20, 2)\n"
     ]
    }
   ],
   "source": [
    "from keras.preprocessing.image import ImageDataGenerator\n",
    "\n",
    "train_gen = ImageDataGenerator(rescale=1./255,validation_split=0.2)\n",
    "test_gen = ImageDataGenerator(rescale=1./255)\n",
    "\n",
    "train_datagen = train_gen.flow_from_directory(\n",
    "            TRAIN_DIR,\n",
    "            target_size=(224,224),\n",
    "            batch_size=20,\n",
    "            classes=['dog','cat'],\n",
    "            subset='training'\n",
    "            )\n",
    "\n",
    "validation_datagen = train_gen.flow_from_directory(\n",
    "            TRAIN_DIR,\n",
    "            target_size=(224,224),\n",
    "            batch_size=20,\n",
    "            classes=['dog','cat'],\n",
    "            subset='validation'\n",
    "            )\n",
    "\n",
    "test_datagen = test_gen.flow_from_directory(\n",
    "            TEST_DIR,\n",
    "            target_size=(224,224),\n",
    "            batch_size=20,\n",
    "            classes=['dog','cat'],\n",
    "            )\n",
    "\n",
    "for train_batch, label_batch in train_datagen:\n",
    "    print('train_batch_shape: ', train_batch.shape)\n",
    "    print('label_batch_shape: ', label_batch.shape)\n",
    "    break;"
   ]
  },
  {
   "cell_type": "code",
   "execution_count": 6,
   "metadata": {},
   "outputs": [
    {
     "name": "stdout",
     "output_type": "stream",
     "text": [
      "WARNING:tensorflow:From C:\\Users\\a2720\\Anaconda3\\lib\\site-packages\\tensorflow\\python\\framework\\op_def_library.py:263: colocate_with (from tensorflow.python.framework.ops) is deprecated and will be removed in a future version.\n",
      "Instructions for updating:\n",
      "Colocations handled automatically by placer.\n",
      "_________________________________________________________________\n",
      "Layer (type)                 Output Shape              Param #   \n",
      "=================================================================\n",
      "input_1 (InputLayer)         (None, 224, 224, 3)       0         \n",
      "_________________________________________________________________\n",
      "block1_conv1 (Conv2D)        (None, 224, 224, 64)      1792      \n",
      "_________________________________________________________________\n",
      "block1_conv2 (Conv2D)        (None, 224, 224, 64)      36928     \n",
      "_________________________________________________________________\n",
      "block1_pool (MaxPooling2D)   (None, 112, 112, 64)      0         \n",
      "_________________________________________________________________\n",
      "block2_conv1 (Conv2D)        (None, 112, 112, 128)     73856     \n",
      "_________________________________________________________________\n",
      "block2_conv2 (Conv2D)        (None, 112, 112, 128)     147584    \n",
      "_________________________________________________________________\n",
      "block2_pool (MaxPooling2D)   (None, 56, 56, 128)       0         \n",
      "_________________________________________________________________\n",
      "block3_conv1 (Conv2D)        (None, 56, 56, 256)       295168    \n",
      "_________________________________________________________________\n",
      "block3_conv2 (Conv2D)        (None, 56, 56, 256)       590080    \n",
      "_________________________________________________________________\n",
      "block3_conv3 (Conv2D)        (None, 56, 56, 256)       590080    \n",
      "_________________________________________________________________\n",
      "block3_pool (MaxPooling2D)   (None, 28, 28, 256)       0         \n",
      "_________________________________________________________________\n",
      "block4_conv1 (Conv2D)        (None, 28, 28, 512)       1180160   \n",
      "_________________________________________________________________\n",
      "block4_conv2 (Conv2D)        (None, 28, 28, 512)       2359808   \n",
      "_________________________________________________________________\n",
      "block4_conv3 (Conv2D)        (None, 28, 28, 512)       2359808   \n",
      "_________________________________________________________________\n",
      "block4_pool (MaxPooling2D)   (None, 14, 14, 512)       0         \n",
      "_________________________________________________________________\n",
      "block5_conv1 (Conv2D)        (None, 14, 14, 512)       2359808   \n",
      "_________________________________________________________________\n",
      "block5_conv2 (Conv2D)        (None, 14, 14, 512)       2359808   \n",
      "_________________________________________________________________\n",
      "block5_conv3 (Conv2D)        (None, 14, 14, 512)       2359808   \n",
      "_________________________________________________________________\n",
      "block5_pool (MaxPooling2D)   (None, 7, 7, 512)         0         \n",
      "=================================================================\n",
      "Total params: 14,714,688\n",
      "Trainable params: 14,714,688\n",
      "Non-trainable params: 0\n",
      "_________________________________________________________________\n"
     ]
    }
   ],
   "source": [
    "from keras.applications import VGG16\n",
    "\n",
    "vgg_model = VGG16(weights='imagenet',include_top=False,input_shape=(224,224,3))\n",
    "vgg_model.summary()"
   ]
  },
  {
   "cell_type": "code",
   "execution_count": 7,
   "metadata": {},
   "outputs": [
    {
     "name": "stdout",
     "output_type": "stream",
     "text": [
      "_________________________________________________________________\n",
      "Layer (type)                 Output Shape              Param #   \n",
      "=================================================================\n",
      "input_1 (InputLayer)         (None, 224, 224, 3)       0         \n",
      "_________________________________________________________________\n",
      "block1_conv1 (Conv2D)        (None, 224, 224, 64)      1792      \n",
      "_________________________________________________________________\n",
      "block1_conv2 (Conv2D)        (None, 224, 224, 64)      36928     \n",
      "_________________________________________________________________\n",
      "block1_pool (MaxPooling2D)   (None, 112, 112, 64)      0         \n",
      "_________________________________________________________________\n",
      "block2_conv1 (Conv2D)        (None, 112, 112, 128)     73856     \n",
      "_________________________________________________________________\n",
      "block2_conv2 (Conv2D)        (None, 112, 112, 128)     147584    \n",
      "_________________________________________________________________\n",
      "block2_pool (MaxPooling2D)   (None, 56, 56, 128)       0         \n",
      "_________________________________________________________________\n",
      "block3_conv1 (Conv2D)        (None, 56, 56, 256)       295168    \n",
      "_________________________________________________________________\n",
      "block3_conv2 (Conv2D)        (None, 56, 56, 256)       590080    \n",
      "_________________________________________________________________\n",
      "block3_conv3 (Conv2D)        (None, 56, 56, 256)       590080    \n",
      "_________________________________________________________________\n",
      "block3_pool (MaxPooling2D)   (None, 28, 28, 256)       0         \n",
      "_________________________________________________________________\n",
      "block4_conv1 (Conv2D)        (None, 28, 28, 512)       1180160   \n",
      "_________________________________________________________________\n",
      "block4_conv2 (Conv2D)        (None, 28, 28, 512)       2359808   \n",
      "_________________________________________________________________\n",
      "block4_conv3 (Conv2D)        (None, 28, 28, 512)       2359808   \n",
      "_________________________________________________________________\n",
      "block4_pool (MaxPooling2D)   (None, 14, 14, 512)       0         \n",
      "_________________________________________________________________\n",
      "block5_conv1 (Conv2D)        (None, 14, 14, 512)       2359808   \n",
      "_________________________________________________________________\n",
      "block5_conv2 (Conv2D)        (None, 14, 14, 512)       2359808   \n",
      "_________________________________________________________________\n",
      "block5_conv3 (Conv2D)        (None, 14, 14, 512)       2359808   \n",
      "_________________________________________________________________\n",
      "block5_pool (MaxPooling2D)   (None, 7, 7, 512)         0         \n",
      "=================================================================\n",
      "Total params: 14,714,688\n",
      "Trainable params: 0\n",
      "Non-trainable params: 14,714,688\n",
      "_________________________________________________________________\n"
     ]
    }
   ],
   "source": [
    "for layer in vgg_model.layers:\n",
    "    layer.trainable = False\n",
    "vgg_model.summary()"
   ]
  },
  {
   "cell_type": "code",
   "execution_count": 28,
   "metadata": {},
   "outputs": [
    {
     "name": "stdout",
     "output_type": "stream",
     "text": [
      "WARNING:tensorflow:From C:\\Users\\a2720\\Anaconda3\\lib\\site-packages\\keras\\backend\\tensorflow_backend.py:3445: calling dropout (from tensorflow.python.ops.nn_ops) with keep_prob is deprecated and will be removed in a future version.\n",
      "Instructions for updating:\n",
      "Please use `rate` instead of `keep_prob`. Rate should be set to `rate = 1 - keep_prob`.\n",
      "_________________________________________________________________\n",
      "Layer (type)                 Output Shape              Param #   \n",
      "=================================================================\n",
      "vgg16 (Model)                (None, 7, 7, 512)         14714688  \n",
      "_________________________________________________________________\n",
      "flatten_7 (Flatten)          (None, 25088)             0         \n",
      "_________________________________________________________________\n",
      "dropout_1 (Dropout)          (None, 25088)             0         \n",
      "_________________________________________________________________\n",
      "dense_12 (Dense)             (None, 10)                250890    \n",
      "_________________________________________________________________\n",
      "dense_13 (Dense)             (None, 10)                110       \n",
      "_________________________________________________________________\n",
      "dense_14 (Dense)             (None, 2)                 22        \n",
      "=================================================================\n",
      "Total params: 14,965,710\n",
      "Trainable params: 251,022\n",
      "Non-trainable params: 14,714,688\n",
      "_________________________________________________________________\n"
     ]
    }
   ],
   "source": [
    "from keras.layers import Dense, Flatten, Dropout\n",
    "from keras.models import Sequential\n",
    "\n",
    "model = Sequential()\n",
    "\n",
    "model.add(vgg_model)\n",
    "model.add(Flatten())\n",
    "model.add(Dropout(0.5))\n",
    "model.add(Dense(10,activation = 'relu'))\n",
    "model.add(Dense(10,activation = 'relu'))\n",
    "model.add(Dense(2,activation = 'softmax'))\n",
    "\n",
    "for layer in model.layers[:2]:\n",
    "    layer.trainable=False\n",
    "    \n",
    "model.summary()"
   ]
  },
  {
   "cell_type": "code",
   "execution_count": 29,
   "metadata": {},
   "outputs": [
    {
     "name": "stdout",
     "output_type": "stream",
     "text": [
      "Epoch 1/30\n",
      "20/20 [==============================] - 5s 247ms/step - loss: 0.7010 - acc: 0.5550 - val_loss: 0.6685 - val_acc: 0.4867\n",
      "Epoch 2/30\n",
      "20/20 [==============================] - 4s 202ms/step - loss: 0.6057 - acc: 0.6010 - val_loss: 0.5060 - val_acc: 0.7621\n",
      "Epoch 3/30\n",
      "20/20 [==============================] - 4s 205ms/step - loss: 0.4132 - acc: 0.8400 - val_loss: 0.3357 - val_acc: 0.9000\n",
      "Epoch 4/30\n",
      "20/20 [==============================] - 4s 209ms/step - loss: 0.3442 - acc: 0.8400 - val_loss: 0.2450 - val_acc: 0.9133\n",
      "Epoch 5/30\n",
      "20/20 [==============================] - 4s 205ms/step - loss: 0.3129 - acc: 0.8700 - val_loss: 0.2213 - val_acc: 0.9207\n",
      "Epoch 6/30\n",
      "20/20 [==============================] - 4s 207ms/step - loss: 0.2816 - acc: 0.8833 - val_loss: 0.2470 - val_acc: 0.9000\n",
      "Epoch 7/30\n",
      "20/20 [==============================] - 4s 205ms/step - loss: 0.2291 - acc: 0.9075 - val_loss: 0.2183 - val_acc: 0.9069\n",
      "Epoch 8/30\n",
      "20/20 [==============================] - 4s 208ms/step - loss: 0.1839 - acc: 0.9317 - val_loss: 0.2257 - val_acc: 0.9067\n",
      "Epoch 9/30\n",
      "20/20 [==============================] - 4s 216ms/step - loss: 0.2081 - acc: 0.9167 - val_loss: 0.1753 - val_acc: 0.9333\n",
      "Epoch 10/30\n",
      "20/20 [==============================] - 4s 216ms/step - loss: 0.1889 - acc: 0.9317 - val_loss: 0.1844 - val_acc: 0.9241\n",
      "Epoch 11/30\n",
      "20/20 [==============================] - 4s 210ms/step - loss: 0.1961 - acc: 0.9200 - val_loss: 0.1776 - val_acc: 0.8967\n",
      "Epoch 12/30\n",
      "20/20 [==============================] - 4s 210ms/step - loss: 0.1797 - acc: 0.9150 - val_loss: 0.2706 - val_acc: 0.8933\n",
      "Epoch 13/30\n",
      "20/20 [==============================] - 4s 214ms/step - loss: 0.1508 - acc: 0.9350 - val_loss: 0.2066 - val_acc: 0.9000\n",
      "Epoch 14/30\n",
      "20/20 [==============================] - 4s 210ms/step - loss: 0.1329 - acc: 0.9550 - val_loss: 0.2139 - val_acc: 0.9133\n",
      "Epoch 15/30\n",
      "20/20 [==============================] - 4s 217ms/step - loss: 0.1717 - acc: 0.9233 - val_loss: 0.1575 - val_acc: 0.9310\n",
      "Epoch 16/30\n",
      "20/20 [==============================] - 4s 212ms/step - loss: 0.1852 - acc: 0.9367 - val_loss: 0.2605 - val_acc: 0.9000\n",
      "Epoch 17/30\n",
      "20/20 [==============================] - 4s 217ms/step - loss: 0.1641 - acc: 0.9333 - val_loss: 0.1592 - val_acc: 0.9300\n",
      "Epoch 18/30\n",
      "20/20 [==============================] - 4s 216ms/step - loss: 0.1209 - acc: 0.9517 - val_loss: 0.1347 - val_acc: 0.9310\n",
      "Epoch 19/30\n",
      "20/20 [==============================] - 4s 225ms/step - loss: 0.1181 - acc: 0.9483 - val_loss: 0.2278 - val_acc: 0.9100\n",
      "Epoch 20/30\n",
      "20/20 [==============================] - 4s 222ms/step - loss: 0.1080 - acc: 0.9617 - val_loss: 0.1531 - val_acc: 0.9367\n",
      "Epoch 21/30\n",
      "20/20 [==============================] - 4s 218ms/step - loss: 0.0903 - acc: 0.9650 - val_loss: 0.2202 - val_acc: 0.9172\n",
      "Epoch 22/30\n",
      "20/20 [==============================] - 4s 211ms/step - loss: 0.1635 - acc: 0.9317 - val_loss: 0.2053 - val_acc: 0.9300\n",
      "Epoch 23/30\n",
      "20/20 [==============================] - 4s 218ms/step - loss: 0.1002 - acc: 0.9567 - val_loss: 0.2376 - val_acc: 0.9069\n",
      "Epoch 24/30\n",
      "20/20 [==============================] - 4s 210ms/step - loss: 0.0750 - acc: 0.9767 - val_loss: 0.1724 - val_acc: 0.9400\n",
      "Epoch 25/30\n",
      "20/20 [==============================] - 4s 209ms/step - loss: 0.0957 - acc: 0.9633 - val_loss: 0.2208 - val_acc: 0.9100\n",
      "Epoch 26/30\n",
      "20/20 [==============================] - 4s 215ms/step - loss: 0.0909 - acc: 0.9700 - val_loss: 0.1982 - val_acc: 0.9276\n",
      "Epoch 27/30\n",
      "20/20 [==============================] - 4s 214ms/step - loss: 0.0970 - acc: 0.9633 - val_loss: 0.2781 - val_acc: 0.8933\n",
      "Epoch 28/30\n",
      "20/20 [==============================] - 4s 212ms/step - loss: 0.0919 - acc: 0.9633 - val_loss: 0.1381 - val_acc: 0.9533\n",
      "Epoch 29/30\n",
      "20/20 [==============================] - 4s 210ms/step - loss: 0.0729 - acc: 0.9725 - val_loss: 0.2337 - val_acc: 0.9207\n",
      "Epoch 30/30\n",
      "20/20 [==============================] - 4s 212ms/step - loss: 0.0928 - acc: 0.9650 - val_loss: 0.1911 - val_acc: 0.9300\n"
     ]
    }
   ],
   "source": [
    "model.compile(loss='categorical_crossentropy',optimizer = 'adam', metrics = ['accuracy'])\n",
    "\n",
    "train_history = model.fit_generator(train_datagen,\n",
    "                                    steps_per_epoch=20,\n",
    "                                    epochs=30,\n",
    "                                    validation_data=validation_datagen,\n",
    "                                    validation_steps=10,\n",
    "                                    verbose=1)"
   ]
  },
  {
   "cell_type": "code",
   "execution_count": 30,
   "metadata": {},
   "outputs": [
    {
     "data": {
      "image/png": "[encoded data removed]",
      "text/plain": [
       "<Figure size 432x288 with 1 Axes>"
      ]
     },
     "metadata": {
      "needs_background": "light"
     },
     "output_type": "display_data"
    }
   ],
   "source": [
    "import matplotlib.pyplot as plt\n",
    "\n",
    "def plot_train_result(train_history,train,val):\n",
    "    plt.figure()\n",
    "    plt.plot(train_history.history[train])\n",
    "    plt.plot(train_history.history[val])\n",
    "    plt.legend(['train','validation'])\n",
    "    plt.title(train+'_history')\n",
    "    plt.xlabel('Epoch')\n",
    "    plt.ylabel(train,fontsize=20)\n",
    "    plt.show()\n",
    "    \n",
    "plot_train_result(train_history,'acc','val_acc')"
   ]
  },
  {
   "cell_type": "code",
   "execution_count": 31,
   "metadata": {},
   "outputs": [
    {
     "data": {
      "image/png": "[encoded data removed]",
      "text/plain": [
       "<Figure size 432x288 with 1 Axes>"
      ]
     },
     "metadata": {
      "needs_background": "light"
     },
     "output_type": "display_data"
    }
   ],
   "source": [
    "plot_train_result(train_history,'loss','val_loss')"
   ]
  },
  {
   "cell_type": "code",
   "execution_count": 34,
   "metadata": {},
   "outputs": [
    {
     "name": "stdout",
     "output_type": "stream",
     "text": [
      "test data accuracy: 90.50\n"
     ]
    }
   ],
   "source": [
    "scores = model.evaluate_generator(test_datagen,steps= 10)\n",
    "print('test data accuracy: %.2f' %(scores[1]*100))"
   ]
  },
  {
   "cell_type": "code",
   "execution_count": null,
   "metadata": {},
   "outputs": [],
   "source": [
    "model.save('dog-vs-cat-vgg16.h5')"
   ]
  }
 ],
 "metadata": {
  "kernelspec": {
   "display_name": "Python 3",
   "language": "python",
   "name": "python3"
  }
 },
 "nbformat": 4,
 "nbformat_minor": 2
}
