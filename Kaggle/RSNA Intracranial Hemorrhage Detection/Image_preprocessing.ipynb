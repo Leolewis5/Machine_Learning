{
 "cells": [
  {
   "cell_type": "markdown",
   "metadata": {},
   "source": [
    "# Image preprocessing\n",
    "\n",
    "Due to dicom data is huge and high resolution  \n",
    "I have converted it to jpg for enhacing training speed  \n",
    "Convert Hounsfield units(HU) to 3 type window image as 3 channel image also.  \n",
    "refer to :[radiopaedia_windowing-ct](https://radiopaedia.org/articles/windowing-ct)  \n",
    "\n",
    "#### 3 type window used (window center, window width): \n",
    "1. brain(40,80) \n",
    "2. subdural(80,200)\n",
    "3. soft(40,380)"
   ]
  },
  {
   "cell_type": "code",
   "execution_count": null,
   "metadata": {},
   "outputs": [],
   "source": [
    "import numpy as np\n",
    "import tqdm\n",
    "import pandas as pd\n",
    "import pydicom\n",
    "import cv2\n",
    "import glob\n",
    "import os\n",
    "import multiprocessing\n",
    "\n",
    "\n",
    "RESIZED_WIDTH  = 256\n",
    "RESIZED_HEIGHT = 256\n",
    "OUTPUT_DIR = os.getcwd()+'RSNATRAIN'\n",
    "\n",
    "print(OUTPUT_DIR)\n",
    "\n",
    "if not os.path.exists(OUTPUT_DIR):\n",
    "    os.mkdir(OUTPUT_DIR)\n"
   ]
  },
  {
   "cell_type": "markdown",
   "metadata": {},
   "source": [
    "[reference](https://www.kaggle.com/jhoward/cleaning-the-data-for-rapid-prototyping-fastai)"
   ]
  },
  {
   "cell_type": "code",
   "execution_count": null,
   "metadata": {},
   "outputs": [],
   "source": [
    "def correct_dcm(img):\n",
    "    x = img.pixel_array + 1000\n",
    "    px_mode = 4096\n",
    "    x[x>=px_mode] = x[x>=px_mode] - px_mode\n",
    "    img.PixelData = x.tobytes()\n",
    "    img.RescaleIntercept = -1000\n",
    "\n",
    "def _window_image(img, window_center, window_width):\n",
    "    if (img.BitsStored == 12) and (img.PixelRepresentation == 0) and (int(img.RescaleIntercept) > -100):\n",
    "        correct_dcm(img)\n",
    "    img = img.pixel_array * img.RescaleSlope + img.RescaleIntercept\n",
    "    \n",
    "    img = cv2.resize(img, (RESIZED_WIDTH,RESIZED_HEIGHT), interpolation = cv2.INTER_LINEAR)\n",
    "    \n",
    "    img_min = window_center - window_width // 2\n",
    "    img_max = window_center + window_width // 2\n",
    "    img = np.clip(img, img_min, img_max)\n",
    "\n",
    "    return img\n",
    "\n",
    "def bsb_window(img):\n",
    "    brain_img = _window_image(img, 40, 80)\n",
    "    subdural_img = _window_image(img, 80, 200)\n",
    "    soft_img = _window_image(img, 40, 380)\n",
    "    \n",
    "    brain_img = (brain_img - 0) / 80\n",
    "    subdural_img = (subdural_img - (-20)) / 200\n",
    "    soft_img = (soft_img - (-150)) / 380\n",
    "    \n",
    "    bsb_img = np.array([brain_img, subdural_img, soft_img]).transpose(1,2,0)\n",
    "    \n",
    "    return bsb_img\n",
    "\n",
    "\n",
    "def save_to_jpg(path):\n",
    "    \n",
    "    dcm = pydicom.dcmread(path)\n",
    "\n",
    "    try:\n",
    "        img = bsb_window(dcm)\n",
    "        img = np.round(img*255)\n",
    "        img = img.astype(np.uint8)\n",
    "        # img = crop_image(img)\n",
    "        # img = cv2.resize(img, (RESIZED_WIDTH, RESIZED_HEIGHT))\n",
    "        # print(img.min(),img.max())\n",
    "    except:\n",
    "        print('exception!')\n",
    "        img = np.zeros((RESIZED_WIDTH, RESIZED_HEIGHT, 3), dtype=np.uint8)\n",
    "        \n",
    "    cv2.imwrite(OUTPUT_DIR+\"/\"+dcm.SOPInstanceUID + '.jpg', img)"
   ]
  },
  {
   "cell_type": "code",
   "execution_count": null,
   "metadata": {},
   "outputs": [],
   "source": [
    "\n",
    "#dicom = glob.glob(os.path.join(img_dir, '*.dcm'))\n",
    "\n",
    "#pool = multiprocessing.Pool(2) # multiprocessing.cpu_count() can be used instead of \"4\"\n",
    "#for _ in tqdm.tqdm(pool.imap(save_to_jpg, dicom), total=len(dicom)):\n",
    "#    pass "
   ]
  }
 ],
 "metadata": {
  "kernelspec": {
   "display_name": "Python 3",
   "language": "python",
   "name": "python3"
  },
  "language_info": {
   "codemirror_mode": {
    "name": "ipython",
    "version": 3
   },
   "file_extension": ".py",
   "mimetype": "text/x-python",
   "name": "python",
   "nbconvert_exporter": "python",
   "pygments_lexer": "ipython3",
   "version": "3.7.3"
  }
 },
 "nbformat": 4,
 "nbformat_minor": 2
}
