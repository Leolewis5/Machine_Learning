{
 "cells": [
  {
   "cell_type": "markdown",
   "metadata": {},
   "source": [
    "# Titanic prediction\n",
    "\n",
    "Keras 入門題目，鐵達尼生存預測  \n",
    "當作基本的classifier練習\n",
    "\n",
    "[Titanic competition link](https://www.kaggle.com/c/titanic)\n",
    "\n",
    "\n",
    "\n",
    "\n",
    "## Step1. 資料載入  \n",
    "首先把資料集利用pandas抓近來觀察  "
   ]
  },
  {
   "cell_type": "code",
   "execution_count": 1,
   "metadata": {},
   "outputs": [
    {
     "data": {
      "text/html": [
       "<div>\n",
       "<style scoped>\n",
       "    .dataframe tbody tr th:only-of-type {\n",
       "        vertical-align: middle;\n",
       "    }\n",
       "\n",
       "    .dataframe tbody tr th {\n",
       "        vertical-align: top;\n",
       "    }\n",
       "\n",
       "    .dataframe thead th {\n",
       "        text-align: right;\n",
       "    }\n",
       "</style>\n",
       "<table border=\"1\" class=\"dataframe\">\n",
       "  <thead>\n",
       "    <tr style=\"text-align: right;\">\n",
       "      <th></th>\n",
       "      <th>PassengerId</th>\n",
       "      <th>Survived</th>\n",
       "      <th>Pclass</th>\n",
       "      <th>Name</th>\n",
       "      <th>Sex</th>\n",
       "      <th>Age</th>\n",
       "      <th>SibSp</th>\n",
       "      <th>Parch</th>\n",
       "      <th>Ticket</th>\n",
       "      <th>Fare</th>\n",
       "      <th>Cabin</th>\n",
       "      <th>Embarked</th>\n",
       "    </tr>\n",
       "  </thead>\n",
       "  <tbody>\n",
       "    <tr>\n",
       "      <th>0</th>\n",
       "      <td>1</td>\n",
       "      <td>0</td>\n",
       "      <td>3</td>\n",
       "      <td>Braund, Mr. Owen Harris</td>\n",
       "      <td>male</td>\n",
       "      <td>22.0</td>\n",
       "      <td>1</td>\n",
       "      <td>0</td>\n",
       "      <td>A/5 21171</td>\n",
       "      <td>7.2500</td>\n",
       "      <td>NaN</td>\n",
       "      <td>S</td>\n",
       "    </tr>\n",
       "    <tr>\n",
       "      <th>1</th>\n",
       "      <td>2</td>\n",
       "      <td>1</td>\n",
       "      <td>1</td>\n",
       "      <td>Cumings, Mrs. John Bradley (Florence Briggs Th...</td>\n",
       "      <td>female</td>\n",
       "      <td>38.0</td>\n",
       "      <td>1</td>\n",
       "      <td>0</td>\n",
       "      <td>PC 17599</td>\n",
       "      <td>71.2833</td>\n",
       "      <td>C85</td>\n",
       "      <td>C</td>\n",
       "    </tr>\n",
       "    <tr>\n",
       "      <th>2</th>\n",
       "      <td>3</td>\n",
       "      <td>1</td>\n",
       "      <td>3</td>\n",
       "      <td>Heikkinen, Miss. Laina</td>\n",
       "      <td>female</td>\n",
       "      <td>26.0</td>\n",
       "      <td>0</td>\n",
       "      <td>0</td>\n",
       "      <td>STON/O2. 3101282</td>\n",
       "      <td>7.9250</td>\n",
       "      <td>NaN</td>\n",
       "      <td>S</td>\n",
       "    </tr>\n",
       "    <tr>\n",
       "      <th>3</th>\n",
       "      <td>4</td>\n",
       "      <td>1</td>\n",
       "      <td>1</td>\n",
       "      <td>Futrelle, Mrs. Jacques Heath (Lily May Peel)</td>\n",
       "      <td>female</td>\n",
       "      <td>35.0</td>\n",
       "      <td>1</td>\n",
       "      <td>0</td>\n",
       "      <td>113803</td>\n",
       "      <td>53.1000</td>\n",
       "      <td>C123</td>\n",
       "      <td>S</td>\n",
       "    </tr>\n",
       "    <tr>\n",
       "      <th>4</th>\n",
       "      <td>5</td>\n",
       "      <td>0</td>\n",
       "      <td>3</td>\n",
       "      <td>Allen, Mr. William Henry</td>\n",
       "      <td>male</td>\n",
       "      <td>35.0</td>\n",
       "      <td>0</td>\n",
       "      <td>0</td>\n",
       "      <td>373450</td>\n",
       "      <td>8.0500</td>\n",
       "      <td>NaN</td>\n",
       "      <td>S</td>\n",
       "    </tr>\n",
       "    <tr>\n",
       "      <th>5</th>\n",
       "      <td>6</td>\n",
       "      <td>0</td>\n",
       "      <td>3</td>\n",
       "      <td>Moran, Mr. James</td>\n",
       "      <td>male</td>\n",
       "      <td>NaN</td>\n",
       "      <td>0</td>\n",
       "      <td>0</td>\n",
       "      <td>330877</td>\n",
       "      <td>8.4583</td>\n",
       "      <td>NaN</td>\n",
       "      <td>Q</td>\n",
       "    </tr>\n",
       "    <tr>\n",
       "      <th>6</th>\n",
       "      <td>7</td>\n",
       "      <td>0</td>\n",
       "      <td>1</td>\n",
       "      <td>McCarthy, Mr. Timothy J</td>\n",
       "      <td>male</td>\n",
       "      <td>54.0</td>\n",
       "      <td>0</td>\n",
       "      <td>0</td>\n",
       "      <td>17463</td>\n",
       "      <td>51.8625</td>\n",
       "      <td>E46</td>\n",
       "      <td>S</td>\n",
       "    </tr>\n",
       "    <tr>\n",
       "      <th>7</th>\n",
       "      <td>8</td>\n",
       "      <td>0</td>\n",
       "      <td>3</td>\n",
       "      <td>Palsson, Master. Gosta Leonard</td>\n",
       "      <td>male</td>\n",
       "      <td>2.0</td>\n",
       "      <td>3</td>\n",
       "      <td>1</td>\n",
       "      <td>349909</td>\n",
       "      <td>21.0750</td>\n",
       "      <td>NaN</td>\n",
       "      <td>S</td>\n",
       "    </tr>\n",
       "    <tr>\n",
       "      <th>8</th>\n",
       "      <td>9</td>\n",
       "      <td>1</td>\n",
       "      <td>3</td>\n",
       "      <td>Johnson, Mrs. Oscar W (Elisabeth Vilhelmina Berg)</td>\n",
       "      <td>female</td>\n",
       "      <td>27.0</td>\n",
       "      <td>0</td>\n",
       "      <td>2</td>\n",
       "      <td>347742</td>\n",
       "      <td>11.1333</td>\n",
       "      <td>NaN</td>\n",
       "      <td>S</td>\n",
       "    </tr>\n",
       "    <tr>\n",
       "      <th>9</th>\n",
       "      <td>10</td>\n",
       "      <td>1</td>\n",
       "      <td>2</td>\n",
       "      <td>Nasser, Mrs. Nicholas (Adele Achem)</td>\n",
       "      <td>female</td>\n",
       "      <td>14.0</td>\n",
       "      <td>1</td>\n",
       "      <td>0</td>\n",
       "      <td>237736</td>\n",
       "      <td>30.0708</td>\n",
       "      <td>NaN</td>\n",
       "      <td>C</td>\n",
       "    </tr>\n",
       "  </tbody>\n",
       "</table>\n",
       "</div>"
      ],
      "text/plain": [
       "   PassengerId  Survived  Pclass  \\\n",
       "0            1         0       3   \n",
       "1            2         1       1   \n",
       "2            3         1       3   \n",
       "3            4         1       1   \n",
       "4            5         0       3   \n",
       "5            6         0       3   \n",
       "6            7         0       1   \n",
       "7            8         0       3   \n",
       "8            9         1       3   \n",
       "9           10         1       2   \n",
       "\n",
       "                                                Name     Sex   Age  SibSp  \\\n",
       "0                            Braund, Mr. Owen Harris    male  22.0      1   \n",
       "1  Cumings, Mrs. John Bradley (Florence Briggs Th...  female  38.0      1   \n",
       "2                             Heikkinen, Miss. Laina  female  26.0      0   \n",
       "3       Futrelle, Mrs. Jacques Heath (Lily May Peel)  female  35.0      1   \n",
       "4                           Allen, Mr. William Henry    male  35.0      0   \n",
       "5                                   Moran, Mr. James    male   NaN      0   \n",
       "6                            McCarthy, Mr. Timothy J    male  54.0      0   \n",
       "7                     Palsson, Master. Gosta Leonard    male   2.0      3   \n",
       "8  Johnson, Mrs. Oscar W (Elisabeth Vilhelmina Berg)  female  27.0      0   \n",
       "9                Nasser, Mrs. Nicholas (Adele Achem)  female  14.0      1   \n",
       "\n",
       "   Parch            Ticket     Fare Cabin Embarked  \n",
       "0      0         A/5 21171   7.2500   NaN        S  \n",
       "1      0          PC 17599  71.2833   C85        C  \n",
       "2      0  STON/O2. 3101282   7.9250   NaN        S  \n",
       "3      0            113803  53.1000  C123        S  \n",
       "4      0            373450   8.0500   NaN        S  \n",
       "5      0            330877   8.4583   NaN        Q  \n",
       "6      0             17463  51.8625   E46        S  \n",
       "7      1            349909  21.0750   NaN        S  \n",
       "8      2            347742  11.1333   NaN        S  \n",
       "9      0            237736  30.0708   NaN        C  "
      ]
     },
     "execution_count": 1,
     "metadata": {},
     "output_type": "execute_result"
    }
   ],
   "source": [
    "import os\n",
    "import pandas as pd\n",
    "import numpy as np\n",
    "import seaborn as sns\n",
    "import matplotlib.pyplot as plt\n",
    "\n",
    "pd.set_option('display.max_rows',10)  \n",
    "\n",
    "root = os.getcwd()\n",
    "train_path = os.path.join(root,'titanic/train.csv')\n",
    "test_path = os.path.join(root,'titanic/test.csv')\n",
    "\n",
    "train_data = pd.read_csv(train_path)\n",
    "test_data = pd.read_csv(test_path)\n",
    "\n",
    "train_data.head(10)"
   ]
  },
  {
   "cell_type": "code",
   "execution_count": 2,
   "metadata": {},
   "outputs": [
    {
     "name": "stdout",
     "output_type": "stream",
     "text": [
      "<class 'pandas.core.frame.DataFrame'>\n",
      "RangeIndex: 891 entries, 0 to 890\n",
      "Data columns (total 12 columns):\n",
      "PassengerId    891 non-null int64\n",
      "Survived       891 non-null int64\n",
      "Pclass         891 non-null int64\n",
      "Name           891 non-null object\n",
      "Sex            891 non-null object\n",
      "Age            714 non-null float64\n",
      "SibSp          891 non-null int64\n",
      "Parch          891 non-null int64\n",
      "Ticket         891 non-null object\n",
      "Fare           891 non-null float64\n",
      "Cabin          204 non-null object\n",
      "Embarked       889 non-null object\n",
      "dtypes: float64(2), int64(5), object(5)\n",
      "memory usage: 83.6+ KB\n"
     ]
    }
   ],
   "source": [
    "train_data.info()"
   ]
  },
  {
   "cell_type": "markdown",
   "metadata": {},
   "source": [
    "## 資料描述\n",
    "\n",
    "![](https://i.imgur.com/wYq0bGy.jpg)\n",
    "\n",
    "\n",
    "這個訓練樣本數不多，只有900筆而已  \n",
    "把訓練樣本與測試樣本合併，作為觀察與處理  "
   ]
  },
  {
   "cell_type": "code",
   "execution_count": 3,
   "metadata": {},
   "outputs": [
    {
     "name": "stdout",
     "output_type": "stream",
     "text": [
      "<class 'pandas.core.frame.DataFrame'>\n",
      "RangeIndex: 1309 entries, 0 to 1308\n",
      "Data columns (total 13 columns):\n",
      "Age            1046 non-null float64\n",
      "Cabin          295 non-null object\n",
      "Embarked       1307 non-null object\n",
      "Fare           1308 non-null float64\n",
      "Name           1309 non-null object\n",
      "Parch          1309 non-null int64\n",
      "PassengerId    1309 non-null int64\n",
      "Pclass         1309 non-null int64\n",
      "Sex            1309 non-null object\n",
      "SibSp          1309 non-null int64\n",
      "Survived       891 non-null float64\n",
      "Ticket         1309 non-null object\n",
      "test_data      1309 non-null int64\n",
      "dtypes: float64(3), int64(5), object(5)\n",
      "memory usage: 133.0+ KB\n"
     ]
    }
   ],
   "source": [
    "train_data['test_data'] = 0\n",
    "test_data['test_data'] = 1\n",
    "data = train_data.append(test_data,ignore_index=True,sort=True)\n",
    "\n",
    "data.info()"
   ]
  },
  {
   "cell_type": "markdown",
   "metadata": {},
   "source": [
    "## Step2. 特徵觀察\n",
    "\n",
    "Deep Learning的訓練結果好壞取決於特徵的選取  \n",
    "使否有過冗的參數，或是無用的參數，與好的參數留取都是會影響到訓練的結果  \n",
    "在補上空白值的參數也是提升訓練結果的重要步驟  \n",
    "\n",
    "需要觀察資料來確認特徵關聯性來決定資料的處理"
   ]
  },
  {
   "cell_type": "markdown",
   "metadata": {},
   "source": [
    "### 觀察生還與死亡\n",
    "\n",
    "大約4成的人生存，可以用一般的logistic regresssion來做分類"
   ]
  },
  {
   "cell_type": "code",
   "execution_count": 4,
   "metadata": {},
   "outputs": [
    {
     "data": {
      "text/plain": [
       "<matplotlib.axes._subplots.AxesSubplot at 0x210823ef390>"
      ]
     },
     "execution_count": 4,
     "metadata": {},
     "output_type": "execute_result"
    },
    {
     "data": {
      "image/png": "[encoded data removed]",
      "text/plain": [
       "<Figure size 432x288 with 1 Axes>"
      ]
     },
     "metadata": {
      "needs_background": "light"
     },
     "output_type": "display_data"
    }
   ],
   "source": [
    "%matplotlib inline\n",
    "sns.countplot(data['Survived'])"
   ]
  },
  {
   "cell_type": "markdown",
   "metadata": {},
   "source": [
    "### 觀察性別與生存關係 Sex  \n",
    "\n",
    "女性生存的機率較高"
   ]
  },
  {
   "cell_type": "code",
   "execution_count": 5,
   "metadata": {},
   "outputs": [
    {
     "data": {
      "text/plain": [
       "<matplotlib.axes._subplots.AxesSubplot at 0x210826d6f98>"
      ]
     },
     "execution_count": 5,
     "metadata": {},
     "output_type": "execute_result"
    },
    {
     "data": {
      "image/png": "[encoded data removed]",
      "text/plain": [
       "<Figure size 432x288 with 1 Axes>"
      ]
     },
     "metadata": {
      "needs_background": "light"
     },
     "output_type": "display_data"
    }
   ],
   "source": [
    "sns.countplot(data['Survived'],hue=data['Sex'])"
   ]
  },
  {
   "cell_type": "markdown",
   "metadata": {},
   "source": [
    "### 艙等與生存率關係 Pclass\n",
    "  \n",
    "三等艙的死亡率較高，二等艙機率持平，一等艙生還率超過死亡率"
   ]
  },
  {
   "cell_type": "code",
   "execution_count": 6,
   "metadata": {},
   "outputs": [
    {
     "data": {
      "text/plain": [
       "<matplotlib.axes._subplots.AxesSubplot at 0x21082770a90>"
      ]
     },
     "execution_count": 6,
     "metadata": {},
     "output_type": "execute_result"
    },
    {
     "data": {
      "image/png": "[encoded data removed]",
      "text/plain": [
       "<Figure size 432x288 with 1 Axes>"
      ]
     },
     "metadata": {
      "needs_background": "light"
     },
     "output_type": "display_data"
    },
    {
     "data": {
      "image/png": "[encoded data removed]",
      "text/plain": [
       "<Figure size 432x288 with 1 Axes>"
      ]
     },
     "metadata": {
      "needs_background": "light"
     },
     "output_type": "display_data"
    }
   ],
   "source": [
    "sns.countplot(data['Survived'],hue=data['Pclass'])\n",
    "plt.figure()\n",
    "sns.countplot(data['Pclass'],hue=data['Survived'])"
   ]
  },
  {
   "cell_type": "markdown",
   "metadata": {},
   "source": [
    "### 家庭成員關係 SibSp & Parch\n",
    "\n",
    "可以看到單身的人其死亡率較高，在有家庭成員下的死亡率趨近於相等\n",
    "但是觀察性別在單身與否的狀況下發現其結果與觀察死亡性很像\n",
    "\n",
    "藉由畫出組合的結果，可以發現在單身下，死亡的幾乎為男性\n",
    "所以家庭成員這項要素可以視為冗餘的參數，暫時不需考慮進模型"
   ]
  },
  {
   "cell_type": "code",
   "execution_count": 7,
   "metadata": {},
   "outputs": [
    {
     "data": {
      "text/plain": [
       "<matplotlib.axes._subplots.AxesSubplot at 0x210829099e8>"
      ]
     },
     "execution_count": 7,
     "metadata": {},
     "output_type": "execute_result"
    },
    {
     "data": {
      "image/png": "[encoded data removed]",
      "text/plain": [
       "<Figure size 432x288 with 2 Axes>"
      ]
     },
     "metadata": {
      "needs_background": "light"
     },
     "output_type": "display_data"
    },
    {
     "data": {
      "image/png": "[encoded data removed]",
      "text/plain": [
       "<Figure size 432x288 with 2 Axes>"
      ]
     },
     "metadata": {
      "needs_background": "light"
     },
     "output_type": "display_data"
    },
    {
     "data": {
      "image/png": "[encoded data removed]",
      "text/plain": [
       "<Figure size 432x288 with 1 Axes>"
      ]
     },
     "metadata": {
      "needs_background": "light"
     },
     "output_type": "display_data"
    }
   ],
   "source": [
    "fig, [ax1,ax2] = plt.subplots(1,2)\n",
    "sns.countplot(data['SibSp'],hue=data['Survived'],ax=ax1)\n",
    "sns.countplot(data['Parch'],hue=data['Survived'],ax=ax2)\n",
    "\n",
    "\n",
    "fig, [ax1,ax2] = plt.subplots(1,2)\n",
    "sns.countplot(data['SibSp'],hue=data['Sex'],ax=ax1)\n",
    "sns.countplot(data['Parch'],hue=data['Sex'],ax=ax2)\n",
    "\n",
    "\n",
    "data['Family_size_and_Sex'] = (data['Parch']+data['SibSp']).map(lambda x : 1 if x >1 else 0).astype('str')+'_'+data['Sex']\n",
    "\n",
    "\n",
    "plt.figure()\n",
    "sns.countplot(data['Family_size_and_Sex'],hue=data['Survived'])"
   ]
  },
  {
   "cell_type": "markdown",
   "metadata": {},
   "source": [
    "### 年齡關係 Age\n",
    "\n",
    "可以觀察到年齡較輕者在生存率上較高"
   ]
  },
  {
   "cell_type": "code",
   "execution_count": 8,
   "metadata": {},
   "outputs": [
    {
     "data": {
      "text/plain": [
       "<seaborn.axisgrid.FacetGrid at 0x2108298cf60>"
      ]
     },
     "execution_count": 8,
     "metadata": {},
     "output_type": "execute_result"
    },
    {
     "data": {
      "image/png": "[encoded data removed]",
      "text/plain": [
       "<Figure size 432x216 with 2 Axes>"
      ]
     },
     "metadata": {
      "needs_background": "light"
     },
     "output_type": "display_data"
    }
   ],
   "source": [
    "g= sns.FacetGrid(data,col='Survived')\n",
    "g.map(sns.distplot,'Age',kde=False)"
   ]
  },
  {
   "cell_type": "markdown",
   "metadata": {},
   "source": [
    "### 票價 Fare\n",
    "\n",
    "可以票價價低者的死亡率較高"
   ]
  },
  {
   "cell_type": "code",
   "execution_count": 9,
   "metadata": {},
   "outputs": [
    {
     "data": {
      "text/plain": [
       "<seaborn.axisgrid.FacetGrid at 0x21082b7d668>"
      ]
     },
     "execution_count": 9,
     "metadata": {},
     "output_type": "execute_result"
    },
    {
     "data": {
      "image/png": "[encoded data removed]",
      "text/plain": [
       "<Figure size 432x216 with 2 Axes>"
      ]
     },
     "metadata": {
      "needs_background": "light"
     },
     "output_type": "display_data"
    }
   ],
   "source": [
    "g= sns.FacetGrid(data,col='Survived')\n",
    "g.map(sns.distplot,'Fare',kde=False)"
   ]
  },
  {
   "cell_type": "markdown",
   "metadata": {},
   "source": [
    "有一筆缺失值，補上平均數就好  "
   ]
  },
  {
   "cell_type": "code",
   "execution_count": 10,
   "metadata": {},
   "outputs": [],
   "source": [
    "data.Fare = data.Fare.apply(lambda x: data.Fare.mean() if pd.isnull(x) else x)"
   ]
  },
  {
   "cell_type": "markdown",
   "metadata": {},
   "source": [
    "### 乘船處 Embarked\n",
    "\n",
    "乘船處對於死亡率的分布也是有關係的  \n",
    "但是進一步把每個港口的上船性別分布拆開來看  \n",
    "其實港口的差別只是因為性別關係帶來的影響  \n",
    "可以視作這是一個冗餘的參數"
   ]
  },
  {
   "cell_type": "code",
   "execution_count": 11,
   "metadata": {},
   "outputs": [
    {
     "data": {
      "text/plain": [
       "<matplotlib.axes._subplots.AxesSubplot at 0x21082c0d240>"
      ]
     },
     "execution_count": 11,
     "metadata": {},
     "output_type": "execute_result"
    },
    {
     "data": {
      "image/png": "[encoded data removed]",
      "text/plain": [
       "<Figure size 432x288 with 1 Axes>"
      ]
     },
     "metadata": {
      "needs_background": "light"
     },
     "output_type": "display_data"
    },
    {
     "data": {
      "image/png": "[encoded data removed]",
      "text/plain": [
       "<Figure size 432x288 with 1 Axes>"
      ]
     },
     "metadata": {
      "needs_background": "light"
     },
     "output_type": "display_data"
    }
   ],
   "source": [
    "sns.countplot(data['Embarked'],hue=data['Survived'])\n",
    "\n",
    "data['Embarked_Sex'] = data['Embarked']+'_'+data['Sex']\n",
    "plt.figure()\n",
    "sns.countplot(data['Embarked_Sex'],hue=data['Survived'], order=['S_male','S_female','C_male','C_female','Q_male','Q_female'])"
   ]
  },
  {
   "cell_type": "markdown",
   "metadata": {},
   "source": [
    "### 票等 Pclass\n",
    "票等在第三艙等也是有較高的死亡率  \n",
    "進一步分析看看是否又是性別帶出來的結果  \n",
    "發現在各個票等間，每個性別生存的比例不一樣  "
   ]
  },
  {
   "cell_type": "code",
   "execution_count": 12,
   "metadata": {},
   "outputs": [
    {
     "data": {
      "text/plain": [
       "<matplotlib.axes._subplots.AxesSubplot at 0x210827dd6d8>"
      ]
     },
     "execution_count": 12,
     "metadata": {},
     "output_type": "execute_result"
    },
    {
     "data": {
      "image/png": "[encoded data removed]",
      "text/plain": [
       "<Figure size 432x288 with 1 Axes>"
      ]
     },
     "metadata": {
      "needs_background": "light"
     },
     "output_type": "display_data"
    },
    {
     "data": {
      "image/png": "[encoded data removed]",
      "text/plain": [
       "<Figure size 432x288 with 1 Axes>"
      ]
     },
     "metadata": {
      "needs_background": "light"
     },
     "output_type": "display_data"
    }
   ],
   "source": [
    "sns.countplot(data['Pclass'],hue=data['Survived'])\n",
    "data['Pclass_Sex'] = data['Pclass'].astype('str')+'_'+data['Sex']\n",
    "\n",
    "plt.figure()\n",
    "sns.countplot(data['Pclass_Sex'],hue=data['Survived'], order=['1_male','1_female','2_male','2_female','3_male','3_female'])"
   ]
  },
  {
   "cell_type": "markdown",
   "metadata": {},
   "source": [
    "### 艙等 Cabin\n",
    "艙等的生存分布與性別分布呈現強相關  \n",
    "而性別的分布又會是生存率分布的強烈因子  \n",
    "判定這個參數是多餘的  "
   ]
  },
  {
   "cell_type": "code",
   "execution_count": 13,
   "metadata": {},
   "outputs": [
    {
     "name": "stdout",
     "output_type": "stream",
     "text": [
      "['NoCabin' 'C' 'E' 'G' 'D' 'A' 'B' 'F' 'T']\n"
     ]
    },
    {
     "data": {
      "text/plain": [
       "<matplotlib.axes._subplots.AxesSubplot at 0x2108284ab70>"
      ]
     },
     "execution_count": 13,
     "metadata": {},
     "output_type": "execute_result"
    },
    {
     "data": {
      "image/png": "[encoded data removed]",
      "text/plain": [
       "<Figure size 432x288 with 1 Axes>"
      ]
     },
     "metadata": {
      "needs_background": "light"
     },
     "output_type": "display_data"
    },
    {
     "data": {
      "image/png": "[encoded data removed]",
      "text/plain": [
       "<Figure size 432x288 with 1 Axes>"
      ]
     },
     "metadata": {
      "needs_background": "light"
     },
     "output_type": "display_data"
    }
   ],
   "source": [
    "data['Cabin'] = data['Cabin'].apply(lambda x: str(x)[0] if not pd.isnull(x) else 'NoCabin')\n",
    "print(data['Cabin'].unique())\n",
    "\n",
    "sns.countplot(data['Cabin'],hue=data['Survived'])\n",
    "plt.figure()\n",
    "sns.countplot(data['Cabin'],hue=data['Sex'])"
   ]
  },
  {
   "cell_type": "markdown",
   "metadata": {},
   "source": [
    "### 姓名 Name\n",
    "\n",
    "姓名欄內都會有稱謂  \n",
    "我們知道稱謂與年齡有相關性\n",
    "因此我們利用稱謂來填補年齡"
   ]
  },
  {
   "cell_type": "code",
   "execution_count": 14,
   "metadata": {},
   "outputs": [
    {
     "data": {
      "text/plain": [
       "{'Capt': 70.0,\n",
       " 'Col': 54.5,\n",
       " 'Don': 40.0,\n",
       " 'Dona': 39.0,\n",
       " 'Dr': 49.0,\n",
       " 'Jonkheer': 38.0,\n",
       " 'Lady': 48.0,\n",
       " 'Major': 48.5,\n",
       " 'Master': 4.0,\n",
       " 'Miss': 22.0,\n",
       " 'Mlle': 24.0,\n",
       " 'Mme': 24.0,\n",
       " 'Mr': 29.0,\n",
       " 'Mrs': 35.5,\n",
       " 'Ms': 28.0,\n",
       " 'Rev': 41.5,\n",
       " 'Sir': 49.0,\n",
       " 'th': 33.0}"
      ]
     },
     "execution_count": 14,
     "metadata": {},
     "output_type": "execute_result"
    }
   ],
   "source": [
    "data['Title']=data['Name'].str.split(', ',n=0,expand=True)[1]\n",
    "data['Title']=data['Title'].str.split('. ',n=0,expand=True)[0]\n",
    "map_of_age = dict(data.groupby(['Title'])['Age'].median())\n",
    "map_of_age"
   ]
  },
  {
   "cell_type": "code",
   "execution_count": 15,
   "metadata": {},
   "outputs": [
    {
     "name": "stderr",
     "output_type": "stream",
     "text": [
      "C:\\Users\\a2720\\Anaconda3\\lib\\site-packages\\ipykernel_launcher.py:3: SettingWithCopyWarning: \n",
      "A value is trying to be set on a copy of a slice from a DataFrame\n",
      "\n",
      "See the caveats in the documentation: http://pandas.pydata.org/pandas-docs/stable/indexing.html#indexing-view-versus-copy\n",
      "  This is separate from the ipykernel package so we can avoid doing imports until\n"
     ]
    }
   ],
   "source": [
    "for i in range(len(data['Age'])):\n",
    "    if data.Age.isnull()[i]:\n",
    "        data.Age[i]=map_of_age[data.Title[i]]\n"
   ]
  },
  {
   "cell_type": "markdown",
   "metadata": {},
   "source": [
    "### 票根 Ticket\n",
    "\n",
    "收先觀察Ticket內容  \n",
    "可以發現有一部分票的內容是重複的  "
   ]
  },
  {
   "cell_type": "code",
   "execution_count": 16,
   "metadata": {},
   "outputs": [
    {
     "data": {
      "text/plain": [
       "count         1309\n",
       "unique         929\n",
       "top       CA. 2343\n",
       "freq            11\n",
       "Name: Ticket, dtype: object"
      ]
     },
     "execution_count": 16,
     "metadata": {},
     "output_type": "execute_result"
    }
   ],
   "source": [
    "data['Ticket'].describe()"
   ]
  },
  {
   "cell_type": "code",
   "execution_count": 17,
   "metadata": {},
   "outputs": [],
   "source": [
    "count_of_ticket = dict(data.groupby(['Ticket'])['Ticket'].count())"
   ]
  },
  {
   "cell_type": "code",
   "execution_count": 19,
   "metadata": {},
   "outputs": [
    {
     "name": "stderr",
     "output_type": "stream",
     "text": [
      "C:\\Users\\a2720\\Anaconda3\\lib\\site-packages\\ipykernel_launcher.py:4: SettingWithCopyWarning: \n",
      "A value is trying to be set on a copy of a slice from a DataFrame\n",
      "\n",
      "See the caveats in the documentation: http://pandas.pydata.org/pandas-docs/stable/indexing.html#indexing-view-versus-copy\n",
      "  after removing the cwd from sys.path.\n"
     ]
    }
   ],
   "source": [
    "data['Ticket_group']=0\n",
    "for i in range(len(data['Ticket'])):\n",
    "    if count_of_ticket[data.Ticket[i]]>3 and (data.SibSp[i]+data.Parch[i])>3:\n",
    "        data.Ticket_group[i]=1"
   ]
  },
  {
   "cell_type": "code",
   "execution_count": 20,
   "metadata": {},
   "outputs": [
    {
     "data": {
      "text/plain": [
       "Ticket_group\n",
       "0    1232\n",
       "1      77\n",
       "Name: Ticket_group, dtype: int64"
      ]
     },
     "execution_count": 20,
     "metadata": {},
     "output_type": "execute_result"
    },
    {
     "data": {
      "image/png": "[encoded data removed]",
      "text/plain": [
       "<Figure size 432x288 with 1 Axes>"
      ]
     },
     "metadata": {
      "needs_background": "light"
     },
     "output_type": "display_data"
    }
   ],
   "source": [
    "sns.countplot(data['Ticket_group'],hue=data['Survived'])\n",
    "data.groupby(['Ticket_group'])['Ticket_group'].count()"
   ]
  },
  {
   "cell_type": "markdown",
   "metadata": {},
   "source": [
    "## Step3. 資料預處理\n",
    "\n",
    "資料的處理有兩個處理方法  \n",
    "其一是one hot encoding，如果資料為無序的，就會利用此方法對資料做編碼  \n",
    "來把資料轉換維n維向量，讓其數據與原點的距離一致。  \n",
    "  \n",
    "另一個方法是當資料是有序的時候，直接數值化mapping資料  \n",
    "讓每筆資料以一個數字表示，這會讓資料與原點距離不同。\n",
    "\n",
    "把特徵工程觀察的結果處理在我們的資料集上\n",
    "\n",
    "以下是處理過的原始資料  \n",
    "要把他轉換成model吃的資料"
   ]
  },
  {
   "cell_type": "code",
   "execution_count": 21,
   "metadata": {},
   "outputs": [
    {
     "data": {
      "text/html": [
       "<div>\n",
       "<style scoped>\n",
       "    .dataframe tbody tr th:only-of-type {\n",
       "        vertical-align: middle;\n",
       "    }\n",
       "\n",
       "    .dataframe tbody tr th {\n",
       "        vertical-align: top;\n",
       "    }\n",
       "\n",
       "    .dataframe thead th {\n",
       "        text-align: right;\n",
       "    }\n",
       "</style>\n",
       "<table border=\"1\" class=\"dataframe\">\n",
       "  <thead>\n",
       "    <tr style=\"text-align: right;\">\n",
       "      <th></th>\n",
       "      <th>Age</th>\n",
       "      <th>Cabin</th>\n",
       "      <th>Embarked</th>\n",
       "      <th>Fare</th>\n",
       "      <th>Name</th>\n",
       "      <th>Parch</th>\n",
       "      <th>PassengerId</th>\n",
       "      <th>Pclass</th>\n",
       "      <th>Sex</th>\n",
       "      <th>SibSp</th>\n",
       "      <th>Survived</th>\n",
       "      <th>Ticket</th>\n",
       "      <th>test_data</th>\n",
       "      <th>Family_size_and_Sex</th>\n",
       "      <th>Embarked_Sex</th>\n",
       "      <th>Pclass_Sex</th>\n",
       "      <th>Title</th>\n",
       "      <th>Ticket_group</th>\n",
       "    </tr>\n",
       "  </thead>\n",
       "  <tbody>\n",
       "    <tr>\n",
       "      <th>0</th>\n",
       "      <td>22.0</td>\n",
       "      <td>NoCabin</td>\n",
       "      <td>S</td>\n",
       "      <td>7.2500</td>\n",
       "      <td>Braund, Mr. Owen Harris</td>\n",
       "      <td>0</td>\n",
       "      <td>1</td>\n",
       "      <td>3</td>\n",
       "      <td>male</td>\n",
       "      <td>1</td>\n",
       "      <td>0.0</td>\n",
       "      <td>A/5 21171</td>\n",
       "      <td>0</td>\n",
       "      <td>0_male</td>\n",
       "      <td>S_male</td>\n",
       "      <td>3_male</td>\n",
       "      <td>Mr</td>\n",
       "      <td>0</td>\n",
       "    </tr>\n",
       "    <tr>\n",
       "      <th>1</th>\n",
       "      <td>38.0</td>\n",
       "      <td>C</td>\n",
       "      <td>C</td>\n",
       "      <td>71.2833</td>\n",
       "      <td>Cumings, Mrs. John Bradley (Florence Briggs Th...</td>\n",
       "      <td>0</td>\n",
       "      <td>2</td>\n",
       "      <td>1</td>\n",
       "      <td>female</td>\n",
       "      <td>1</td>\n",
       "      <td>1.0</td>\n",
       "      <td>PC 17599</td>\n",
       "      <td>0</td>\n",
       "      <td>0_female</td>\n",
       "      <td>C_female</td>\n",
       "      <td>1_female</td>\n",
       "      <td>Mrs</td>\n",
       "      <td>0</td>\n",
       "    </tr>\n",
       "    <tr>\n",
       "      <th>2</th>\n",
       "      <td>26.0</td>\n",
       "      <td>NoCabin</td>\n",
       "      <td>S</td>\n",
       "      <td>7.9250</td>\n",
       "      <td>Heikkinen, Miss. Laina</td>\n",
       "      <td>0</td>\n",
       "      <td>3</td>\n",
       "      <td>3</td>\n",
       "      <td>female</td>\n",
       "      <td>0</td>\n",
       "      <td>1.0</td>\n",
       "      <td>STON/O2. 3101282</td>\n",
       "      <td>0</td>\n",
       "      <td>0_female</td>\n",
       "      <td>S_female</td>\n",
       "      <td>3_female</td>\n",
       "      <td>Miss</td>\n",
       "      <td>0</td>\n",
       "    </tr>\n",
       "    <tr>\n",
       "      <th>3</th>\n",
       "      <td>35.0</td>\n",
       "      <td>C</td>\n",
       "      <td>S</td>\n",
       "      <td>53.1000</td>\n",
       "      <td>Futrelle, Mrs. Jacques Heath (Lily May Peel)</td>\n",
       "      <td>0</td>\n",
       "      <td>4</td>\n",
       "      <td>1</td>\n",
       "      <td>female</td>\n",
       "      <td>1</td>\n",
       "      <td>1.0</td>\n",
       "      <td>113803</td>\n",
       "      <td>0</td>\n",
       "      <td>0_female</td>\n",
       "      <td>S_female</td>\n",
       "      <td>1_female</td>\n",
       "      <td>Mrs</td>\n",
       "      <td>0</td>\n",
       "    </tr>\n",
       "    <tr>\n",
       "      <th>4</th>\n",
       "      <td>35.0</td>\n",
       "      <td>NoCabin</td>\n",
       "      <td>S</td>\n",
       "      <td>8.0500</td>\n",
       "      <td>Allen, Mr. William Henry</td>\n",
       "      <td>0</td>\n",
       "      <td>5</td>\n",
       "      <td>3</td>\n",
       "      <td>male</td>\n",
       "      <td>0</td>\n",
       "      <td>0.0</td>\n",
       "      <td>373450</td>\n",
       "      <td>0</td>\n",
       "      <td>0_male</td>\n",
       "      <td>S_male</td>\n",
       "      <td>3_male</td>\n",
       "      <td>Mr</td>\n",
       "      <td>0</td>\n",
       "    </tr>\n",
       "    <tr>\n",
       "      <th>5</th>\n",
       "      <td>29.0</td>\n",
       "      <td>NoCabin</td>\n",
       "      <td>Q</td>\n",
       "      <td>8.4583</td>\n",
       "      <td>Moran, Mr. James</td>\n",
       "      <td>0</td>\n",
       "      <td>6</td>\n",
       "      <td>3</td>\n",
       "      <td>male</td>\n",
       "      <td>0</td>\n",
       "      <td>0.0</td>\n",
       "      <td>330877</td>\n",
       "      <td>0</td>\n",
       "      <td>0_male</td>\n",
       "      <td>Q_male</td>\n",
       "      <td>3_male</td>\n",
       "      <td>Mr</td>\n",
       "      <td>0</td>\n",
       "    </tr>\n",
       "    <tr>\n",
       "      <th>6</th>\n",
       "      <td>54.0</td>\n",
       "      <td>E</td>\n",
       "      <td>S</td>\n",
       "      <td>51.8625</td>\n",
       "      <td>McCarthy, Mr. Timothy J</td>\n",
       "      <td>0</td>\n",
       "      <td>7</td>\n",
       "      <td>1</td>\n",
       "      <td>male</td>\n",
       "      <td>0</td>\n",
       "      <td>0.0</td>\n",
       "      <td>17463</td>\n",
       "      <td>0</td>\n",
       "      <td>0_male</td>\n",
       "      <td>S_male</td>\n",
       "      <td>1_male</td>\n",
       "      <td>Mr</td>\n",
       "      <td>0</td>\n",
       "    </tr>\n",
       "    <tr>\n",
       "      <th>7</th>\n",
       "      <td>2.0</td>\n",
       "      <td>NoCabin</td>\n",
       "      <td>S</td>\n",
       "      <td>21.0750</td>\n",
       "      <td>Palsson, Master. Gosta Leonard</td>\n",
       "      <td>1</td>\n",
       "      <td>8</td>\n",
       "      <td>3</td>\n",
       "      <td>male</td>\n",
       "      <td>3</td>\n",
       "      <td>0.0</td>\n",
       "      <td>349909</td>\n",
       "      <td>0</td>\n",
       "      <td>1_male</td>\n",
       "      <td>S_male</td>\n",
       "      <td>3_male</td>\n",
       "      <td>Master</td>\n",
       "      <td>1</td>\n",
       "    </tr>\n",
       "    <tr>\n",
       "      <th>8</th>\n",
       "      <td>27.0</td>\n",
       "      <td>NoCabin</td>\n",
       "      <td>S</td>\n",
       "      <td>11.1333</td>\n",
       "      <td>Johnson, Mrs. Oscar W (Elisabeth Vilhelmina Berg)</td>\n",
       "      <td>2</td>\n",
       "      <td>9</td>\n",
       "      <td>3</td>\n",
       "      <td>female</td>\n",
       "      <td>0</td>\n",
       "      <td>1.0</td>\n",
       "      <td>347742</td>\n",
       "      <td>0</td>\n",
       "      <td>1_female</td>\n",
       "      <td>S_female</td>\n",
       "      <td>3_female</td>\n",
       "      <td>Mrs</td>\n",
       "      <td>0</td>\n",
       "    </tr>\n",
       "    <tr>\n",
       "      <th>9</th>\n",
       "      <td>14.0</td>\n",
       "      <td>NoCabin</td>\n",
       "      <td>C</td>\n",
       "      <td>30.0708</td>\n",
       "      <td>Nasser, Mrs. Nicholas (Adele Achem)</td>\n",
       "      <td>0</td>\n",
       "      <td>10</td>\n",
       "      <td>2</td>\n",
       "      <td>female</td>\n",
       "      <td>1</td>\n",
       "      <td>1.0</td>\n",
       "      <td>237736</td>\n",
       "      <td>0</td>\n",
       "      <td>0_female</td>\n",
       "      <td>C_female</td>\n",
       "      <td>2_female</td>\n",
       "      <td>Mrs</td>\n",
       "      <td>0</td>\n",
       "    </tr>\n",
       "  </tbody>\n",
       "</table>\n",
       "</div>"
      ],
      "text/plain": [
       "    Age    Cabin Embarked     Fare  \\\n",
       "0  22.0  NoCabin        S   7.2500   \n",
       "1  38.0        C        C  71.2833   \n",
       "2  26.0  NoCabin        S   7.9250   \n",
       "3  35.0        C        S  53.1000   \n",
       "4  35.0  NoCabin        S   8.0500   \n",
       "5  29.0  NoCabin        Q   8.4583   \n",
       "6  54.0        E        S  51.8625   \n",
       "7   2.0  NoCabin        S  21.0750   \n",
       "8  27.0  NoCabin        S  11.1333   \n",
       "9  14.0  NoCabin        C  30.0708   \n",
       "\n",
       "                                                Name  Parch  PassengerId  \\\n",
       "0                            Braund, Mr. Owen Harris      0            1   \n",
       "1  Cumings, Mrs. John Bradley (Florence Briggs Th...      0            2   \n",
       "2                             Heikkinen, Miss. Laina      0            3   \n",
       "3       Futrelle, Mrs. Jacques Heath (Lily May Peel)      0            4   \n",
       "4                           Allen, Mr. William Henry      0            5   \n",
       "5                                   Moran, Mr. James      0            6   \n",
       "6                            McCarthy, Mr. Timothy J      0            7   \n",
       "7                     Palsson, Master. Gosta Leonard      1            8   \n",
       "8  Johnson, Mrs. Oscar W (Elisabeth Vilhelmina Berg)      2            9   \n",
       "9                Nasser, Mrs. Nicholas (Adele Achem)      0           10   \n",
       "\n",
       "   Pclass     Sex  SibSp  Survived            Ticket  test_data  \\\n",
       "0       3    male      1       0.0         A/5 21171          0   \n",
       "1       1  female      1       1.0          PC 17599          0   \n",
       "2       3  female      0       1.0  STON/O2. 3101282          0   \n",
       "3       1  female      1       1.0            113803          0   \n",
       "4       3    male      0       0.0            373450          0   \n",
       "5       3    male      0       0.0            330877          0   \n",
       "6       1    male      0       0.0             17463          0   \n",
       "7       3    male      3       0.0            349909          0   \n",
       "8       3  female      0       1.0            347742          0   \n",
       "9       2  female      1       1.0            237736          0   \n",
       "\n",
       "  Family_size_and_Sex Embarked_Sex Pclass_Sex   Title  Ticket_group  \n",
       "0              0_male       S_male     3_male      Mr             0  \n",
       "1            0_female     C_female   1_female     Mrs             0  \n",
       "2            0_female     S_female   3_female    Miss             0  \n",
       "3            0_female     S_female   1_female     Mrs             0  \n",
       "4              0_male       S_male     3_male      Mr             0  \n",
       "5              0_male       Q_male     3_male      Mr             0  \n",
       "6              0_male       S_male     1_male      Mr             0  \n",
       "7              1_male       S_male     3_male  Master             1  \n",
       "8            1_female     S_female   3_female     Mrs             0  \n",
       "9            0_female     C_female   2_female     Mrs             0  "
      ]
     },
     "execution_count": 21,
     "metadata": {},
     "output_type": "execute_result"
    }
   ],
   "source": [
    "data.head(10)"
   ]
  },
  {
   "cell_type": "code",
   "execution_count": 22,
   "metadata": {},
   "outputs": [],
   "source": [
    "train_data = data[data['test_data']==0].iloc[:,0:12]\n",
    "test_data = data[data['test_data']==1].iloc[:,0:12]"
   ]
  },
  {
   "cell_type": "code",
   "execution_count": 23,
   "metadata": {},
   "outputs": [],
   "source": [
    "train_data_label = train_data.Survived\n",
    "\n",
    "train_data = train_data.drop(['Name','Cabin','Embarked','PassengerId','SibSp','Parch','Survived','Ticket'],axis=1)\n",
    "test_data = test_data.drop(['Name','Cabin','Embarked','PassengerId','SibSp','Parch','Survived','Ticket'],axis=1)"
   ]
  },
  {
   "cell_type": "markdown",
   "metadata": {},
   "source": [
    "### one_hot_encoding\n",
    "\n",
    "pandas有很方便的函數  get_dummies  \n",
    "可以簡單的幫助資料型態轉成one hot的形式  "
   ]
  },
  {
   "cell_type": "code",
   "execution_count": 24,
   "metadata": {},
   "outputs": [],
   "source": [
    "def one_hot(data, col):\n",
    "    temp = pd.get_dummies(data[col],prefix=col)\n",
    "    data = data.drop([col],axis=1)\n",
    "    data = pd.concat([data,temp],axis=1)\n",
    "    return data"
   ]
  },
  {
   "cell_type": "markdown",
   "metadata": {},
   "source": [
    "把sex與pclass轉成one hot"
   ]
  },
  {
   "cell_type": "code",
   "execution_count": 25,
   "metadata": {},
   "outputs": [],
   "source": [
    "train_data = one_hot(train_data,'Sex')\n",
    "train_data = one_hot(train_data,'Pclass')\n",
    "test_data = one_hot(test_data,'Sex')\n",
    "test_data = one_hot(test_data,'Pclass')"
   ]
  },
  {
   "cell_type": "markdown",
   "metadata": {},
   "source": [
    "把ticket group也加入"
   ]
  },
  {
   "cell_type": "code",
   "execution_count": 26,
   "metadata": {},
   "outputs": [
    {
     "data": {
      "text/html": [
       "<div>\n",
       "<style scoped>\n",
       "    .dataframe tbody tr th:only-of-type {\n",
       "        vertical-align: middle;\n",
       "    }\n",
       "\n",
       "    .dataframe tbody tr th {\n",
       "        vertical-align: top;\n",
       "    }\n",
       "\n",
       "    .dataframe thead th {\n",
       "        text-align: right;\n",
       "    }\n",
       "</style>\n",
       "<table border=\"1\" class=\"dataframe\">\n",
       "  <thead>\n",
       "    <tr style=\"text-align: right;\">\n",
       "      <th></th>\n",
       "      <th>Age</th>\n",
       "      <th>Fare</th>\n",
       "      <th>Sex_female</th>\n",
       "      <th>Sex_male</th>\n",
       "      <th>Pclass_1</th>\n",
       "      <th>Pclass_2</th>\n",
       "      <th>Pclass_3</th>\n",
       "      <th>Ticket_group</th>\n",
       "    </tr>\n",
       "  </thead>\n",
       "  <tbody>\n",
       "    <tr>\n",
       "      <th>0</th>\n",
       "      <td>22.0</td>\n",
       "      <td>7.2500</td>\n",
       "      <td>0.0</td>\n",
       "      <td>1.0</td>\n",
       "      <td>0.0</td>\n",
       "      <td>0.0</td>\n",
       "      <td>1.0</td>\n",
       "      <td>0</td>\n",
       "    </tr>\n",
       "    <tr>\n",
       "      <th>1</th>\n",
       "      <td>38.0</td>\n",
       "      <td>71.2833</td>\n",
       "      <td>1.0</td>\n",
       "      <td>0.0</td>\n",
       "      <td>1.0</td>\n",
       "      <td>0.0</td>\n",
       "      <td>0.0</td>\n",
       "      <td>0</td>\n",
       "    </tr>\n",
       "    <tr>\n",
       "      <th>2</th>\n",
       "      <td>26.0</td>\n",
       "      <td>7.9250</td>\n",
       "      <td>1.0</td>\n",
       "      <td>0.0</td>\n",
       "      <td>0.0</td>\n",
       "      <td>0.0</td>\n",
       "      <td>1.0</td>\n",
       "      <td>0</td>\n",
       "    </tr>\n",
       "    <tr>\n",
       "      <th>3</th>\n",
       "      <td>35.0</td>\n",
       "      <td>53.1000</td>\n",
       "      <td>1.0</td>\n",
       "      <td>0.0</td>\n",
       "      <td>1.0</td>\n",
       "      <td>0.0</td>\n",
       "      <td>0.0</td>\n",
       "      <td>0</td>\n",
       "    </tr>\n",
       "    <tr>\n",
       "      <th>4</th>\n",
       "      <td>35.0</td>\n",
       "      <td>8.0500</td>\n",
       "      <td>0.0</td>\n",
       "      <td>1.0</td>\n",
       "      <td>0.0</td>\n",
       "      <td>0.0</td>\n",
       "      <td>1.0</td>\n",
       "      <td>0</td>\n",
       "    </tr>\n",
       "    <tr>\n",
       "      <th>...</th>\n",
       "      <td>...</td>\n",
       "      <td>...</td>\n",
       "      <td>...</td>\n",
       "      <td>...</td>\n",
       "      <td>...</td>\n",
       "      <td>...</td>\n",
       "      <td>...</td>\n",
       "      <td>...</td>\n",
       "    </tr>\n",
       "    <tr>\n",
       "      <th>886</th>\n",
       "      <td>27.0</td>\n",
       "      <td>13.0000</td>\n",
       "      <td>0.0</td>\n",
       "      <td>1.0</td>\n",
       "      <td>0.0</td>\n",
       "      <td>1.0</td>\n",
       "      <td>0.0</td>\n",
       "      <td>0</td>\n",
       "    </tr>\n",
       "    <tr>\n",
       "      <th>887</th>\n",
       "      <td>19.0</td>\n",
       "      <td>30.0000</td>\n",
       "      <td>1.0</td>\n",
       "      <td>0.0</td>\n",
       "      <td>1.0</td>\n",
       "      <td>0.0</td>\n",
       "      <td>0.0</td>\n",
       "      <td>0</td>\n",
       "    </tr>\n",
       "    <tr>\n",
       "      <th>888</th>\n",
       "      <td>22.0</td>\n",
       "      <td>23.4500</td>\n",
       "      <td>1.0</td>\n",
       "      <td>0.0</td>\n",
       "      <td>0.0</td>\n",
       "      <td>0.0</td>\n",
       "      <td>1.0</td>\n",
       "      <td>0</td>\n",
       "    </tr>\n",
       "    <tr>\n",
       "      <th>889</th>\n",
       "      <td>26.0</td>\n",
       "      <td>30.0000</td>\n",
       "      <td>0.0</td>\n",
       "      <td>1.0</td>\n",
       "      <td>1.0</td>\n",
       "      <td>0.0</td>\n",
       "      <td>0.0</td>\n",
       "      <td>0</td>\n",
       "    </tr>\n",
       "    <tr>\n",
       "      <th>890</th>\n",
       "      <td>32.0</td>\n",
       "      <td>7.7500</td>\n",
       "      <td>0.0</td>\n",
       "      <td>1.0</td>\n",
       "      <td>0.0</td>\n",
       "      <td>0.0</td>\n",
       "      <td>1.0</td>\n",
       "      <td>0</td>\n",
       "    </tr>\n",
       "  </tbody>\n",
       "</table>\n",
       "<p>891 rows × 8 columns</p>\n",
       "</div>"
      ],
      "text/plain": [
       "      Age     Fare  Sex_female  Sex_male  Pclass_1  Pclass_2  Pclass_3  \\\n",
       "0    22.0   7.2500         0.0       1.0       0.0       0.0       1.0   \n",
       "1    38.0  71.2833         1.0       0.0       1.0       0.0       0.0   \n",
       "2    26.0   7.9250         1.0       0.0       0.0       0.0       1.0   \n",
       "3    35.0  53.1000         1.0       0.0       1.0       0.0       0.0   \n",
       "4    35.0   8.0500         0.0       1.0       0.0       0.0       1.0   \n",
       "..    ...      ...         ...       ...       ...       ...       ...   \n",
       "886  27.0  13.0000         0.0       1.0       0.0       1.0       0.0   \n",
       "887  19.0  30.0000         1.0       0.0       1.0       0.0       0.0   \n",
       "888  22.0  23.4500         1.0       0.0       0.0       0.0       1.0   \n",
       "889  26.0  30.0000         0.0       1.0       1.0       0.0       0.0   \n",
       "890  32.0   7.7500         0.0       1.0       0.0       0.0       1.0   \n",
       "\n",
       "     Ticket_group  \n",
       "0               0  \n",
       "1               0  \n",
       "2               0  \n",
       "3               0  \n",
       "4               0  \n",
       "..            ...  \n",
       "886             0  \n",
       "887             0  \n",
       "888             0  \n",
       "889             0  \n",
       "890             0  \n",
       "\n",
       "[891 rows x 8 columns]"
      ]
     },
     "execution_count": 26,
     "metadata": {},
     "output_type": "execute_result"
    }
   ],
   "source": [
    "train_data=pd.concat([train_data,data.Ticket_group],axis=1).dropna()\n",
    "test_data=pd.concat([test_data,data.Ticket_group],axis=1).dropna()\n",
    "train_data"
   ]
  },
  {
   "cell_type": "markdown",
   "metadata": {},
   "source": [
    "### normalization\n",
    "\n",
    "在Deep Learning上，需要把資料縮放到[0,1] 區間  \n",
    "否則在該參數的梯度下降會被拖累  "
   ]
  },
  {
   "cell_type": "code",
   "execution_count": 27,
   "metadata": {},
   "outputs": [],
   "source": [
    "def normalization(data, col):\n",
    "    data[col] = (data[col] - data[col].min()) / (data[col].max() - data[col].min())\n",
    "    return data"
   ]
  },
  {
   "cell_type": "code",
   "execution_count": 28,
   "metadata": {},
   "outputs": [],
   "source": [
    "train_data = normalization(train_data, 'Age')\n",
    "train_data = normalization(train_data, 'Fare')\n",
    "test_data = normalization(test_data, 'Age')\n",
    "test_data = normalization(test_data, 'Fare')"
   ]
  },
  {
   "cell_type": "code",
   "execution_count": 29,
   "metadata": {},
   "outputs": [
    {
     "data": {
      "text/html": [
       "<div>\n",
       "<style scoped>\n",
       "    .dataframe tbody tr th:only-of-type {\n",
       "        vertical-align: middle;\n",
       "    }\n",
       "\n",
       "    .dataframe tbody tr th {\n",
       "        vertical-align: top;\n",
       "    }\n",
       "\n",
       "    .dataframe thead th {\n",
       "        text-align: right;\n",
       "    }\n",
       "</style>\n",
       "<table border=\"1\" class=\"dataframe\">\n",
       "  <thead>\n",
       "    <tr style=\"text-align: right;\">\n",
       "      <th></th>\n",
       "      <th>Age</th>\n",
       "      <th>Fare</th>\n",
       "      <th>Sex_female</th>\n",
       "      <th>Sex_male</th>\n",
       "      <th>Pclass_1</th>\n",
       "      <th>Pclass_2</th>\n",
       "      <th>Pclass_3</th>\n",
       "      <th>Ticket_group</th>\n",
       "    </tr>\n",
       "  </thead>\n",
       "  <tbody>\n",
       "    <tr>\n",
       "      <th>891</th>\n",
       "      <td>0.452723</td>\n",
       "      <td>0.015282</td>\n",
       "      <td>0.0</td>\n",
       "      <td>1.0</td>\n",
       "      <td>0.0</td>\n",
       "      <td>0.0</td>\n",
       "      <td>1.0</td>\n",
       "      <td>0.0</td>\n",
       "    </tr>\n",
       "    <tr>\n",
       "      <th>892</th>\n",
       "      <td>0.617566</td>\n",
       "      <td>0.013663</td>\n",
       "      <td>1.0</td>\n",
       "      <td>0.0</td>\n",
       "      <td>0.0</td>\n",
       "      <td>0.0</td>\n",
       "      <td>1.0</td>\n",
       "      <td>0.0</td>\n",
       "    </tr>\n",
       "    <tr>\n",
       "      <th>893</th>\n",
       "      <td>0.815377</td>\n",
       "      <td>0.018909</td>\n",
       "      <td>0.0</td>\n",
       "      <td>1.0</td>\n",
       "      <td>0.0</td>\n",
       "      <td>1.0</td>\n",
       "      <td>0.0</td>\n",
       "      <td>0.0</td>\n",
       "    </tr>\n",
       "    <tr>\n",
       "      <th>894</th>\n",
       "      <td>0.353818</td>\n",
       "      <td>0.016908</td>\n",
       "      <td>0.0</td>\n",
       "      <td>1.0</td>\n",
       "      <td>0.0</td>\n",
       "      <td>0.0</td>\n",
       "      <td>1.0</td>\n",
       "      <td>0.0</td>\n",
       "    </tr>\n",
       "    <tr>\n",
       "      <th>895</th>\n",
       "      <td>0.287881</td>\n",
       "      <td>0.023984</td>\n",
       "      <td>1.0</td>\n",
       "      <td>0.0</td>\n",
       "      <td>0.0</td>\n",
       "      <td>0.0</td>\n",
       "      <td>1.0</td>\n",
       "      <td>0.0</td>\n",
       "    </tr>\n",
       "    <tr>\n",
       "      <th>...</th>\n",
       "      <td>...</td>\n",
       "      <td>...</td>\n",
       "      <td>...</td>\n",
       "      <td>...</td>\n",
       "      <td>...</td>\n",
       "      <td>...</td>\n",
       "      <td>...</td>\n",
       "      <td>...</td>\n",
       "    </tr>\n",
       "    <tr>\n",
       "      <th>1304</th>\n",
       "      <td>0.380193</td>\n",
       "      <td>0.015713</td>\n",
       "      <td>0.0</td>\n",
       "      <td>1.0</td>\n",
       "      <td>0.0</td>\n",
       "      <td>0.0</td>\n",
       "      <td>1.0</td>\n",
       "      <td>0.0</td>\n",
       "    </tr>\n",
       "    <tr>\n",
       "      <th>1305</th>\n",
       "      <td>0.512066</td>\n",
       "      <td>0.212559</td>\n",
       "      <td>1.0</td>\n",
       "      <td>0.0</td>\n",
       "      <td>1.0</td>\n",
       "      <td>0.0</td>\n",
       "      <td>0.0</td>\n",
       "      <td>0.0</td>\n",
       "    </tr>\n",
       "    <tr>\n",
       "      <th>1306</th>\n",
       "      <td>0.505473</td>\n",
       "      <td>0.014151</td>\n",
       "      <td>0.0</td>\n",
       "      <td>1.0</td>\n",
       "      <td>0.0</td>\n",
       "      <td>0.0</td>\n",
       "      <td>1.0</td>\n",
       "      <td>0.0</td>\n",
       "    </tr>\n",
       "    <tr>\n",
       "      <th>1307</th>\n",
       "      <td>0.380193</td>\n",
       "      <td>0.015713</td>\n",
       "      <td>0.0</td>\n",
       "      <td>1.0</td>\n",
       "      <td>0.0</td>\n",
       "      <td>0.0</td>\n",
       "      <td>1.0</td>\n",
       "      <td>0.0</td>\n",
       "    </tr>\n",
       "    <tr>\n",
       "      <th>1308</th>\n",
       "      <td>0.050508</td>\n",
       "      <td>0.043640</td>\n",
       "      <td>0.0</td>\n",
       "      <td>1.0</td>\n",
       "      <td>0.0</td>\n",
       "      <td>0.0</td>\n",
       "      <td>1.0</td>\n",
       "      <td>0.0</td>\n",
       "    </tr>\n",
       "  </tbody>\n",
       "</table>\n",
       "<p>418 rows × 8 columns</p>\n",
       "</div>"
      ],
      "text/plain": [
       "           Age      Fare  Sex_female  Sex_male  Pclass_1  Pclass_2  Pclass_3  \\\n",
       "891   0.452723  0.015282         0.0       1.0       0.0       0.0       1.0   \n",
       "892   0.617566  0.013663         1.0       0.0       0.0       0.0       1.0   \n",
       "893   0.815377  0.018909         0.0       1.0       0.0       1.0       0.0   \n",
       "894   0.353818  0.016908         0.0       1.0       0.0       0.0       1.0   \n",
       "895   0.287881  0.023984         1.0       0.0       0.0       0.0       1.0   \n",
       "...        ...       ...         ...       ...       ...       ...       ...   \n",
       "1304  0.380193  0.015713         0.0       1.0       0.0       0.0       1.0   \n",
       "1305  0.512066  0.212559         1.0       0.0       1.0       0.0       0.0   \n",
       "1306  0.505473  0.014151         0.0       1.0       0.0       0.0       1.0   \n",
       "1307  0.380193  0.015713         0.0       1.0       0.0       0.0       1.0   \n",
       "1308  0.050508  0.043640         0.0       1.0       0.0       0.0       1.0   \n",
       "\n",
       "      Ticket_group  \n",
       "891            0.0  \n",
       "892            0.0  \n",
       "893            0.0  \n",
       "894            0.0  \n",
       "895            0.0  \n",
       "...            ...  \n",
       "1304           0.0  \n",
       "1305           0.0  \n",
       "1306           0.0  \n",
       "1307           0.0  \n",
       "1308           0.0  \n",
       "\n",
       "[418 rows x 8 columns]"
      ]
     },
     "execution_count": 29,
     "metadata": {},
     "output_type": "execute_result"
    }
   ],
   "source": [
    "train_data.astype('float32')\n",
    "test_data.astype('float32')"
   ]
  },
  {
   "cell_type": "code",
   "execution_count": 31,
   "metadata": {},
   "outputs": [
    {
     "name": "stdout",
     "output_type": "stream",
     "text": [
      "<class 'pandas.core.frame.DataFrame'>\n",
      "Int64Index: 418 entries, 891 to 1308\n",
      "Data columns (total 8 columns):\n",
      "Age             418 non-null float64\n",
      "Fare            418 non-null float64\n",
      "Sex_female      418 non-null float64\n",
      "Sex_male        418 non-null float64\n",
      "Pclass_1        418 non-null float64\n",
      "Pclass_2        418 non-null float64\n",
      "Pclass_3        418 non-null float64\n",
      "Ticket_group    418 non-null int64\n",
      "dtypes: float64(7), int64(1)\n",
      "memory usage: 29.4 KB\n"
     ]
    },
    {
     "data": {
      "text/html": [
       "<div>\n",
       "<style scoped>\n",
       "    .dataframe tbody tr th:only-of-type {\n",
       "        vertical-align: middle;\n",
       "    }\n",
       "\n",
       "    .dataframe tbody tr th {\n",
       "        vertical-align: top;\n",
       "    }\n",
       "\n",
       "    .dataframe thead th {\n",
       "        text-align: right;\n",
       "    }\n",
       "</style>\n",
       "<table border=\"1\" class=\"dataframe\">\n",
       "  <thead>\n",
       "    <tr style=\"text-align: right;\">\n",
       "      <th></th>\n",
       "      <th>Age</th>\n",
       "      <th>Fare</th>\n",
       "      <th>Sex_female</th>\n",
       "      <th>Sex_male</th>\n",
       "      <th>Pclass_1</th>\n",
       "      <th>Pclass_2</th>\n",
       "      <th>Pclass_3</th>\n",
       "      <th>Ticket_group</th>\n",
       "    </tr>\n",
       "  </thead>\n",
       "  <tbody>\n",
       "    <tr>\n",
       "      <th>0</th>\n",
       "      <td>0.271174</td>\n",
       "      <td>0.014151</td>\n",
       "      <td>0.0</td>\n",
       "      <td>1.0</td>\n",
       "      <td>0.0</td>\n",
       "      <td>0.0</td>\n",
       "      <td>1.0</td>\n",
       "      <td>0</td>\n",
       "    </tr>\n",
       "    <tr>\n",
       "      <th>1</th>\n",
       "      <td>0.472229</td>\n",
       "      <td>0.139136</td>\n",
       "      <td>1.0</td>\n",
       "      <td>0.0</td>\n",
       "      <td>1.0</td>\n",
       "      <td>0.0</td>\n",
       "      <td>0.0</td>\n",
       "      <td>0</td>\n",
       "    </tr>\n",
       "    <tr>\n",
       "      <th>2</th>\n",
       "      <td>0.321438</td>\n",
       "      <td>0.015469</td>\n",
       "      <td>1.0</td>\n",
       "      <td>0.0</td>\n",
       "      <td>0.0</td>\n",
       "      <td>0.0</td>\n",
       "      <td>1.0</td>\n",
       "      <td>0</td>\n",
       "    </tr>\n",
       "    <tr>\n",
       "      <th>3</th>\n",
       "      <td>0.434531</td>\n",
       "      <td>0.103644</td>\n",
       "      <td>1.0</td>\n",
       "      <td>0.0</td>\n",
       "      <td>1.0</td>\n",
       "      <td>0.0</td>\n",
       "      <td>0.0</td>\n",
       "      <td>0</td>\n",
       "    </tr>\n",
       "    <tr>\n",
       "      <th>4</th>\n",
       "      <td>0.434531</td>\n",
       "      <td>0.015713</td>\n",
       "      <td>0.0</td>\n",
       "      <td>1.0</td>\n",
       "      <td>0.0</td>\n",
       "      <td>0.0</td>\n",
       "      <td>1.0</td>\n",
       "      <td>0</td>\n",
       "    </tr>\n",
       "    <tr>\n",
       "      <th>...</th>\n",
       "      <td>...</td>\n",
       "      <td>...</td>\n",
       "      <td>...</td>\n",
       "      <td>...</td>\n",
       "      <td>...</td>\n",
       "      <td>...</td>\n",
       "      <td>...</td>\n",
       "      <td>...</td>\n",
       "    </tr>\n",
       "    <tr>\n",
       "      <th>886</th>\n",
       "      <td>0.334004</td>\n",
       "      <td>0.025374</td>\n",
       "      <td>0.0</td>\n",
       "      <td>1.0</td>\n",
       "      <td>0.0</td>\n",
       "      <td>1.0</td>\n",
       "      <td>0.0</td>\n",
       "      <td>0</td>\n",
       "    </tr>\n",
       "    <tr>\n",
       "      <th>887</th>\n",
       "      <td>0.233476</td>\n",
       "      <td>0.058556</td>\n",
       "      <td>1.0</td>\n",
       "      <td>0.0</td>\n",
       "      <td>1.0</td>\n",
       "      <td>0.0</td>\n",
       "      <td>0.0</td>\n",
       "      <td>0</td>\n",
       "    </tr>\n",
       "    <tr>\n",
       "      <th>888</th>\n",
       "      <td>0.271174</td>\n",
       "      <td>0.045771</td>\n",
       "      <td>1.0</td>\n",
       "      <td>0.0</td>\n",
       "      <td>0.0</td>\n",
       "      <td>0.0</td>\n",
       "      <td>1.0</td>\n",
       "      <td>0</td>\n",
       "    </tr>\n",
       "    <tr>\n",
       "      <th>889</th>\n",
       "      <td>0.321438</td>\n",
       "      <td>0.058556</td>\n",
       "      <td>0.0</td>\n",
       "      <td>1.0</td>\n",
       "      <td>1.0</td>\n",
       "      <td>0.0</td>\n",
       "      <td>0.0</td>\n",
       "      <td>0</td>\n",
       "    </tr>\n",
       "    <tr>\n",
       "      <th>890</th>\n",
       "      <td>0.396833</td>\n",
       "      <td>0.015127</td>\n",
       "      <td>0.0</td>\n",
       "      <td>1.0</td>\n",
       "      <td>0.0</td>\n",
       "      <td>0.0</td>\n",
       "      <td>1.0</td>\n",
       "      <td>0</td>\n",
       "    </tr>\n",
       "  </tbody>\n",
       "</table>\n",
       "<p>891 rows × 8 columns</p>\n",
       "</div>"
      ],
      "text/plain": [
       "          Age      Fare  Sex_female  Sex_male  Pclass_1  Pclass_2  Pclass_3  \\\n",
       "0    0.271174  0.014151         0.0       1.0       0.0       0.0       1.0   \n",
       "1    0.472229  0.139136         1.0       0.0       1.0       0.0       0.0   \n",
       "2    0.321438  0.015469         1.0       0.0       0.0       0.0       1.0   \n",
       "3    0.434531  0.103644         1.0       0.0       1.0       0.0       0.0   \n",
       "4    0.434531  0.015713         0.0       1.0       0.0       0.0       1.0   \n",
       "..        ...       ...         ...       ...       ...       ...       ...   \n",
       "886  0.334004  0.025374         0.0       1.0       0.0       1.0       0.0   \n",
       "887  0.233476  0.058556         1.0       0.0       1.0       0.0       0.0   \n",
       "888  0.271174  0.045771         1.0       0.0       0.0       0.0       1.0   \n",
       "889  0.321438  0.058556         0.0       1.0       1.0       0.0       0.0   \n",
       "890  0.396833  0.015127         0.0       1.0       0.0       0.0       1.0   \n",
       "\n",
       "     Ticket_group  \n",
       "0               0  \n",
       "1               0  \n",
       "2               0  \n",
       "3               0  \n",
       "4               0  \n",
       "..            ...  \n",
       "886             0  \n",
       "887             0  \n",
       "888             0  \n",
       "889             0  \n",
       "890             0  \n",
       "\n",
       "[891 rows x 8 columns]"
      ]
     },
     "execution_count": 31,
     "metadata": {},
     "output_type": "execute_result"
    }
   ],
   "source": [
    "test_data.info()\n",
    "\n",
    "train_data"
   ]
  },
  {
   "cell_type": "markdown",
   "metadata": {},
   "source": [
    "## Step4. 訓練模型\n",
    "\n",
    "使用Keras來創建模型  \n",
    "這裡利用全連結層做11層，最後接上sigmoid利用binary crossentropy做loss function來輸出  "
   ]
  },
  {
   "cell_type": "code",
   "execution_count": 36,
   "metadata": {},
   "outputs": [
    {
     "name": "stdout",
     "output_type": "stream",
     "text": [
      "_________________________________________________________________\n",
      "Layer (type)                 Output Shape              Param #   \n",
      "=================================================================\n",
      "dense_8 (Dense)              (None, 128)               1152      \n",
      "_________________________________________________________________\n",
      "dense_9 (Dense)              (None, 128)               16512     \n",
      "_________________________________________________________________\n",
      "dense_10 (Dense)             (None, 128)               16512     \n",
      "_________________________________________________________________\n",
      "dense_11 (Dense)             (None, 128)               16512     \n",
      "_________________________________________________________________\n",
      "dense_12 (Dense)             (None, 128)               16512     \n",
      "_________________________________________________________________\n",
      "dense_13 (Dense)             (None, 128)               16512     \n",
      "_________________________________________________________________\n",
      "dense_14 (Dense)             (None, 1)                 129       \n",
      "=================================================================\n",
      "Total params: 83,841\n",
      "Trainable params: 83,841\n",
      "Non-trainable params: 0\n",
      "_________________________________________________________________\n"
     ]
    }
   ],
   "source": [
    "from keras.models import Sequential\n",
    "from keras.layers import Dense, Dropout\n",
    "\n",
    "model = Sequential()\n",
    "\n",
    "model.add(Dense(units=128,input_dim=train_data.shape[1],activation='relu',kernel_initializer='normal'))\n",
    "#model.add(Dropout(0.3))\n",
    "\n",
    "for _ in range(5):\n",
    "    model.add(Dense(units=128,activation='relu',kernel_initializer='normal'))\n",
    "    #model.add(Dropout(0.3))\n",
    "\n",
    "model.add(Dense(units=1,activation='sigmoid',kernel_initializer='normal'))\n",
    "\n",
    "model.summary()"
   ]
  },
  {
   "cell_type": "markdown",
   "metadata": {},
   "source": [
    "這裡挑batch_size=100,訓練500次  "
   ]
  },
  {
   "cell_type": "code",
   "execution_count": 37,
   "metadata": {
    "scrolled": true
   },
   "outputs": [
    {
     "name": "stdout",
     "output_type": "stream",
     "text": [
      "Train on 712 samples, validate on 179 samples\n",
      "Epoch 1/100\n",
      " - 0s - loss: 0.6827 - acc: 0.6222 - val_loss: 0.6323 - val_acc: 0.8101\n",
      "Epoch 2/100\n",
      " - 0s - loss: 0.5538 - acc: 0.7851 - val_loss: 0.4484 - val_acc: 0.8268\n",
      "Epoch 3/100\n",
      " - 0s - loss: 0.4835 - acc: 0.7935 - val_loss: 0.4261 - val_acc: 0.8045\n",
      "Epoch 4/100\n",
      " - 0s - loss: 0.4461 - acc: 0.7978 - val_loss: 0.3949 - val_acc: 0.8324\n",
      "Epoch 5/100\n",
      " - 0s - loss: 0.4503 - acc: 0.8188 - val_loss: 0.4078 - val_acc: 0.8212\n",
      "Epoch 6/100\n",
      " - 0s - loss: 0.4466 - acc: 0.7879 - val_loss: 0.3964 - val_acc: 0.8324\n",
      "Epoch 7/100\n",
      " - 0s - loss: 0.4364 - acc: 0.8090 - val_loss: 0.3807 - val_acc: 0.8324\n",
      "Epoch 8/100\n",
      " - 0s - loss: 0.4419 - acc: 0.8076 - val_loss: 0.3793 - val_acc: 0.8380\n",
      "Epoch 9/100\n",
      " - 0s - loss: 0.4327 - acc: 0.8034 - val_loss: 0.3759 - val_acc: 0.8380\n",
      "Epoch 10/100\n",
      " - 0s - loss: 0.4282 - acc: 0.8118 - val_loss: 0.3838 - val_acc: 0.8324\n",
      "Epoch 11/100\n",
      " - 0s - loss: 0.4329 - acc: 0.8104 - val_loss: 0.3689 - val_acc: 0.8324\n",
      "Epoch 12/100\n",
      " - 0s - loss: 0.4292 - acc: 0.8034 - val_loss: 0.3770 - val_acc: 0.8324\n",
      "Epoch 13/100\n",
      " - 0s - loss: 0.4279 - acc: 0.8076 - val_loss: 0.3801 - val_acc: 0.8380\n",
      "Epoch 14/100\n",
      " - 0s - loss: 0.4530 - acc: 0.7893 - val_loss: 0.3830 - val_acc: 0.8324\n",
      "Epoch 15/100\n",
      " - 0s - loss: 0.4440 - acc: 0.7949 - val_loss: 0.3827 - val_acc: 0.8324\n",
      "Epoch 16/100\n",
      " - 0s - loss: 0.4304 - acc: 0.7992 - val_loss: 0.3662 - val_acc: 0.8324\n",
      "Epoch 17/100\n",
      " - 0s - loss: 0.4256 - acc: 0.8076 - val_loss: 0.3601 - val_acc: 0.8324\n",
      "Epoch 18/100\n",
      " - 0s - loss: 0.4266 - acc: 0.8062 - val_loss: 0.3779 - val_acc: 0.8547\n",
      "Epoch 19/100\n",
      " - 0s - loss: 0.4246 - acc: 0.8146 - val_loss: 0.3706 - val_acc: 0.8492\n",
      "Epoch 20/100\n",
      " - 0s - loss: 0.4301 - acc: 0.8090 - val_loss: 0.3560 - val_acc: 0.8436\n",
      "Epoch 21/100\n",
      " - 0s - loss: 0.4286 - acc: 0.8104 - val_loss: 0.3949 - val_acc: 0.8268\n",
      "Epoch 22/100\n",
      " - 0s - loss: 0.4370 - acc: 0.7879 - val_loss: 0.3763 - val_acc: 0.8492\n",
      "Epoch 23/100\n",
      " - 0s - loss: 0.4406 - acc: 0.8006 - val_loss: 0.3694 - val_acc: 0.8380\n",
      "Epoch 24/100\n",
      " - 0s - loss: 0.4276 - acc: 0.8160 - val_loss: 0.3580 - val_acc: 0.8492\n",
      "Epoch 25/100\n",
      " - 0s - loss: 0.4210 - acc: 0.8174 - val_loss: 0.3545 - val_acc: 0.8547\n",
      "Epoch 26/100\n",
      " - 0s - loss: 0.4179 - acc: 0.8132 - val_loss: 0.3498 - val_acc: 0.8492\n",
      "Epoch 27/100\n",
      " - 0s - loss: 0.4225 - acc: 0.8160 - val_loss: 0.3637 - val_acc: 0.8436\n",
      "Epoch 28/100\n",
      " - 0s - loss: 0.4178 - acc: 0.8174 - val_loss: 0.3485 - val_acc: 0.8547\n",
      "Epoch 29/100\n",
      " - 0s - loss: 0.4176 - acc: 0.8202 - val_loss: 0.3498 - val_acc: 0.8492\n",
      "Epoch 30/100\n",
      " - 0s - loss: 0.4157 - acc: 0.8146 - val_loss: 0.3484 - val_acc: 0.8436\n",
      "Epoch 31/100\n",
      " - 0s - loss: 0.4199 - acc: 0.8118 - val_loss: 0.3528 - val_acc: 0.8492\n",
      "Epoch 32/100\n",
      " - 0s - loss: 0.4170 - acc: 0.8090 - val_loss: 0.3488 - val_acc: 0.8547\n",
      "Epoch 33/100\n",
      " - 0s - loss: 0.4134 - acc: 0.8202 - val_loss: 0.3412 - val_acc: 0.8547\n",
      "Epoch 34/100\n",
      " - 0s - loss: 0.4159 - acc: 0.8104 - val_loss: 0.3455 - val_acc: 0.8547\n",
      "Epoch 35/100\n",
      " - 0s - loss: 0.4215 - acc: 0.8160 - val_loss: 0.3488 - val_acc: 0.8436\n",
      "Epoch 36/100\n",
      " - 0s - loss: 0.4216 - acc: 0.8090 - val_loss: 0.3385 - val_acc: 0.8547\n",
      "Epoch 37/100\n",
      " - 0s - loss: 0.4155 - acc: 0.8202 - val_loss: 0.3467 - val_acc: 0.8771\n",
      "Epoch 38/100\n",
      " - 0s - loss: 0.4134 - acc: 0.8202 - val_loss: 0.3349 - val_acc: 0.8547\n",
      "Epoch 39/100\n",
      " - 0s - loss: 0.4144 - acc: 0.8202 - val_loss: 0.3585 - val_acc: 0.8603\n",
      "Epoch 40/100\n",
      " - 0s - loss: 0.4204 - acc: 0.8048 - val_loss: 0.3600 - val_acc: 0.8659\n",
      "Epoch 41/100\n",
      " - 0s - loss: 0.4133 - acc: 0.8160 - val_loss: 0.3332 - val_acc: 0.8603\n",
      "Epoch 42/100\n",
      " - 0s - loss: 0.4146 - acc: 0.8272 - val_loss: 0.3393 - val_acc: 0.8715\n",
      "Epoch 43/100\n",
      " - 0s - loss: 0.4142 - acc: 0.8272 - val_loss: 0.3381 - val_acc: 0.8547\n",
      "Epoch 44/100\n",
      " - 0s - loss: 0.4123 - acc: 0.8174 - val_loss: 0.3480 - val_acc: 0.8492\n",
      "Epoch 45/100\n",
      " - 0s - loss: 0.4218 - acc: 0.8090 - val_loss: 0.3345 - val_acc: 0.8827\n",
      "Epoch 46/100\n",
      " - 0s - loss: 0.4136 - acc: 0.8230 - val_loss: 0.3303 - val_acc: 0.8659\n",
      "Epoch 47/100\n",
      " - 0s - loss: 0.4149 - acc: 0.8174 - val_loss: 0.3417 - val_acc: 0.8659\n",
      "Epoch 48/100\n",
      " - 0s - loss: 0.4191 - acc: 0.8188 - val_loss: 0.3193 - val_acc: 0.8659\n",
      "Epoch 49/100\n",
      " - 0s - loss: 0.4049 - acc: 0.8272 - val_loss: 0.3638 - val_acc: 0.8603\n",
      "Epoch 50/100\n",
      " - 0s - loss: 0.4187 - acc: 0.8104 - val_loss: 0.3233 - val_acc: 0.8659\n",
      "Epoch 51/100\n",
      " - 0s - loss: 0.4068 - acc: 0.8343 - val_loss: 0.3220 - val_acc: 0.8715\n",
      "Epoch 52/100\n",
      " - 0s - loss: 0.4053 - acc: 0.8272 - val_loss: 0.3270 - val_acc: 0.8715\n",
      "Epoch 53/100\n",
      " - 0s - loss: 0.4077 - acc: 0.8272 - val_loss: 0.3195 - val_acc: 0.8715\n",
      "Epoch 54/100\n",
      " - 0s - loss: 0.4071 - acc: 0.8315 - val_loss: 0.3317 - val_acc: 0.8659\n",
      "Epoch 55/100\n",
      " - 0s - loss: 0.4082 - acc: 0.8287 - val_loss: 0.3451 - val_acc: 0.8659\n",
      "Epoch 56/100\n",
      " - 0s - loss: 0.4103 - acc: 0.8174 - val_loss: 0.3180 - val_acc: 0.8659\n",
      "Epoch 57/100\n",
      " - 0s - loss: 0.4075 - acc: 0.8174 - val_loss: 0.3180 - val_acc: 0.8715\n",
      "Epoch 58/100\n",
      " - 0s - loss: 0.4063 - acc: 0.8258 - val_loss: 0.3361 - val_acc: 0.8659\n",
      "Epoch 59/100\n",
      " - 0s - loss: 0.4049 - acc: 0.8230 - val_loss: 0.3138 - val_acc: 0.8659\n",
      "Epoch 60/100\n",
      " - 0s - loss: 0.4143 - acc: 0.8202 - val_loss: 0.3470 - val_acc: 0.8603\n",
      "Epoch 61/100\n",
      " - 0s - loss: 0.4089 - acc: 0.8272 - val_loss: 0.3157 - val_acc: 0.8715\n",
      "Epoch 62/100\n",
      " - 0s - loss: 0.4055 - acc: 0.8329 - val_loss: 0.3190 - val_acc: 0.8771\n",
      "Epoch 63/100\n",
      " - 0s - loss: 0.4074 - acc: 0.8329 - val_loss: 0.3514 - val_acc: 0.8436\n",
      "Epoch 64/100\n",
      " - 0s - loss: 0.4148 - acc: 0.8160 - val_loss: 0.3375 - val_acc: 0.8603\n",
      "Epoch 65/100\n",
      " - 0s - loss: 0.4148 - acc: 0.8104 - val_loss: 0.3424 - val_acc: 0.8492\n",
      "Epoch 66/100\n",
      " - 0s - loss: 0.4044 - acc: 0.8287 - val_loss: 0.3132 - val_acc: 0.8771\n",
      "Epoch 67/100\n",
      " - 0s - loss: 0.4016 - acc: 0.8287 - val_loss: 0.3240 - val_acc: 0.8715\n",
      "Epoch 68/100\n",
      " - 0s - loss: 0.3994 - acc: 0.8272 - val_loss: 0.3168 - val_acc: 0.8603\n",
      "Epoch 69/100\n",
      " - 0s - loss: 0.3999 - acc: 0.8301 - val_loss: 0.3192 - val_acc: 0.8659\n",
      "Epoch 70/100\n",
      " - 0s - loss: 0.4038 - acc: 0.8258 - val_loss: 0.3278 - val_acc: 0.8659\n",
      "Epoch 71/100\n",
      " - 0s - loss: 0.4025 - acc: 0.8216 - val_loss: 0.3097 - val_acc: 0.8603\n",
      "Epoch 72/100\n",
      " - 0s - loss: 0.4031 - acc: 0.8301 - val_loss: 0.3156 - val_acc: 0.8715\n",
      "Epoch 73/100\n",
      " - 0s - loss: 0.3980 - acc: 0.8315 - val_loss: 0.3286 - val_acc: 0.8659\n",
      "Epoch 74/100\n",
      " - 0s - loss: 0.4010 - acc: 0.8216 - val_loss: 0.3121 - val_acc: 0.8659\n",
      "Epoch 75/100\n",
      " - 0s - loss: 0.3974 - acc: 0.8301 - val_loss: 0.3283 - val_acc: 0.8603\n",
      "Epoch 76/100\n",
      " - 0s - loss: 0.3992 - acc: 0.8272 - val_loss: 0.3219 - val_acc: 0.8603\n",
      "Epoch 77/100\n",
      " - 0s - loss: 0.3962 - acc: 0.8258 - val_loss: 0.3130 - val_acc: 0.8715\n",
      "Epoch 78/100\n",
      " - 0s - loss: 0.3959 - acc: 0.8258 - val_loss: 0.3227 - val_acc: 0.8659\n",
      "Epoch 79/100\n",
      " - 0s - loss: 0.3941 - acc: 0.8343 - val_loss: 0.3104 - val_acc: 0.8715\n",
      "Epoch 80/100\n",
      " - 0s - loss: 0.3997 - acc: 0.8272 - val_loss: 0.3121 - val_acc: 0.8715\n",
      "Epoch 81/100\n",
      " - 0s - loss: 0.4013 - acc: 0.8301 - val_loss: 0.3285 - val_acc: 0.8603\n",
      "Epoch 82/100\n",
      " - 0s - loss: 0.4099 - acc: 0.8230 - val_loss: 0.3227 - val_acc: 0.8715\n",
      "Epoch 83/100\n",
      " - 0s - loss: 0.4010 - acc: 0.8230 - val_loss: 0.3586 - val_acc: 0.8324\n",
      "Epoch 84/100\n",
      " - 0s - loss: 0.3986 - acc: 0.8258 - val_loss: 0.3108 - val_acc: 0.8827\n",
      "Epoch 85/100\n",
      " - 0s - loss: 0.3989 - acc: 0.8188 - val_loss: 0.3392 - val_acc: 0.8659\n",
      "Epoch 86/100\n",
      " - 0s - loss: 0.3930 - acc: 0.8258 - val_loss: 0.3111 - val_acc: 0.8659\n",
      "Epoch 87/100\n",
      " - 0s - loss: 0.3996 - acc: 0.8244 - val_loss: 0.3125 - val_acc: 0.8715\n",
      "Epoch 88/100\n",
      " - 0s - loss: 0.4099 - acc: 0.8188 - val_loss: 0.3450 - val_acc: 0.8603\n",
      "Epoch 89/100\n",
      " - 0s - loss: 0.3958 - acc: 0.8301 - val_loss: 0.3095 - val_acc: 0.8715\n",
      "Epoch 90/100\n",
      " - 0s - loss: 0.3929 - acc: 0.8371 - val_loss: 0.3213 - val_acc: 0.8659\n",
      "Epoch 91/100\n",
      " - 0s - loss: 0.3965 - acc: 0.8272 - val_loss: 0.3275 - val_acc: 0.8603\n",
      "Epoch 92/100\n",
      " - 0s - loss: 0.3945 - acc: 0.8272 - val_loss: 0.3191 - val_acc: 0.8659\n",
      "Epoch 93/100\n",
      " - 0s - loss: 0.3915 - acc: 0.8329 - val_loss: 0.3220 - val_acc: 0.8659\n",
      "Epoch 94/100\n",
      " - 0s - loss: 0.3952 - acc: 0.8329 - val_loss: 0.3306 - val_acc: 0.8659\n",
      "Epoch 95/100\n",
      " - 0s - loss: 0.3929 - acc: 0.8258 - val_loss: 0.3074 - val_acc: 0.8715\n",
      "Epoch 96/100\n",
      " - 0s - loss: 0.3888 - acc: 0.8287 - val_loss: 0.3298 - val_acc: 0.8603\n"
     ]
    },
    {
     "name": "stdout",
     "output_type": "stream",
     "text": [
      "Epoch 97/100\n",
      " - 0s - loss: 0.3974 - acc: 0.8244 - val_loss: 0.3060 - val_acc: 0.8771\n",
      "Epoch 98/100\n",
      " - 0s - loss: 0.4064 - acc: 0.8216 - val_loss: 0.3436 - val_acc: 0.8659\n",
      "Epoch 99/100\n",
      " - 0s - loss: 0.3959 - acc: 0.8244 - val_loss: 0.3301 - val_acc: 0.8603\n",
      "Epoch 100/100\n",
      " - 0s - loss: 0.3904 - acc: 0.8287 - val_loss: 0.3145 - val_acc: 0.8603\n"
     ]
    }
   ],
   "source": [
    "model.compile(loss='binary_crossentropy', optimizer='adam',metrics=['accuracy'])\n",
    "\n",
    "train_history= model.fit(x=train_data.values,y=train_data_label,validation_split=0.2,batch_size=50,epochs=100,verbose=2)"
   ]
  },
  {
   "cell_type": "code",
   "execution_count": 38,
   "metadata": {},
   "outputs": [
    {
     "data": {
      "image/png": "[encoded data removed]",
      "text/plain": [
       "<Figure size 432x288 with 1 Axes>"
      ]
     },
     "metadata": {
      "needs_background": "light"
     },
     "output_type": "display_data"
    },
    {
     "data": {
      "text/plain": [
       "<Figure size 432x288 with 0 Axes>"
      ]
     },
     "metadata": {},
     "output_type": "display_data"
    },
    {
     "data": {
      "image/png": "[encoded data removed]",
      "text/plain": [
       "<Figure size 432x288 with 1 Axes>"
      ]
     },
     "metadata": {
      "needs_background": "light"
     },
     "output_type": "display_data"
    }
   ],
   "source": [
    "import matplotlib.pyplot as plt\n",
    "\n",
    "def plot_train_result(train_history,train,val):\n",
    "    plt.figure()\n",
    "    plt.plot(train_history.history[train],label='train')\n",
    "    plt.plot(train_history.history[val],label='val')\n",
    "    plt.title(train+'_history')\n",
    "    plt.xlabel('Epoch')\n",
    "    plt.legend()\n",
    "    plt.ylabel(train,fontsize=20)\n",
    "    plt.show()\n",
    "\n",
    "    \n",
    "\n",
    "plot_train_result(train_history,'acc','val_acc')\n",
    "plt.figure()\n",
    "plot_train_result(train_history,'loss','val_loss')"
   ]
  },
  {
   "cell_type": "markdown",
   "metadata": {},
   "source": [
    "## Step5. 儲存結果上傳"
   ]
  },
  {
   "cell_type": "code",
   "execution_count": 39,
   "metadata": {},
   "outputs": [
    {
     "data": {
      "text/plain": [
       "(418, 2)"
      ]
     },
     "execution_count": 39,
     "metadata": {},
     "output_type": "execute_result"
    }
   ],
   "source": [
    "result = model.predict_classes(test_data.values)\n",
    "sub = pd.DataFrame()\n",
    "sub['PassengerId'] = test_data.index+1\n",
    "sub['Survived'] = result\n",
    "\n",
    "sub.shape"
   ]
  },
  {
   "cell_type": "code",
   "execution_count": 40,
   "metadata": {},
   "outputs": [],
   "source": [
    "sub.to_csv('titanic_keras_cs3.csv', index=False)"
   ]
  },
  {
   "cell_type": "markdown",
   "metadata": {},
   "source": [
    "可以在Kaggle上觀看自己的結果  \n",
    "我的模型得到了79.9%的準確率  \n",
    "大約是1647/11006~15%的名次"
   ]
  },
  {
   "cell_type": "markdown",
   "metadata": {},
   "source": [
    "![](https://i.imgur.com/9Jt84qH.png)"
   ]
  }
 ],
 "metadata": {
  "kernelspec": {
   "display_name": "Python 3",
   "language": "python",
   "name": "python3"
  },
  "language_info": {
   "codemirror_mode": {
    "name": "ipython",
    "version": 3
   },
   "file_extension": ".py",
   "mimetype": "text/x-python",
   "name": "python",
   "nbconvert_exporter": "python",
   "pygments_lexer": "ipython3",
   "version": "3.7.3"
  }
 },
 "nbformat": 4,
 "nbformat_minor": 2
}
