{
 "cells": [
  {
   "cell_type": "markdown",
   "metadata": {},
   "source": [
    "# Squeeze-and-Excitation Networks (SE-NET)\n",
    "\n",
    "\n",
    "[reference](https://blog.csdn.net/u014380165/article/details/78006626)  \n",
    "[Paper](https://arxiv.org/pdf/1709.01507.pdf)  \n",
    "SE-NET 中文應該可以說是壓縮與激勵網路  \n",
    "事實上並不是一個網路的架構，而是一種CNN模型應用的模組  \n",
    "目的是將CNN的Channel賦予權重，讓重要的channel可以有較強的特徵萃取\n",
    "\n",
    "![](https://imgur.com/2mODnab.png)"
   ]
  },
  {
   "cell_type": "code",
   "execution_count": 1,
   "metadata": {},
   "outputs": [
    {
     "name": "stderr",
     "output_type": "stream",
     "text": [
      "Using TensorFlow backend.\n",
      "C:\\Users\\a2720\\Anaconda3\\lib\\site-packages\\tensorflow\\python\\framework\\dtypes.py:526: FutureWarning: Passing (type, 1) or '1type' as a synonym of type is deprecated; in a future version of numpy, it will be understood as (type, (1,)) / '(1,)type'.\n",
      "  _np_qint8 = np.dtype([(\"qint8\", np.int8, 1)])\n",
      "C:\\Users\\a2720\\Anaconda3\\lib\\site-packages\\tensorflow\\python\\framework\\dtypes.py:527: FutureWarning: Passing (type, 1) or '1type' as a synonym of type is deprecated; in a future version of numpy, it will be understood as (type, (1,)) / '(1,)type'.\n",
      "  _np_quint8 = np.dtype([(\"quint8\", np.uint8, 1)])\n",
      "C:\\Users\\a2720\\Anaconda3\\lib\\site-packages\\tensorflow\\python\\framework\\dtypes.py:528: FutureWarning: Passing (type, 1) or '1type' as a synonym of type is deprecated; in a future version of numpy, it will be understood as (type, (1,)) / '(1,)type'.\n",
      "  _np_qint16 = np.dtype([(\"qint16\", np.int16, 1)])\n",
      "C:\\Users\\a2720\\Anaconda3\\lib\\site-packages\\tensorflow\\python\\framework\\dtypes.py:529: FutureWarning: Passing (type, 1) or '1type' as a synonym of type is deprecated; in a future version of numpy, it will be understood as (type, (1,)) / '(1,)type'.\n",
      "  _np_quint16 = np.dtype([(\"quint16\", np.uint16, 1)])\n",
      "C:\\Users\\a2720\\Anaconda3\\lib\\site-packages\\tensorflow\\python\\framework\\dtypes.py:530: FutureWarning: Passing (type, 1) or '1type' as a synonym of type is deprecated; in a future version of numpy, it will be understood as (type, (1,)) / '(1,)type'.\n",
      "  _np_qint32 = np.dtype([(\"qint32\", np.int32, 1)])\n",
      "C:\\Users\\a2720\\Anaconda3\\lib\\site-packages\\tensorflow\\python\\framework\\dtypes.py:535: FutureWarning: Passing (type, 1) or '1type' as a synonym of type is deprecated; in a future version of numpy, it will be understood as (type, (1,)) / '(1,)type'.\n",
      "  np_resource = np.dtype([(\"resource\", np.ubyte, 1)])\n"
     ]
    }
   ],
   "source": [
    "import os\n",
    "import keras\n",
    "import numpy as np\n",
    "import matplotlib.pyplot as plt\n",
    "import glob\n",
    "import random\n",
    "from keras.applications import VGG16\n",
    "from keras.layers import Dense, Flatten, Dropout, Conv2D, MaxPool2D, BatchNormalization\n",
    "from keras.layers import Input, GlobalAveragePooling2D, Concatenate, multiply, Reshape\n",
    "from keras.models import Sequential, Model, load_model\n",
    "from keras.preprocessing.image import ImageDataGenerator\n",
    "from keras import callbacks\n",
    "from keras.optimizers import adam\n",
    "from keras.utils import Sequence\n",
    "from numpy.random import seed \n",
    "from tensorflow import set_random_seed \n",
    "\n",
    "\n",
    "\n",
    "seed_n = 67\n",
    "\n",
    "random.seed(seed_n)\n",
    "os.environ['PYTHONHASHSEED'] = str(seed)\n",
    "seed(seed_n)\n",
    "set_random_seed(seed_n)"
   ]
  },
  {
   "cell_type": "markdown",
   "metadata": {},
   "source": [
    "## Dog vs Cat dataset\n",
    "\n",
    "利用貓狗數據，自建一組naive的模型當作基準\n",
    "\n",
    "training_parameter\n",
    "* epoch = 15  \n",
    "* optimizer = adam(lr = 0.0005)  \n",
    "* batch_size = 32\n",
    "* input_shape = (128,128,3)"
   ]
  },
  {
   "cell_type": "code",
   "execution_count": 2,
   "metadata": {},
   "outputs": [
    {
     "name": "stdout",
     "output_type": "stream",
     "text": [
      "length of train data 25000\n"
     ]
    }
   ],
   "source": [
    "ROOT_DIR = os.getcwd()\n",
    "DATA_PATH = os.path.join(ROOT_DIR, \"dogs-vs-cats\")\n",
    "SOURCE_DATA_DIR = os.path.join(DATA_PATH, \"train\")\n",
    "\n",
    "print('length of train data %d' %(len(os.listdir(SOURCE_DATA_DIR))))"
   ]
  },
  {
   "cell_type": "code",
   "execution_count": 3,
   "metadata": {},
   "outputs": [],
   "source": [
    "BASE_DIR = os.path.join(DATA_PATH, \"VGG_Practice\")\n",
    "if not os.path.exists(BASE_DIR):\n",
    "    os.mkdir(BASE_DIR)\n",
    "    \n",
    "TRAIN_DIR = os.path.join(BASE_DIR, \"TRAIN\")\n",
    "if not os.path.exists(TRAIN_DIR):\n",
    "    os.mkdir(TRAIN_DIR)\n",
    "    \n",
    "TEST_DIR = os.path.join(BASE_DIR, \"TEST\")\n",
    "if not os.path.exists(TEST_DIR):\n",
    "    os.mkdir(TEST_DIR)\n",
    "\n",
    "VAL_DIR = os.path.join(BASE_DIR, \"Validation\")\n",
    "if not os.path.exists(VAL_DIR):\n",
    "    os.mkdir(VAL_DIR)\n",
    "    \n",
    "DOG_TRAIN = os.path.join(TRAIN_DIR, \"DOG\")\n",
    "if not os.path.exists(DOG_TRAIN):\n",
    "    os.mkdir(DOG_TRAIN)\n",
    "\n",
    "CAT_TRAIN = os.path.join(TRAIN_DIR, \"CAT\")\n",
    "if not os.path.exists(CAT_TRAIN):\n",
    "    os.mkdir(CAT_TRAIN)\n",
    "    \n",
    "DOG_TEST = os.path.join(TEST_DIR, \"DOG\")\n",
    "if not os.path.exists(DOG_TEST):\n",
    "    os.mkdir(DOG_TEST)\n",
    "    \n",
    "CAT_TEST = os.path.join(TEST_DIR, \"CAT\")\n",
    "if not os.path.exists(CAT_TEST):\n",
    "    os.mkdir(CAT_TEST)\n",
    "\n",
    "    \n",
    "DOG_VAL = os.path.join(VAL_DIR, \"DOG\")\n",
    "if not os.path.exists(DOG_VAL):\n",
    "    os.mkdir(DOG_VAL)\n",
    "\n",
    "CAT_VAL = os.path.join(VAL_DIR, \"CAT\")\n",
    "if not os.path.exists(CAT_VAL):\n",
    "    os.mkdir(CAT_VAL)"
   ]
  },
  {
   "cell_type": "code",
   "execution_count": 4,
   "metadata": {},
   "outputs": [],
   "source": [
    "import shutil\n",
    "\n",
    "for frame in ['cat.{}.jpg'.format(i) for i in range(0,9000)]:\n",
    "    source = os.path.join(SOURCE_DATA_DIR,frame)\n",
    "    target = os.path.join(CAT_TRAIN,frame)\n",
    "    if not os.path.exists(target):\n",
    "        shutil.copyfile(source,target)\n",
    "\n",
    "for frame in ['dog.{}.jpg'.format(i) for i in range(0,9000)]:\n",
    "    source = os.path.join(SOURCE_DATA_DIR,frame)\n",
    "    target = os.path.join(DOG_TRAIN,frame)\n",
    "    if not os.path.exists(target):\n",
    "        shutil.copyfile(source,target)\n",
    "        \n",
    "for frame in ['cat.{}.jpg'.format(i) for i in range(9001,11000)]:\n",
    "    source = os.path.join(SOURCE_DATA_DIR,frame)\n",
    "    target = os.path.join(CAT_TEST,frame)\n",
    "    if not os.path.exists(target):\n",
    "        shutil.copyfile(source,target)\n",
    "        \n",
    "for frame in ['dog.{}.jpg'.format(i) for i in range(9001,11000)]:\n",
    "    source = os.path.join(SOURCE_DATA_DIR,frame)\n",
    "    target = os.path.join(DOG_TEST,frame)\n",
    "    if not os.path.exists(target):\n",
    "        shutil.copyfile(source,target)\n",
    "\n",
    "for frame in ['cat.{}.jpg'.format(i) for i in range(11001,12499)]:\n",
    "    source = os.path.join(SOURCE_DATA_DIR,frame)\n",
    "    target = os.path.join(CAT_VAL,frame)\n",
    "    if not os.path.exists(target):\n",
    "        shutil.copyfile(source,target)\n",
    "\n",
    "for frame in ['dog.{}.jpg'.format(i) for i in range(11001,12499)]:\n",
    "    source = os.path.join(SOURCE_DATA_DIR,frame)\n",
    "    target = os.path.join(DOG_VAL,frame)\n",
    "    if not os.path.exists(target):\n",
    "        shutil.copyfile(source,target)"
   ]
  },
  {
   "cell_type": "code",
   "execution_count": 5,
   "metadata": {},
   "outputs": [
    {
     "data": {
      "text/plain": [
       "18000"
      ]
     },
     "execution_count": 5,
     "metadata": {},
     "output_type": "execute_result"
    }
   ],
   "source": [
    "dataset = './dogs-vs-cats/VGG_Practice/'\n",
    "\n",
    "train_folder = dataset + 'TRAIN'\n",
    "val_folder = dataset + 'Validation'\n",
    "test_folder = dataset + 'TEST'\n",
    "\n",
    "len(glob.glob(train_folder+'/*/*'))"
   ]
  },
  {
   "cell_type": "code",
   "execution_count": 6,
   "metadata": {},
   "outputs": [
    {
     "name": "stdout",
     "output_type": "stream",
     "text": [
      "Found 18000 images belonging to 2 classes.\n",
      "Found 4996 images belonging to 2 classes.\n",
      "Found 3998 images belonging to 2 classes.\n",
      "train_batch_shape:  (32, 128, 128, 3)\n",
      "label_batch_shape:  (32,)\n"
     ]
    }
   ],
   "source": [
    "# normalizing\n",
    "Imagegen = ImageDataGenerator(rescale=1./255)\n",
    "\n",
    "batch_size = 32\n",
    "train_datagen = Imagegen.flow_from_directory(\n",
    "            train_folder,\n",
    "            target_size=(128,128),\n",
    "            batch_size=batch_size,\n",
    "            class_mode='binary'\n",
    "            )\n",
    "\n",
    "validation_datagen = Imagegen.flow_from_directory(\n",
    "            val_folder,\n",
    "            target_size=(128,128),\n",
    "            batch_size=batch_size,\n",
    "            class_mode='binary'\n",
    "            )\n",
    "\n",
    "test_datagen = Imagegen.flow_from_directory(\n",
    "            test_folder,\n",
    "            target_size=(128,128),\n",
    "            batch_size=128,\n",
    "            class_mode='binary',\n",
    "            shuffle=False\n",
    "            )\n",
    "\n",
    "for train_batch, label_batch in train_datagen:\n",
    "    print('train_batch_shape: ', train_batch.shape)\n",
    "    print('label_batch_shape: ', label_batch.shape)\n",
    "    break;"
   ]
  },
  {
   "cell_type": "code",
   "execution_count": 7,
   "metadata": {},
   "outputs": [
    {
     "data": {
      "text/plain": [
       "<matplotlib.image.AxesImage at 0x2d6a5646e48>"
      ]
     },
     "execution_count": 7,
     "metadata": {},
     "output_type": "execute_result"
    },
    {
     "data": {
      "image/png": "[encoded data removed]",
      "text/plain": [
       "<Figure size 432x288 with 1 Axes>"
      ]
     },
     "metadata": {
      "needs_background": "light"
     },
     "output_type": "display_data"
    }
   ],
   "source": [
    "plt.imshow(train_datagen.next()[0][0])"
   ]
  },
  {
   "cell_type": "code",
   "execution_count": 8,
   "metadata": {},
   "outputs": [
    {
     "name": "stdout",
     "output_type": "stream",
     "text": [
      "WARNING:tensorflow:From C:\\Users\\a2720\\Anaconda3\\lib\\site-packages\\tensorflow\\python\\framework\\op_def_library.py:263: colocate_with (from tensorflow.python.framework.ops) is deprecated and will be removed in a future version.\n",
      "Instructions for updating:\n",
      "Colocations handled automatically by placer.\n",
      "_________________________________________________________________\n",
      "Layer (type)                 Output Shape              Param #   \n",
      "=================================================================\n",
      "input_1 (InputLayer)         (None, 128, 128, 3)       0         \n",
      "_________________________________________________________________\n",
      "conv2d_1 (Conv2D)            (None, 128, 128, 64)      1792      \n",
      "_________________________________________________________________\n",
      "batch_normalization_1 (Batch (None, 128, 128, 64)      256       \n",
      "_________________________________________________________________\n",
      "conv2d_2 (Conv2D)            (None, 128, 128, 64)      36928     \n",
      "_________________________________________________________________\n",
      "max_pooling2d_1 (MaxPooling2 (None, 64, 64, 64)        0         \n",
      "_________________________________________________________________\n",
      "batch_normalization_2 (Batch (None, 64, 64, 64)        256       \n",
      "_________________________________________________________________\n",
      "conv2d_3 (Conv2D)            (None, 64, 64, 128)       73856     \n",
      "_________________________________________________________________\n",
      "batch_normalization_3 (Batch (None, 64, 64, 128)       512       \n",
      "_________________________________________________________________\n",
      "conv2d_4 (Conv2D)            (None, 64, 64, 128)       147584    \n",
      "_________________________________________________________________\n",
      "max_pooling2d_2 (MaxPooling2 (None, 32, 32, 128)       0         \n",
      "_________________________________________________________________\n",
      "batch_normalization_4 (Batch (None, 32, 32, 128)       512       \n",
      "_________________________________________________________________\n",
      "conv2d_5 (Conv2D)            (None, 32, 32, 256)       295168    \n",
      "_________________________________________________________________\n",
      "batch_normalization_5 (Batch (None, 32, 32, 256)       1024      \n",
      "_________________________________________________________________\n",
      "conv2d_6 (Conv2D)            (None, 32, 32, 256)       590080    \n",
      "_________________________________________________________________\n",
      "max_pooling2d_3 (MaxPooling2 (None, 16, 16, 256)       0         \n",
      "_________________________________________________________________\n",
      "batch_normalization_6 (Batch (None, 16, 16, 256)       1024      \n",
      "_________________________________________________________________\n",
      "flatten_1 (Flatten)          (None, 65536)             0         \n",
      "_________________________________________________________________\n",
      "dense_1 (Dense)              (None, 512)               33554944  \n",
      "_________________________________________________________________\n",
      "batch_normalization_7 (Batch (None, 512)               2048      \n",
      "_________________________________________________________________\n",
      "dense_2 (Dense)              (None, 128)               65664     \n",
      "_________________________________________________________________\n",
      "batch_normalization_8 (Batch (None, 128)               512       \n",
      "_________________________________________________________________\n",
      "dense_3 (Dense)              (None, 1)                 129       \n",
      "=================================================================\n",
      "Total params: 34,772,289\n",
      "Trainable params: 34,769,217\n",
      "Non-trainable params: 3,072\n",
      "_________________________________________________________________\n"
     ]
    }
   ],
   "source": [
    "units = 64\n",
    "\n",
    "Input_L = Input(shape=(128,128,3))\n",
    "x = Conv2D(units,(3,3),padding='same',activation='relu')(Input_L)\n",
    "x = BatchNormalization()(x)\n",
    "x = Conv2D(units,(3,3),padding='same',activation='relu')(x)\n",
    "x = MaxPool2D()(x)\n",
    "x = BatchNormalization()(x)\n",
    "x = Conv2D(2*units,(3,3),padding='same',activation='relu')(x)\n",
    "x = BatchNormalization()(x)\n",
    "x = Conv2D(2*units,(3,3),padding='same',activation='relu')(x)\n",
    "x = MaxPool2D()(x)\n",
    "x = BatchNormalization()(x)\n",
    "x = Conv2D(4*units,(3,3),padding='same',activation='relu')(x)\n",
    "x = BatchNormalization()(x)\n",
    "x = Conv2D(4*units,(3,3),padding='same',activation='relu')(x)\n",
    "x = MaxPool2D()(x)\n",
    "x = BatchNormalization()(x)\n",
    "x = Flatten()(x)\n",
    "x = Dense(8*units,activation = 'relu')(x)\n",
    "x = BatchNormalization()(x)\n",
    "x = Dense(2*units,activation = 'relu')(x)\n",
    "x = BatchNormalization()(x)\n",
    "Output_L = Dense(1,activation = 'sigmoid')(x)\n",
    "\n",
    "model = Model(Input_L,Output_L)\n",
    "\n",
    "model.summary()"
   ]
  },
  {
   "cell_type": "code",
   "execution_count": 9,
   "metadata": {},
   "outputs": [],
   "source": [
    "optimizer = adam(lr=0.0005)\n",
    "model.compile(loss='binary_crossentropy',optimizer = optimizer, metrics = ['acc'])"
   ]
  },
  {
   "cell_type": "code",
   "execution_count": 10,
   "metadata": {},
   "outputs": [
    {
     "name": "stdout",
     "output_type": "stream",
     "text": [
      "WARNING:tensorflow:From C:\\Users\\a2720\\Anaconda3\\lib\\site-packages\\tensorflow\\python\\ops\\math_ops.py:3066: to_int32 (from tensorflow.python.ops.math_ops) is deprecated and will be removed in a future version.\n",
      "Instructions for updating:\n",
      "Use tf.cast instead.\n",
      "Epoch 1/15\n",
      "563/562 [==============================] - 100s 178ms/step - loss: 0.5462 - acc: 0.7238 - val_loss: 0.5897 - val_acc: 0.7266\n",
      "\n",
      "Epoch 00001: val_acc improved from -inf to 0.72658, saving model to ./dogs-vs-cats/naive_base.model\n",
      "Epoch 2/15\n",
      "563/562 [==============================] - 92s 164ms/step - loss: 0.3911 - acc: 0.8229 - val_loss: 0.3517 - val_acc: 0.8411\n",
      "\n",
      "Epoch 00002: val_acc improved from 0.72658 to 0.84107, saving model to ./dogs-vs-cats/naive_base.model\n",
      "Epoch 3/15\n",
      "563/562 [==============================] - 93s 165ms/step - loss: 0.2930 - acc: 0.8751 - val_loss: 0.3663 - val_acc: 0.8505\n",
      "\n",
      "Epoch 00003: val_acc improved from 0.84107 to 0.85048, saving model to ./dogs-vs-cats/naive_base.model\n",
      "Epoch 4/15\n",
      "563/562 [==============================] - 93s 165ms/step - loss: 0.2091 - acc: 0.9152 - val_loss: 0.2384 - val_acc: 0.8955\n",
      "\n",
      "Epoch 00004: val_acc improved from 0.85048 to 0.89552, saving model to ./dogs-vs-cats/naive_base.model\n",
      "Epoch 5/15\n",
      "563/562 [==============================] - 93s 165ms/step - loss: 0.1360 - acc: 0.9476 - val_loss: 0.3467 - val_acc: 0.8599\n",
      "\n",
      "Epoch 00005: val_acc did not improve from 0.89552\n",
      "Epoch 6/15\n",
      "563/562 [==============================] - 93s 165ms/step - loss: 0.0841 - acc: 0.9703 - val_loss: 0.2195 - val_acc: 0.9133\n",
      "\n",
      "Epoch 00006: val_acc improved from 0.89552 to 0.91333, saving model to ./dogs-vs-cats/naive_base.model\n",
      "Epoch 7/15\n",
      "563/562 [==============================] - 93s 166ms/step - loss: 0.0687 - acc: 0.9750 - val_loss: 0.1860 - val_acc: 0.9361\n",
      "\n",
      "Epoch 00007: val_acc improved from 0.91333 to 0.93615, saving model to ./dogs-vs-cats/naive_base.model\n",
      "Epoch 8/15\n",
      "563/562 [==============================] - 93s 165ms/step - loss: 0.0536 - acc: 0.9816 - val_loss: 0.1869 - val_acc: 0.9373\n",
      "\n",
      "Epoch 00008: val_acc improved from 0.93615 to 0.93735, saving model to ./dogs-vs-cats/naive_base.model\n",
      "Epoch 9/15\n",
      "563/562 [==============================] - 93s 166ms/step - loss: 0.0315 - acc: 0.9892 - val_loss: 0.2231 - val_acc: 0.9321\n",
      "\n",
      "Epoch 00009: val_acc did not improve from 0.93735\n",
      "Epoch 10/15\n",
      "563/562 [==============================] - 93s 166ms/step - loss: 0.0461 - acc: 0.9826 - val_loss: 0.2382 - val_acc: 0.9229\n",
      "\n",
      "Epoch 00010: val_acc did not improve from 0.93735\n",
      "Epoch 11/15\n",
      "563/562 [==============================] - 93s 166ms/step - loss: 0.0349 - acc: 0.9880 - val_loss: 0.1856 - val_acc: 0.9361\n",
      "\n",
      "Epoch 00011: val_acc did not improve from 0.93735\n",
      "Epoch 12/15\n",
      "563/562 [==============================] - 94s 166ms/step - loss: 0.0267 - acc: 0.9907 - val_loss: 0.2095 - val_acc: 0.9337\n",
      "\n",
      "Epoch 00012: val_acc did not improve from 0.93735\n",
      "Epoch 13/15\n",
      "563/562 [==============================] - 93s 165ms/step - loss: 0.0285 - acc: 0.9903 - val_loss: 0.2263 - val_acc: 0.9369\n",
      "\n",
      "Epoch 00013: val_acc did not improve from 0.93735\n",
      "Epoch 14/15\n",
      "563/562 [==============================] - 93s 165ms/step - loss: 0.0271 - acc: 0.9906 - val_loss: 0.3733 - val_acc: 0.9171\n",
      "\n",
      "Epoch 00014: val_acc did not improve from 0.93735\n",
      "Epoch 15/15\n",
      "563/562 [==============================] - 93s 165ms/step - loss: 0.0307 - acc: 0.9887 - val_loss: 0.2755 - val_acc: 0.9247\n",
      "\n",
      "Epoch 00015: val_acc did not improve from 0.93735\n"
     ]
    }
   ],
   "source": [
    "model_callback = [callbacks.ModelCheckpoint(\"./dogs-vs-cats/naive_base.model\",\n",
    "                                           monitor='val_acc',\n",
    "                                           mode = 'max',\n",
    "                                           save_best_only=True,\n",
    "                                           verbose=1)]\n",
    "\n",
    "epochs=15\n",
    "train_history = model.fit_generator(train_datagen,\n",
    "                                    steps_per_epoch=train_datagen.samples/batch_size,\n",
    "                                    epochs=epochs,\n",
    "                                    validation_data=validation_datagen,\n",
    "                                    validation_steps=validation_datagen.samples/batch_size,\n",
    "                                    callbacks=model_callback,\n",
    "                                    shuffle=False,\n",
    "                                    verbose=1)"
   ]
  },
  {
   "cell_type": "code",
   "execution_count": 11,
   "metadata": {},
   "outputs": [],
   "source": [
    "def plot_train_result(train_history):\n",
    "    plt.figure(figsize=(10,5))\n",
    "    plt.subplot(1,2,1)\n",
    "    plt.plot(train_history.history['loss']), plt.plot(train_history.history['val_loss'])\n",
    "    plt.legend(['train','validation'])\n",
    "    plt.title('loss_history')\n",
    "    plt.xlabel('Epoch'), plt.ylabel('loss',fontsize=20)\n",
    "    \n",
    "    plt.subplot(1,2,2)\n",
    "    plt.plot(train_history.history['acc']), plt.plot(train_history.history['val_acc'])\n",
    "    plt.legend(['train','validation'])\n",
    "    plt.title('acc_history')\n",
    "    plt.xlabel('Epoch'), plt.ylabel('Acc',fontsize=20)\n",
    "    plt.show()"
   ]
  },
  {
   "cell_type": "code",
   "execution_count": 12,
   "metadata": {},
   "outputs": [
    {
     "data": {
      "image/png": "[encoded data removed]",
      "text/plain": [
       "<Figure size 720x360 with 2 Axes>"
      ]
     },
     "metadata": {
      "needs_background": "light"
     },
     "output_type": "display_data"
    }
   ],
   "source": [
    "plot_train_result(train_history)"
   ]
  },
  {
   "cell_type": "markdown",
   "metadata": {},
   "source": [
    "## Model2 -- apply SE block\n",
    "\n",
    "SE-block首先將CNN輸出的圖形做GlobalAveragePooling2D  \n",
    "其意義可視作為擷取整張圖的感受野  \n",
    "在將其通過兩次的FC layer後用sigmoid輸出(投射0~1之間作為權重的輸出)  \n",
    "在將權重乘回去CNN的channel\n",
    "注意在FC layer中，其channel會先經過一次降維(減少channel數量，除以一個r值)，在第二的FC層還原成原本的channel數量  \n",
    "圖為Inception& resnet網路的SEblock設計  \n",
    "![](https://imgur.com/jvtkACv.png)  \n",
    "\n",
    "這裡我的r取4，這是為了降低計算量，paper列出了降低的比例與結果，可以發現就算降低了複雜度，網路還是能夠得到足夠好的提升  \n",
    "![](https://imgur.com/qBsdoxW.png)\n"
   ]
  },
  {
   "cell_type": "code",
   "execution_count": 13,
   "metadata": {},
   "outputs": [],
   "source": [
    "def squeeze_excitation_layer(x, out_dim, ratio = 4):\n",
    "    squeeze = GlobalAveragePooling2D()(x)\n",
    "    excitation = Dense(units=out_dim // ratio, activation='relu')(squeeze)\n",
    "    excitation = Dense(units=out_dim, activation='sigmoid')(excitation)\n",
    "    excitation = Reshape((1,1,out_dim))(excitation)\n",
    "    scale = multiply([x,excitation])\n",
    "    return scale"
   ]
  },
  {
   "cell_type": "code",
   "execution_count": 14,
   "metadata": {
    "scrolled": true
   },
   "outputs": [
    {
     "name": "stdout",
     "output_type": "stream",
     "text": [
      "__________________________________________________________________________________________________\n",
      "Layer (type)                    Output Shape         Param #     Connected to                     \n",
      "==================================================================================================\n",
      "input_2 (InputLayer)            (None, 128, 128, 3)  0                                            \n",
      "__________________________________________________________________________________________________\n",
      "conv2d_7 (Conv2D)               (None, 128, 128, 64) 1792        input_2[0][0]                    \n",
      "__________________________________________________________________________________________________\n",
      "global_average_pooling2d_1 (Glo (None, 64)           0           conv2d_7[0][0]                   \n",
      "__________________________________________________________________________________________________\n",
      "dense_4 (Dense)                 (None, 16)           1040        global_average_pooling2d_1[0][0] \n",
      "__________________________________________________________________________________________________\n",
      "dense_5 (Dense)                 (None, 64)           1088        dense_4[0][0]                    \n",
      "__________________________________________________________________________________________________\n",
      "reshape_1 (Reshape)             (None, 1, 1, 64)     0           dense_5[0][0]                    \n",
      "__________________________________________________________________________________________________\n",
      "multiply_1 (Multiply)           (None, 128, 128, 64) 0           conv2d_7[0][0]                   \n",
      "                                                                 reshape_1[0][0]                  \n",
      "__________________________________________________________________________________________________\n",
      "batch_normalization_9 (BatchNor (None, 128, 128, 64) 256         multiply_1[0][0]                 \n",
      "__________________________________________________________________________________________________\n",
      "conv2d_8 (Conv2D)               (None, 128, 128, 64) 36928       batch_normalization_9[0][0]      \n",
      "__________________________________________________________________________________________________\n",
      "global_average_pooling2d_2 (Glo (None, 64)           0           conv2d_8[0][0]                   \n",
      "__________________________________________________________________________________________________\n",
      "dense_6 (Dense)                 (None, 16)           1040        global_average_pooling2d_2[0][0] \n",
      "__________________________________________________________________________________________________\n",
      "dense_7 (Dense)                 (None, 64)           1088        dense_6[0][0]                    \n",
      "__________________________________________________________________________________________________\n",
      "reshape_2 (Reshape)             (None, 1, 1, 64)     0           dense_7[0][0]                    \n",
      "__________________________________________________________________________________________________\n",
      "multiply_2 (Multiply)           (None, 128, 128, 64) 0           conv2d_8[0][0]                   \n",
      "                                                                 reshape_2[0][0]                  \n",
      "__________________________________________________________________________________________________\n",
      "max_pooling2d_4 (MaxPooling2D)  (None, 64, 64, 64)   0           multiply_2[0][0]                 \n",
      "__________________________________________________________________________________________________\n",
      "batch_normalization_10 (BatchNo (None, 64, 64, 64)   256         max_pooling2d_4[0][0]            \n",
      "__________________________________________________________________________________________________\n",
      "conv2d_9 (Conv2D)               (None, 64, 64, 128)  73856       batch_normalization_10[0][0]     \n",
      "__________________________________________________________________________________________________\n",
      "global_average_pooling2d_3 (Glo (None, 128)          0           conv2d_9[0][0]                   \n",
      "__________________________________________________________________________________________________\n",
      "dense_8 (Dense)                 (None, 32)           4128        global_average_pooling2d_3[0][0] \n",
      "__________________________________________________________________________________________________\n",
      "dense_9 (Dense)                 (None, 128)          4224        dense_8[0][0]                    \n",
      "__________________________________________________________________________________________________\n",
      "reshape_3 (Reshape)             (None, 1, 1, 128)    0           dense_9[0][0]                    \n",
      "__________________________________________________________________________________________________\n",
      "multiply_3 (Multiply)           (None, 64, 64, 128)  0           conv2d_9[0][0]                   \n",
      "                                                                 reshape_3[0][0]                  \n",
      "__________________________________________________________________________________________________\n",
      "batch_normalization_11 (BatchNo (None, 64, 64, 128)  512         multiply_3[0][0]                 \n",
      "__________________________________________________________________________________________________\n",
      "conv2d_10 (Conv2D)              (None, 64, 64, 128)  147584      batch_normalization_11[0][0]     \n",
      "__________________________________________________________________________________________________\n",
      "global_average_pooling2d_4 (Glo (None, 128)          0           conv2d_10[0][0]                  \n",
      "__________________________________________________________________________________________________\n",
      "dense_10 (Dense)                (None, 32)           4128        global_average_pooling2d_4[0][0] \n",
      "__________________________________________________________________________________________________\n",
      "dense_11 (Dense)                (None, 128)          4224        dense_10[0][0]                   \n",
      "__________________________________________________________________________________________________\n",
      "reshape_4 (Reshape)             (None, 1, 1, 128)    0           dense_11[0][0]                   \n",
      "__________________________________________________________________________________________________\n",
      "multiply_4 (Multiply)           (None, 64, 64, 128)  0           conv2d_10[0][0]                  \n",
      "                                                                 reshape_4[0][0]                  \n",
      "__________________________________________________________________________________________________\n",
      "max_pooling2d_5 (MaxPooling2D)  (None, 32, 32, 128)  0           multiply_4[0][0]                 \n",
      "__________________________________________________________________________________________________\n",
      "batch_normalization_12 (BatchNo (None, 32, 32, 128)  512         max_pooling2d_5[0][0]            \n",
      "__________________________________________________________________________________________________\n",
      "conv2d_11 (Conv2D)              (None, 32, 32, 256)  295168      batch_normalization_12[0][0]     \n",
      "__________________________________________________________________________________________________\n",
      "global_average_pooling2d_5 (Glo (None, 256)          0           conv2d_11[0][0]                  \n",
      "__________________________________________________________________________________________________\n",
      "dense_12 (Dense)                (None, 64)           16448       global_average_pooling2d_5[0][0] \n",
      "__________________________________________________________________________________________________\n",
      "dense_13 (Dense)                (None, 256)          16640       dense_12[0][0]                   \n",
      "__________________________________________________________________________________________________\n",
      "reshape_5 (Reshape)             (None, 1, 1, 256)    0           dense_13[0][0]                   \n",
      "__________________________________________________________________________________________________\n",
      "multiply_5 (Multiply)           (None, 32, 32, 256)  0           conv2d_11[0][0]                  \n",
      "                                                                 reshape_5[0][0]                  \n",
      "__________________________________________________________________________________________________\n",
      "batch_normalization_13 (BatchNo (None, 32, 32, 256)  1024        multiply_5[0][0]                 \n",
      "__________________________________________________________________________________________________\n",
      "conv2d_12 (Conv2D)              (None, 32, 32, 256)  590080      batch_normalization_13[0][0]     \n",
      "__________________________________________________________________________________________________\n",
      "global_average_pooling2d_6 (Glo (None, 256)          0           conv2d_12[0][0]                  \n",
      "__________________________________________________________________________________________________\n",
      "dense_14 (Dense)                (None, 64)           16448       global_average_pooling2d_6[0][0] \n",
      "__________________________________________________________________________________________________\n",
      "dense_15 (Dense)                (None, 256)          16640       dense_14[0][0]                   \n",
      "__________________________________________________________________________________________________\n",
      "reshape_6 (Reshape)             (None, 1, 1, 256)    0           dense_15[0][0]                   \n",
      "__________________________________________________________________________________________________\n",
      "multiply_6 (Multiply)           (None, 32, 32, 256)  0           conv2d_12[0][0]                  \n",
      "                                                                 reshape_6[0][0]                  \n",
      "__________________________________________________________________________________________________\n",
      "max_pooling2d_6 (MaxPooling2D)  (None, 16, 16, 256)  0           multiply_6[0][0]                 \n",
      "__________________________________________________________________________________________________\n",
      "batch_normalization_14 (BatchNo (None, 16, 16, 256)  1024        max_pooling2d_6[0][0]            \n",
      "__________________________________________________________________________________________________\n",
      "flatten_2 (Flatten)             (None, 65536)        0           batch_normalization_14[0][0]     \n",
      "__________________________________________________________________________________________________\n",
      "dense_16 (Dense)                (None, 512)          33554944    flatten_2[0][0]                  \n",
      "__________________________________________________________________________________________________\n",
      "batch_normalization_15 (BatchNo (None, 512)          2048        dense_16[0][0]                   \n",
      "__________________________________________________________________________________________________\n",
      "dense_17 (Dense)                (None, 128)          65664       batch_normalization_15[0][0]     \n",
      "__________________________________________________________________________________________________\n",
      "batch_normalization_16 (BatchNo (None, 128)          512         dense_17[0][0]                   \n",
      "__________________________________________________________________________________________________\n",
      "dense_18 (Dense)                (None, 1)            129         batch_normalization_16[0][0]     \n",
      "==================================================================================================\n",
      "Total params: 34,859,425\n",
      "Trainable params: 34,856,353\n",
      "Non-trainable params: 3,072\n",
      "__________________________________________________________________________________________________\n"
     ]
    }
   ],
   "source": [
    "units = 64\n",
    "\n",
    "Input_L = Input(shape=(128,128,3))\n",
    "x = Conv2D(units,(3,3),padding='same',activation='relu')(Input_L)\n",
    "x = squeeze_excitation_layer(x, units)\n",
    "x = BatchNormalization()(x)\n",
    "x = Conv2D(units,(3,3),padding='same',activation='relu')(x)\n",
    "x = squeeze_excitation_layer(x, units)\n",
    "x = MaxPool2D()(x)\n",
    "x = BatchNormalization()(x)\n",
    "x = Conv2D(2*units,(3,3),padding='same',activation='relu')(x)\n",
    "x = squeeze_excitation_layer(x, 2*units)\n",
    "x = BatchNormalization()(x)\n",
    "x = Conv2D(2*units,(3,3),padding='same',activation='relu')(x)\n",
    "x = squeeze_excitation_layer(x, 2*units)\n",
    "x = MaxPool2D()(x)\n",
    "x = BatchNormalization()(x)\n",
    "x = Conv2D(4*units,(3,3),padding='same',activation='relu')(x)\n",
    "x = squeeze_excitation_layer(x, 4*units)\n",
    "x = BatchNormalization()(x)\n",
    "x = Conv2D(4*units,(3,3),padding='same',activation='relu')(x)\n",
    "x = squeeze_excitation_layer(x, 4*units)\n",
    "x = MaxPool2D()(x)\n",
    "x = BatchNormalization()(x)\n",
    "x = Flatten()(x)\n",
    "x = Dense(8*units,activation = 'relu')(x)\n",
    "x = BatchNormalization()(x)\n",
    "x = Dense(2*units,activation = 'relu')(x)\n",
    "x = BatchNormalization()(x)\n",
    "Output_L = Dense(1,activation = 'sigmoid')(x)\n",
    "\n",
    "model2 = Model(Input_L,Output_L)\n",
    "\n",
    "model2.summary()"
   ]
  },
  {
   "cell_type": "code",
   "execution_count": 15,
   "metadata": {},
   "outputs": [],
   "source": [
    "optimizer = adam(lr=0.0005)\n",
    "model2.compile(loss='binary_crossentropy',optimizer = optimizer, metrics = ['acc'])"
   ]
  },
  {
   "cell_type": "code",
   "execution_count": 16,
   "metadata": {},
   "outputs": [
    {
     "name": "stdout",
     "output_type": "stream",
     "text": [
      "Epoch 1/15\n",
      "563/562 [==============================] - 123s 218ms/step - loss: 0.5642 - acc: 0.7073 - val_loss: 0.5767 - val_acc: 0.7220\n",
      "\n",
      "Epoch 00001: val_acc improved from -inf to 0.72198, saving model to ./dogs-vs-cats/SE-naive_best.model\n",
      "Epoch 2/15\n",
      "563/562 [==============================] - 118s 210ms/step - loss: 0.4104 - acc: 0.8136 - val_loss: 0.5704 - val_acc: 0.7140\n",
      "\n",
      "Epoch 00002: val_acc did not improve from 0.72198\n",
      "Epoch 3/15\n",
      "563/562 [==============================] - 119s 212ms/step - loss: 0.3074 - acc: 0.8660 - val_loss: 0.3049 - val_acc: 0.8685\n",
      "\n",
      "Epoch 00003: val_acc improved from 0.72198 to 0.86849, saving model to ./dogs-vs-cats/SE-naive_best.model\n",
      "Epoch 4/15\n",
      "563/562 [==============================] - 148s 262ms/step - loss: 0.2134 - acc: 0.9120 - val_loss: 0.2437 - val_acc: 0.8977\n",
      "\n",
      "Epoch 00004: val_acc improved from 0.86849 to 0.89772, saving model to ./dogs-vs-cats/SE-naive_best.model\n",
      "Epoch 5/15\n",
      "563/562 [==============================] - 119s 211ms/step - loss: 0.1377 - acc: 0.9488 - val_loss: 0.2325 - val_acc: 0.9113\n",
      "\n",
      "Epoch 00005: val_acc improved from 0.89772 to 0.91133, saving model to ./dogs-vs-cats/SE-naive_best.model\n",
      "Epoch 6/15\n",
      "563/562 [==============================] - 148s 264ms/step - loss: 0.0838 - acc: 0.9692 - val_loss: 0.3311 - val_acc: 0.8843\n",
      "\n",
      "Epoch 00006: val_acc did not improve from 0.91133\n",
      "Epoch 7/15\n",
      "563/562 [==============================] - 118s 210ms/step - loss: 0.0676 - acc: 0.9758 - val_loss: 0.1976 - val_acc: 0.9315\n",
      "\n",
      "Epoch 00007: val_acc improved from 0.91133 to 0.93155, saving model to ./dogs-vs-cats/SE-naive_best.model\n",
      "Epoch 8/15\n",
      "563/562 [==============================] - 117s 208ms/step - loss: 0.0445 - acc: 0.9844 - val_loss: 0.2281 - val_acc: 0.9223\n",
      "\n",
      "Epoch 00008: val_acc did not improve from 0.93155\n",
      "Epoch 9/15\n",
      "563/562 [==============================] - 140s 249ms/step - loss: 0.0405 - acc: 0.9866 - val_loss: 0.2382 - val_acc: 0.9185\n",
      "\n",
      "Epoch 00009: val_acc did not improve from 0.93155\n",
      "Epoch 10/15\n",
      "563/562 [==============================] - 117s 207ms/step - loss: 0.0466 - acc: 0.9831 - val_loss: 0.2654 - val_acc: 0.9195\n",
      "\n",
      "Epoch 00010: val_acc did not improve from 0.93155\n",
      "Epoch 11/15\n",
      "563/562 [==============================] - 117s 208ms/step - loss: 0.0403 - acc: 0.9855 - val_loss: 0.1924 - val_acc: 0.9382\n",
      "\n",
      "Epoch 00011: val_acc improved from 0.93155 to 0.93815, saving model to ./dogs-vs-cats/SE-naive_best.model\n",
      "Epoch 12/15\n",
      "563/562 [==============================] - 152s 270ms/step - loss: 0.0344 - acc: 0.9882 - val_loss: 0.2866 - val_acc: 0.9031\n",
      "\n",
      "Epoch 00012: val_acc did not improve from 0.93815\n",
      "Epoch 13/15\n",
      "563/562 [==============================] - 117s 207ms/step - loss: 0.0381 - acc: 0.9863 - val_loss: 0.2276 - val_acc: 0.9311\n",
      "\n",
      "Epoch 00013: val_acc did not improve from 0.93815\n",
      "Epoch 14/15\n",
      "563/562 [==============================] - 117s 208ms/step - loss: 0.0227 - acc: 0.9920 - val_loss: 0.2272 - val_acc: 0.9305\n",
      "\n",
      "Epoch 00014: val_acc did not improve from 0.93815\n",
      "Epoch 15/15\n",
      "563/562 [==============================] - 150s 267ms/step - loss: 0.0248 - acc: 0.9912 - val_loss: 0.3100 - val_acc: 0.9173\n",
      "\n",
      "Epoch 00015: val_acc did not improve from 0.93815\n"
     ]
    }
   ],
   "source": [
    "model_callback = [callbacks.ModelCheckpoint(\"./dogs-vs-cats/SE-naive_best.model\",\n",
    "                                           monitor='val_acc',\n",
    "                                           mode = 'max',\n",
    "                                           save_best_only=True,\n",
    "                                           verbose=1)]\n",
    "\n",
    "epochs=15\n",
    "train_history = model2.fit_generator(train_datagen,\n",
    "                                    steps_per_epoch=train_datagen.samples/batch_size,\n",
    "                                    epochs=epochs,\n",
    "                                    validation_data=validation_datagen,\n",
    "                                    validation_steps=validation_datagen.samples/batch_size,\n",
    "                                    callbacks=model_callback,\n",
    "                                    shuffle=False,\n",
    "                                    verbose=1)"
   ]
  },
  {
   "cell_type": "code",
   "execution_count": 17,
   "metadata": {},
   "outputs": [
    {
     "data": {
      "image/png": "[encoded data removed]",
      "text/plain": [
       "<Figure size 720x360 with 2 Axes>"
      ]
     },
     "metadata": {
      "needs_background": "light"
     },
     "output_type": "display_data"
    }
   ],
   "source": [
    "plot_train_result(train_history)"
   ]
  },
  {
   "cell_type": "markdown",
   "metadata": {},
   "source": [
    "# Result\n",
    "\n",
    "base model = 89.34  \n",
    "SE-base model = 90.65"
   ]
  },
  {
   "cell_type": "code",
   "execution_count": 18,
   "metadata": {},
   "outputs": [
    {
     "name": "stdout",
     "output_type": "stream",
     "text": [
      "WARNING:tensorflow:From C:\\Users\\a2720\\Anaconda3\\lib\\site-packages\\tensorflow\\python\\framework\\op_def_library.py:263: colocate_with (from tensorflow.python.framework.ops) is deprecated and will be removed in a future version.\n",
      "Instructions for updating:\n",
      "Colocations handled automatically by placer.\n",
      "WARNING:tensorflow:From C:\\Users\\a2720\\Anaconda3\\lib\\site-packages\\tensorflow\\python\\ops\\math_ops.py:3066: to_int32 (from tensorflow.python.ops.math_ops) is deprecated and will be removed in a future version.\n",
      "Instructions for updating:\n",
      "Use tf.cast instead.\n",
      "test data on naive_best accuracy: 89.34\n",
      "test data accuracy on SE-naive_best model: 90.65\n"
     ]
    }
   ],
   "source": [
    "model_eval = load_model(\"./dogs-vs-cats/naive_best.model\")\n",
    "scores = model_eval.evaluate_generator(test_datagen,steps=len(test_datagen))\n",
    "print('test data on naive_best accuracy: %.2f' %(scores[1]*100))\n",
    "\n",
    "model_eval = load_model(\"./dogs-vs-cats/SE-naive_best.model\")\n",
    "scores = model_eval.evaluate_generator(test_datagen,steps=len(test_datagen))\n",
    "print('test data accuracy on SE-naive_best model: %.2f' %(scores[1]*100))"
   ]
  },
  {
   "cell_type": "markdown",
   "metadata": {},
   "source": [
    "## Summary  \n",
    "Paper 提供了些成果比較如下\n",
    "\n",
    "![](https://imgur.com/Eznnyw2.png)  \n",
    "![](https://imgur.com/tozcuxi.png)"
   ]
  },
  {
   "cell_type": "code",
   "execution_count": null,
   "metadata": {},
   "outputs": [],
   "source": []
  }
 ],
 "metadata": {
  "kernelspec": {
   "display_name": "Python 3",
   "language": "python",
   "name": "python3"
  },
  "language_info": {
   "codemirror_mode": {
    "name": "ipython",
    "version": 3
   },
   "file_extension": ".py",
   "mimetype": "text/x-python",
   "name": "python",
   "nbconvert_exporter": "python",
   "pygments_lexer": "ipython3",
   "version": "3.7.3"
  }
 },
 "nbformat": 4,
 "nbformat_minor": 2
}
