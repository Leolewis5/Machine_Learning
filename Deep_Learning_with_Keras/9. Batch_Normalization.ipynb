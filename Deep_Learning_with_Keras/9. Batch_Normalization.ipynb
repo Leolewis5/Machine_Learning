{
 "cells": [
  {
   "cell_type": "markdown",
   "metadata": {},
   "source": [
    "# Batch Normalizaion\n",
    "\n",
    "批次正規化  \n",
    "[keras document](https://keras.io/zh/layers/normalization/)   \n",
    "[李宏毅影片](https://www.youtube.com/watch?v=BZh1ltr5Rkg)\n",
    "\n",
    "批次正規化的概念從特徵正規化來構想會非常的直觀   \n",
    "![](https://i.imgur.com/NgRS8sm.png)\n",
    "\n",
    "在尺度比較大的特徵資料上，做梯度變換的速度會較快  \n",
    "而在小尺度上的梯度變化就會比較小，被拖累  \n",
    "因此必須在資料上做正規化  \n",
    "\n",
    "把這個概念套用在深度網路內的隱藏層   \n",
    "在每一層傳遞的資料進入神經運算元之前  \n",
    "把傳入的數值做正規化，這可以讓整體網路獲得以下好處:  \n",
    "* Internal Covariate Shift 減少\n",
    "* 有效解決梯度爆炸\n",
    "* 訓練加速\n",
    "* 對於參數的初始化影響較小  \n",
    "* 在訓練結果不好的時候，是一個對抗over fitting的手段\n",
    "* 提升訓練準確度\n",
    "* 對於如sigmoid與tanh此類的激勵函數，可以避免數值掉到飽和區\n",
    "\n"
   ]
  },
  {
   "cell_type": "code",
   "execution_count": 1,
   "metadata": {},
   "outputs": [
    {
     "name": "stderr",
     "output_type": "stream",
     "text": [
      "Using TensorFlow backend.\n"
     ]
    }
   ],
   "source": [
    "import numpy as np\n",
    "import pandas as pd\n",
    "import keras.utils as np_utils\n",
    "from keras.datasets import mnist"
   ]
  },
  {
   "cell_type": "markdown",
   "metadata": {},
   "source": [
    "## MNIST資料\n",
    "\n",
    "利用MINIST資料來做試驗  \n",
    "首先先做基本的維度處理與one-hot encoding"
   ]
  },
  {
   "cell_type": "code",
   "execution_count": 2,
   "metadata": {},
   "outputs": [],
   "source": [
    "(x_train, y_train), (x_test,y_test) = mnist.load_data()\n",
    "\n",
    "x_train = x_train.reshape(len(x_train),-1).astype('float32')/255\n",
    "x_test = x_test.reshape(len(x_test),-1).astype('float32')/255\n",
    "\n",
    "y_train = np_utils.to_categorical(y_train)\n",
    "y_test = np_utils.to_categorical(y_test)"
   ]
  },
  {
   "cell_type": "markdown",
   "metadata": {},
   "source": [
    "## Fully connective model\n",
    "\n",
    "建立一個七層的全連結網路  \n",
    "每層有一百個神經元  \n",
    "最後街上一個softmax分類器"
   ]
  },
  {
   "cell_type": "code",
   "execution_count": 3,
   "metadata": {},
   "outputs": [
    {
     "name": "stdout",
     "output_type": "stream",
     "text": [
      "WARNING:tensorflow:From C:\\Users\\a2720\\Anaconda3\\lib\\site-packages\\tensorflow\\python\\framework\\op_def_library.py:263: colocate_with (from tensorflow.python.framework.ops) is deprecated and will be removed in a future version.\n",
      "Instructions for updating:\n",
      "Colocations handled automatically by placer.\n",
      "_________________________________________________________________\n",
      "Layer (type)                 Output Shape              Param #   \n",
      "=================================================================\n",
      "dense_1 (Dense)              (None, 100)               78500     \n",
      "_________________________________________________________________\n",
      "dense_2 (Dense)              (None, 100)               10100     \n",
      "_________________________________________________________________\n",
      "dense_3 (Dense)              (None, 100)               10100     \n",
      "_________________________________________________________________\n",
      "dense_4 (Dense)              (None, 100)               10100     \n",
      "_________________________________________________________________\n",
      "dense_5 (Dense)              (None, 100)               10100     \n",
      "_________________________________________________________________\n",
      "dense_6 (Dense)              (None, 100)               10100     \n",
      "_________________________________________________________________\n",
      "dense_7 (Dense)              (None, 10)                1010      \n",
      "=================================================================\n",
      "Total params: 130,010\n",
      "Trainable params: 130,010\n",
      "Non-trainable params: 0\n",
      "_________________________________________________________________\n"
     ]
    }
   ],
   "source": [
    "from keras.models import Sequential\n",
    "from keras.layers import Dense\n",
    "\n",
    "model = Sequential()\n",
    "\n",
    "model.add(Dense(units=100,input_dim=784,activation='relu',kernel_initializer='normal'))\n",
    "\n",
    "for _ in range(5):\n",
    "    model.add(Dense(units=100,activation='relu',kernel_initializer='normal'))\n",
    "    \n",
    "model.add(Dense(units=10,activation='softmax',kernel_initializer='normal'))\n",
    "\n",
    "model.summary()"
   ]
  },
  {
   "cell_type": "markdown",
   "metadata": {},
   "source": [
    "### 訓練1\n",
    "\n",
    "利用Adam來做optimizer  \n",
    "損失函數就定義為categorical_crossentropy  \n",
    "可以看到最後在訓練組上正確率為98.2%"
   ]
  },
  {
   "cell_type": "code",
   "execution_count": 4,
   "metadata": {},
   "outputs": [
    {
     "name": "stdout",
     "output_type": "stream",
     "text": [
      "WARNING:tensorflow:From C:\\Users\\a2720\\Anaconda3\\lib\\site-packages\\tensorflow\\python\\ops\\math_ops.py:3066: to_int32 (from tensorflow.python.ops.math_ops) is deprecated and will be removed in a future version.\n",
      "Instructions for updating:\n",
      "Use tf.cast instead.\n",
      "Train on 48000 samples, validate on 12000 samples\n",
      "Epoch 1/20\n",
      "48000/48000 [==============================] - 2s 41us/step - loss: 1.6475 - acc: 0.4450 - val_loss: 0.8026 - val_acc: 0.7278\n",
      "Epoch 2/20\n",
      "48000/48000 [==============================] - 0s 8us/step - loss: 0.6983 - acc: 0.7780 - val_loss: 0.5474 - val_acc: 0.8342\n",
      "Epoch 3/20\n",
      "48000/48000 [==============================] - 0s 9us/step - loss: 0.4891 - acc: 0.8550 - val_loss: 0.3972 - val_acc: 0.8877\n",
      "Epoch 4/20\n",
      "48000/48000 [==============================] - 0s 9us/step - loss: 0.3487 - acc: 0.9004 - val_loss: 0.2952 - val_acc: 0.9134\n",
      "Epoch 5/20\n",
      "48000/48000 [==============================] - 0s 9us/step - loss: 0.2594 - acc: 0.9251 - val_loss: 0.2330 - val_acc: 0.9337\n",
      "Epoch 6/20\n",
      "48000/48000 [==============================] - 0s 8us/step - loss: 0.2129 - acc: 0.9374 - val_loss: 0.2043 - val_acc: 0.9422\n",
      "Epoch 7/20\n",
      "48000/48000 [==============================] - 0s 9us/step - loss: 0.1842 - acc: 0.9461 - val_loss: 0.1830 - val_acc: 0.9481\n",
      "Epoch 8/20\n",
      "48000/48000 [==============================] - 0s 9us/step - loss: 0.1661 - acc: 0.9517 - val_loss: 0.1709 - val_acc: 0.9507\n",
      "Epoch 9/20\n",
      "48000/48000 [==============================] - 0s 8us/step - loss: 0.1480 - acc: 0.9568 - val_loss: 0.1650 - val_acc: 0.9530\n",
      "Epoch 10/20\n",
      "48000/48000 [==============================] - 0s 8us/step - loss: 0.1325 - acc: 0.9613 - val_loss: 0.1509 - val_acc: 0.9568\n",
      "Epoch 11/20\n",
      "48000/48000 [==============================] - 0s 8us/step - loss: 0.1164 - acc: 0.9661 - val_loss: 0.1486 - val_acc: 0.9552\n",
      "Epoch 12/20\n",
      "48000/48000 [==============================] - 0s 8us/step - loss: 0.1066 - acc: 0.9695 - val_loss: 0.1410 - val_acc: 0.9594\n",
      "Epoch 13/20\n",
      "48000/48000 [==============================] - 0s 9us/step - loss: 0.0973 - acc: 0.9721 - val_loss: 0.1330 - val_acc: 0.9613\n",
      "Epoch 14/20\n",
      "48000/48000 [==============================] - 0s 10us/step - loss: 0.0874 - acc: 0.9749 - val_loss: 0.1316 - val_acc: 0.9631\n",
      "Epoch 15/20\n",
      "48000/48000 [==============================] - 0s 9us/step - loss: 0.0857 - acc: 0.9745 - val_loss: 0.1394 - val_acc: 0.9602\n",
      "Epoch 16/20\n",
      "48000/48000 [==============================] - 0s 9us/step - loss: 0.0773 - acc: 0.9774 - val_loss: 0.1308 - val_acc: 0.9636\n",
      "Epoch 17/20\n",
      "48000/48000 [==============================] - 0s 9us/step - loss: 0.0693 - acc: 0.9799 - val_loss: 0.1355 - val_acc: 0.9613\n",
      "Epoch 18/20\n",
      "48000/48000 [==============================] - 0s 9us/step - loss: 0.0676 - acc: 0.9798 - val_loss: 0.1329 - val_acc: 0.9628\n",
      "Epoch 19/20\n",
      "48000/48000 [==============================] - 0s 9us/step - loss: 0.0597 - acc: 0.9822 - val_loss: 0.1457 - val_acc: 0.9616\n",
      "Epoch 20/20\n",
      "48000/48000 [==============================] - 0s 9us/step - loss: 0.0603 - acc: 0.9821 - val_loss: 0.1291 - val_acc: 0.9660\n"
     ]
    }
   ],
   "source": [
    "model.compile(loss='categorical_crossentropy', optimizer='adam',metrics=['accuracy'])\n",
    "train_history= model.fit(x_train,y_train,validation_split=0.2,batch_size=1000,epochs=20,verbose=1)"
   ]
  },
  {
   "cell_type": "markdown",
   "metadata": {},
   "source": [
    "## Fully connective model with batchnormalization\n",
    "\n",
    "再以剛剛同樣的網路架構下  \n",
    "在每個激勵函數後面都接上batchnormalization  "
   ]
  },
  {
   "cell_type": "code",
   "execution_count": 5,
   "metadata": {},
   "outputs": [
    {
     "name": "stdout",
     "output_type": "stream",
     "text": [
      "_________________________________________________________________\n",
      "Layer (type)                 Output Shape              Param #   \n",
      "=================================================================\n",
      "dense_8 (Dense)              (None, 100)               78500     \n",
      "_________________________________________________________________\n",
      "batch_normalization_1 (Batch (None, 100)               400       \n",
      "_________________________________________________________________\n",
      "dense_9 (Dense)              (None, 100)               10100     \n",
      "_________________________________________________________________\n",
      "batch_normalization_2 (Batch (None, 100)               400       \n",
      "_________________________________________________________________\n",
      "dense_10 (Dense)             (None, 100)               10100     \n",
      "_________________________________________________________________\n",
      "batch_normalization_3 (Batch (None, 100)               400       \n",
      "_________________________________________________________________\n",
      "dense_11 (Dense)             (None, 100)               10100     \n",
      "_________________________________________________________________\n",
      "batch_normalization_4 (Batch (None, 100)               400       \n",
      "_________________________________________________________________\n",
      "dense_12 (Dense)             (None, 100)               10100     \n",
      "_________________________________________________________________\n",
      "batch_normalization_5 (Batch (None, 100)               400       \n",
      "_________________________________________________________________\n",
      "dense_13 (Dense)             (None, 100)               10100     \n",
      "_________________________________________________________________\n",
      "batch_normalization_6 (Batch (None, 100)               400       \n",
      "_________________________________________________________________\n",
      "dense_14 (Dense)             (None, 10)                1010      \n",
      "=================================================================\n",
      "Total params: 132,410\n",
      "Trainable params: 131,210\n",
      "Non-trainable params: 1,200\n",
      "_________________________________________________________________\n"
     ]
    }
   ],
   "source": [
    "from keras.layers import BatchNormalization\n",
    "\n",
    "model2 = Sequential()\n",
    "\n",
    "model2.add(Dense(units=100,input_dim=784,activation='relu',kernel_initializer='normal'))\n",
    "\n",
    "for _ in range(5):\n",
    "    model2.add(BatchNormalization())\n",
    "    model2.add(Dense(units=100,input_dim=784,activation='relu',kernel_initializer='normal'))\n",
    "    \n",
    "model2.add(BatchNormalization())    \n",
    "model2.add(Dense(units=10,activation='softmax',kernel_initializer='normal'))\n",
    "\n",
    "model2.summary()"
   ]
  },
  {
   "cell_type": "markdown",
   "metadata": {},
   "source": [
    "可以看到最後在訓練組上的準確率達到99.7%"
   ]
  },
  {
   "cell_type": "code",
   "execution_count": 6,
   "metadata": {},
   "outputs": [
    {
     "name": "stdout",
     "output_type": "stream",
     "text": [
      "Train on 48000 samples, validate on 12000 samples\n",
      "Epoch 1/20\n",
      "48000/48000 [==============================] - 2s 45us/step - loss: 0.6539 - acc: 0.8217 - val_loss: 0.1940 - val_acc: 0.9436\n",
      "Epoch 2/20\n",
      "48000/48000 [==============================] - 1s 14us/step - loss: 0.1584 - acc: 0.9558 - val_loss: 0.1415 - val_acc: 0.9582\n",
      "Epoch 3/20\n",
      "48000/48000 [==============================] - 1s 14us/step - loss: 0.0987 - acc: 0.9725 - val_loss: 0.1223 - val_acc: 0.9634\n",
      "Epoch 4/20\n",
      "48000/48000 [==============================] - 1s 13us/step - loss: 0.0680 - acc: 0.9812 - val_loss: 0.1116 - val_acc: 0.9677\n",
      "Epoch 5/20\n",
      "48000/48000 [==============================] - 1s 14us/step - loss: 0.0500 - acc: 0.9858 - val_loss: 0.1137 - val_acc: 0.9669\n",
      "Epoch 6/20\n",
      "48000/48000 [==============================] - 1s 14us/step - loss: 0.0351 - acc: 0.9906 - val_loss: 0.1110 - val_acc: 0.9683\n",
      "Epoch 7/20\n",
      "48000/48000 [==============================] - 1s 14us/step - loss: 0.0277 - acc: 0.9917 - val_loss: 0.1144 - val_acc: 0.9692\n",
      "Epoch 8/20\n",
      "48000/48000 [==============================] - 1s 14us/step - loss: 0.0201 - acc: 0.9945 - val_loss: 0.1145 - val_acc: 0.9704\n",
      "Epoch 9/20\n",
      "48000/48000 [==============================] - 1s 15us/step - loss: 0.0164 - acc: 0.9953 - val_loss: 0.1240 - val_acc: 0.9677\n",
      "Epoch 10/20\n",
      "48000/48000 [==============================] - 1s 14us/step - loss: 0.0162 - acc: 0.9955 - val_loss: 0.1177 - val_acc: 0.9708\n",
      "Epoch 11/20\n",
      "48000/48000 [==============================] - 1s 13us/step - loss: 0.0132 - acc: 0.9964 - val_loss: 0.1321 - val_acc: 0.9686\n",
      "Epoch 12/20\n",
      "48000/48000 [==============================] - 1s 13us/step - loss: 0.0141 - acc: 0.9952 - val_loss: 0.1333 - val_acc: 0.9695\n",
      "Epoch 13/20\n",
      "48000/48000 [==============================] - 1s 14us/step - loss: 0.0140 - acc: 0.9954 - val_loss: 0.1316 - val_acc: 0.9703\n",
      "Epoch 14/20\n",
      "48000/48000 [==============================] - 1s 14us/step - loss: 0.0125 - acc: 0.9960 - val_loss: 0.1334 - val_acc: 0.9695\n",
      "Epoch 15/20\n",
      "48000/48000 [==============================] - 1s 13us/step - loss: 0.0096 - acc: 0.9971 - val_loss: 0.1224 - val_acc: 0.9722\n",
      "Epoch 16/20\n",
      "48000/48000 [==============================] - 1s 14us/step - loss: 0.0091 - acc: 0.9974 - val_loss: 0.1268 - val_acc: 0.9716\n",
      "Epoch 17/20\n",
      "48000/48000 [==============================] - 1s 13us/step - loss: 0.0081 - acc: 0.9976 - val_loss: 0.1271 - val_acc: 0.9722\n",
      "Epoch 18/20\n",
      "48000/48000 [==============================] - 1s 13us/step - loss: 0.0080 - acc: 0.9976 - val_loss: 0.1322 - val_acc: 0.9716\n",
      "Epoch 19/20\n",
      "48000/48000 [==============================] - 1s 15us/step - loss: 0.0088 - acc: 0.9972 - val_loss: 0.1379 - val_acc: 0.9708\n",
      "Epoch 20/20\n",
      "48000/48000 [==============================] - 1s 13us/step - loss: 0.0082 - acc: 0.9974 - val_loss: 0.1393 - val_acc: 0.9697\n"
     ]
    }
   ],
   "source": [
    "model2.compile(loss='categorical_crossentropy', optimizer='adam',metrics=['accuracy'])\n",
    "train_history2 = model2.fit(x_train,y_train,validation_split=0.2,batch_size=1000,epochs=20,verbose=1)"
   ]
  },
  {
   "cell_type": "markdown",
   "metadata": {},
   "source": [
    "## plot trainning history\n",
    "\n",
    "把訓練的結果展開來看  \n",
    "可以看到在損失函數的值，其下降速度快了不少  \n",
    "準確率的提升也是"
   ]
  },
  {
   "cell_type": "code",
   "execution_count": 8,
   "metadata": {},
   "outputs": [
    {
     "data": {
      "text/plain": [
       "(Text(0.5, 1.0, 'loss'), <matplotlib.legend.Legend at 0x1ec8816cac8>)"
      ]
     },
     "execution_count": 8,
     "metadata": {},
     "output_type": "execute_result"
    },
    {
     "data": {
      "image/png": "[encoded data removed]",
      "text/plain": [
       "<Figure size 432x288 with 1 Axes>"
      ]
     },
     "metadata": {
      "needs_background": "light"
     },
     "output_type": "display_data"
    },
    {
     "data": {
      "image/png": "[encoded data removed]",
      "text/plain": [
       "<Figure size 432x288 with 1 Axes>"
      ]
     },
     "metadata": {
      "needs_background": "light"
     },
     "output_type": "display_data"
    }
   ],
   "source": [
    "import matplotlib.pyplot as plt\n",
    "\n",
    "plt.plot(train_history.history['acc'],label='normal model')\n",
    "plt.plot(train_history2.history['acc'],label='model with batchnormalization')\n",
    "plt.title('accuracy'),plt.legend()\n",
    "\n",
    "plt.figure()\n",
    "plt.plot(train_history.history['acc'],label='normal model')\n",
    "plt.plot(train_history2.history['acc'],label='model with batchnormalization')\n",
    "plt.title('loss'),plt.legend()"
   ]
  },
  {
   "cell_type": "code",
   "execution_count": 9,
   "metadata": {},
   "outputs": [
    {
     "name": "stdout",
     "output_type": "stream",
     "text": [
      "10000/10000 [==============================] - 0s 36us/step\n",
      "10000/10000 [==============================] - 1s 55us/step\n"
     ]
    }
   ],
   "source": [
    "score=model.evaluate(x_test,y_test)\n",
    "score2=model2.evaluate(x_test,y_test)"
   ]
  },
  {
   "cell_type": "markdown",
   "metadata": {},
   "source": [
    "## Test data\n",
    "可以看到在test data的結果也較優"
   ]
  },
  {
   "cell_type": "code",
   "execution_count": 11,
   "metadata": {},
   "outputs": [
    {
     "name": "stdout",
     "output_type": "stream",
     "text": [
      "Accuary of FCN: 96.5\n",
      "Accuary of FCN w/ BN: 97.1\n"
     ]
    }
   ],
   "source": [
    "print('Accuary of FCN: %.1f'%(score[1]*100))\n",
    "print('Accuary of FCN w/ BN: %.1f'%(score2[1]*100))"
   ]
  },
  {
   "cell_type": "markdown",
   "metadata": {},
   "source": [
    "# Summary\n",
    "\n",
    "![](https://imgur.com/J2eSYdi.png)\n",
    "\n",
    "\n",
    "\n",
    "從model2的summary可以看到有BN有四個參數  \n",
    "分別就是: gamma, beta, batch_mean and batch_std  \n",
    "\n",
    "BN的參數調動如下，非常直觀: \n",
    "\n",
    "BatchNormalization(axis=-1, momentum=0.99, epsilon=0.001, center=True, scale=True, beta_initializer='zeros', gamma_initializer='ones', moving_mean_initializer='zeros', moving_variance_initializer='ones', beta_regularizer=None, gamma_regularizer=None, beta_constraint=None, gamma_constraint=None)\n",
    "\n"
   ]
  }
 ],
 "metadata": {
  "kernelspec": {
   "display_name": "Python 3",
   "language": "python",
   "name": "python3"
  },
  "language_info": {
   "codemirror_mode": {
    "name": "ipython",
    "version": 3
   },
   "file_extension": ".py",
   "mimetype": "text/x-python",
   "name": "python",
   "nbconvert_exporter": "python",
   "pygments_lexer": "ipython3",
   "version": "3.7.3"
  }
 },
 "nbformat": 4,
 "nbformat_minor": 2
}
