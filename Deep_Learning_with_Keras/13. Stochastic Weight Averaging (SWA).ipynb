{
 "cells": [
  {
   "cell_type": "markdown",
   "metadata": {},
   "source": [
    "# Stochastic Weight Averaging (SWA)\n",
    "\n",
    "\n",
    "[reference](https://blog.csdn.net/ChenVast/article/details/82142540)  \n",
    "[Paper](https://arxiv.org/pdf/1803.05407.pdf)  \n",
    "SWA隨機權重平均  \n",
    "一個可以達到與Fast Geometric Ensembling([FGE](https://arxiv.org/pdf/1802.10026.pdf))集成學習相接近的學習成果  \n",
    "縱然loss可能會比較差，但是其模型準確度卻能比較好  \n",
    "其核心精神就是，一般的訓練其weight space上得到的結果通常是聚集在一個平坦空間的邊緣  \n",
    "若將這些結果平均後，就能得到較好的weight\n",
    "![](https://i.imgur.com/D2AX73f.png)\n"
   ]
  },
  {
   "cell_type": "code",
   "execution_count": 1,
   "metadata": {},
   "outputs": [
    {
     "name": "stderr",
     "output_type": "stream",
     "text": [
      "Using TensorFlow backend.\n",
      "C:\\Users\\a2720\\Anaconda3\\lib\\site-packages\\tensorflow\\python\\framework\\dtypes.py:526: FutureWarning: Passing (type, 1) or '1type' as a synonym of type is deprecated; in a future version of numpy, it will be understood as (type, (1,)) / '(1,)type'.\n",
      "  _np_qint8 = np.dtype([(\"qint8\", np.int8, 1)])\n",
      "C:\\Users\\a2720\\Anaconda3\\lib\\site-packages\\tensorflow\\python\\framework\\dtypes.py:527: FutureWarning: Passing (type, 1) or '1type' as a synonym of type is deprecated; in a future version of numpy, it will be understood as (type, (1,)) / '(1,)type'.\n",
      "  _np_quint8 = np.dtype([(\"quint8\", np.uint8, 1)])\n",
      "C:\\Users\\a2720\\Anaconda3\\lib\\site-packages\\tensorflow\\python\\framework\\dtypes.py:528: FutureWarning: Passing (type, 1) or '1type' as a synonym of type is deprecated; in a future version of numpy, it will be understood as (type, (1,)) / '(1,)type'.\n",
      "  _np_qint16 = np.dtype([(\"qint16\", np.int16, 1)])\n",
      "C:\\Users\\a2720\\Anaconda3\\lib\\site-packages\\tensorflow\\python\\framework\\dtypes.py:529: FutureWarning: Passing (type, 1) or '1type' as a synonym of type is deprecated; in a future version of numpy, it will be understood as (type, (1,)) / '(1,)type'.\n",
      "  _np_quint16 = np.dtype([(\"quint16\", np.uint16, 1)])\n",
      "C:\\Users\\a2720\\Anaconda3\\lib\\site-packages\\tensorflow\\python\\framework\\dtypes.py:530: FutureWarning: Passing (type, 1) or '1type' as a synonym of type is deprecated; in a future version of numpy, it will be understood as (type, (1,)) / '(1,)type'.\n",
      "  _np_qint32 = np.dtype([(\"qint32\", np.int32, 1)])\n",
      "C:\\Users\\a2720\\Anaconda3\\lib\\site-packages\\tensorflow\\python\\framework\\dtypes.py:535: FutureWarning: Passing (type, 1) or '1type' as a synonym of type is deprecated; in a future version of numpy, it will be understood as (type, (1,)) / '(1,)type'.\n",
      "  np_resource = np.dtype([(\"resource\", np.ubyte, 1)])\n"
     ]
    }
   ],
   "source": [
    "import os\n",
    "import keras\n",
    "import numpy as np\n",
    "import matplotlib.pyplot as plt\n",
    "import glob\n",
    "from keras.applications import VGG16\n",
    "from keras.layers import Dense, Flatten, Dropout\n",
    "from keras.models import Sequential\n",
    "from keras.preprocessing.image import ImageDataGenerator\n",
    "from keras import callbacks\n",
    "from keras.optimizers import adam\n",
    "from keras.utils import Sequence"
   ]
  },
  {
   "cell_type": "markdown",
   "metadata": {},
   "source": [
    "## Dog vs Cat dataset\n",
    "\n",
    "利用貓狗數據，並利用VGG16 pre train model來當驗證  \n",
    "首先train一組model  \n",
    "* epoch=15  \n",
    "* optimizer = adam(lr = 0.001)  "
   ]
  },
  {
   "cell_type": "code",
   "execution_count": 2,
   "metadata": {},
   "outputs": [
    {
     "data": {
      "text/plain": [
       "['CAT', 'DOG']"
      ]
     },
     "execution_count": 2,
     "metadata": {},
     "output_type": "execute_result"
    }
   ],
   "source": [
    "dataset = './dogs-vs-cats/VGG_Practice/'\n",
    "\n",
    "train_folder = dataset + 'TRAIN'\n",
    "val_folder = dataset + 'Validation'\n",
    "test_folder = dataset + 'TEST'\n",
    "os.listdir(train_folder)"
   ]
  },
  {
   "cell_type": "code",
   "execution_count": 4,
   "metadata": {},
   "outputs": [
    {
     "name": "stdout",
     "output_type": "stream",
     "text": [
      "Found 4000 images belonging to 2 classes.\n",
      "Found 2000 images belonging to 2 classes.\n",
      "Found 2000 images belonging to 2 classes.\n",
      "train_batch_shape:  (32, 150, 150, 3)\n",
      "label_batch_shape:  (32,)\n"
     ]
    }
   ],
   "source": [
    "# normalizing\n",
    "Imagegen = ImageDataGenerator(rescale=1./255)\n",
    "\n",
    "batch_size = 32\n",
    "\n",
    "train_datagen = Imagegen.flow_from_directory(\n",
    "            train_folder,\n",
    "            target_size=(150,150),\n",
    "            batch_size=batch_size,\n",
    "            class_mode='binary'\n",
    "            )\n",
    "\n",
    "validation_datagen = Imagegen.flow_from_directory(\n",
    "            val_folder,\n",
    "            target_size=(150,150),\n",
    "            batch_size=batch_size,\n",
    "            class_mode='binary'\n",
    "            )\n",
    "\n",
    "test_datagen = Imagegen.flow_from_directory(\n",
    "            test_folder,\n",
    "            target_size=(150,150),\n",
    "            batch_size=128,\n",
    "            class_mode='binary',\n",
    "            shuffle=False\n",
    "            )\n",
    "\n",
    "for train_batch, label_batch in train_datagen:\n",
    "    print('train_batch_shape: ', train_batch.shape)\n",
    "    print('label_batch_shape: ', label_batch.shape)\n",
    "    break;"
   ]
  },
  {
   "cell_type": "code",
   "execution_count": 5,
   "metadata": {},
   "outputs": [],
   "source": [
    "def call_vgg16_dog_vs_cat(input_shape=(150,150,3)):\n",
    "    vgg_model = VGG16(weights='imagenet',include_top=False,input_shape=input_shape)\n",
    "    vgg_model.trainable = False\n",
    "    model = Sequential()\n",
    "    model.add(vgg_model)\n",
    "    model.add(Flatten())\n",
    "    model.add(Dense(100,activation = 'relu'))\n",
    "    model.add(Dense(10,activation = 'relu'))\n",
    "    model.add(Dense(1,activation = 'sigmoid'))\n",
    "    return model"
   ]
  },
  {
   "cell_type": "code",
   "execution_count": 16,
   "metadata": {},
   "outputs": [
    {
     "name": "stdout",
     "output_type": "stream",
     "text": [
      "_________________________________________________________________\n",
      "Layer (type)                 Output Shape              Param #   \n",
      "=================================================================\n",
      "vgg16 (Model)                (None, 4, 4, 512)         14714688  \n",
      "_________________________________________________________________\n",
      "flatten_3 (Flatten)          (None, 8192)              0         \n",
      "_________________________________________________________________\n",
      "dense_7 (Dense)              (None, 100)               819300    \n",
      "_________________________________________________________________\n",
      "dense_8 (Dense)              (None, 10)                1010      \n",
      "_________________________________________________________________\n",
      "dense_9 (Dense)              (None, 1)                 11        \n",
      "=================================================================\n",
      "Total params: 15,535,009\n",
      "Trainable params: 820,321\n",
      "Non-trainable params: 14,714,688\n",
      "_________________________________________________________________\n"
     ]
    }
   ],
   "source": [
    "model = call_vgg16_dog_vs_cat()\n",
    "optimizer = adam(lr=0.001)\n",
    "\n",
    "model.summary()\n",
    "model.compile(loss='binary_crossentropy',optimizer = optimizer, metrics = ['acc'])"
   ]
  },
  {
   "cell_type": "code",
   "execution_count": 17,
   "metadata": {},
   "outputs": [],
   "source": [
    "model_callback = [callbacks.ModelCheckpoint(\"./dogs-vs-cats/naive_best.model\",\n",
    "                                           monitor='val_acc',\n",
    "                                           mode = 'max',\n",
    "                                           save_best_only=True,\n",
    "                                           verbose=1)]"
   ]
  },
  {
   "cell_type": "code",
   "execution_count": 18,
   "metadata": {},
   "outputs": [
    {
     "name": "stdout",
     "output_type": "stream",
     "text": [
      "Epoch 1/15\n",
      "125/125 [==============================] - 15s 124ms/step - loss: 0.3122 - acc: 0.8650 - val_loss: 0.2702 - val_acc: 0.8770\n",
      "\n",
      "Epoch 00001: val_acc improved from -inf to 0.87700, saving model to ./dogs-vs-cats/naive_best.model\n",
      "Epoch 2/15\n",
      "125/125 [==============================] - 14s 115ms/step - loss: 0.2060 - acc: 0.9143 - val_loss: 0.2479 - val_acc: 0.8960\n",
      "\n",
      "Epoch 00002: val_acc improved from 0.87700 to 0.89600, saving model to ./dogs-vs-cats/naive_best.model\n",
      "Epoch 3/15\n",
      "125/125 [==============================] - 15s 119ms/step - loss: 0.1551 - acc: 0.9357 - val_loss: 0.2480 - val_acc: 0.8920\n",
      "\n",
      "Epoch 00003: val_acc did not improve from 0.89600\n",
      "Epoch 4/15\n",
      "125/125 [==============================] - 15s 123ms/step - loss: 0.1168 - acc: 0.9570 - val_loss: 0.2782 - val_acc: 0.8890\n",
      "\n",
      "Epoch 00004: val_acc did not improve from 0.89600\n",
      "Epoch 5/15\n",
      "125/125 [==============================] - 15s 123ms/step - loss: 0.0828 - acc: 0.9700 - val_loss: 0.3037 - val_acc: 0.8880\n",
      "\n",
      "Epoch 00005: val_acc did not improve from 0.89600\n",
      "Epoch 6/15\n",
      "125/125 [==============================] - 15s 122ms/step - loss: 0.0698 - acc: 0.9730 - val_loss: 0.2864 - val_acc: 0.8950\n",
      "\n",
      "Epoch 00006: val_acc did not improve from 0.89600\n",
      "Epoch 7/15\n",
      "125/125 [==============================] - 15s 122ms/step - loss: 0.0411 - acc: 0.9870 - val_loss: 0.3479 - val_acc: 0.8890\n",
      "\n",
      "Epoch 00007: val_acc did not improve from 0.89600\n",
      "Epoch 8/15\n",
      "125/125 [==============================] - 16s 124ms/step - loss: 0.0294 - acc: 0.9922 - val_loss: 0.4003 - val_acc: 0.8865\n",
      "\n",
      "Epoch 00008: val_acc did not improve from 0.89600\n",
      "Epoch 9/15\n",
      "125/125 [==============================] - 15s 123ms/step - loss: 0.0173 - acc: 0.9978 - val_loss: 0.4250 - val_acc: 0.8820\n",
      "\n",
      "Epoch 00009: val_acc did not improve from 0.89600\n",
      "Epoch 10/15\n",
      "125/125 [==============================] - 15s 123ms/step - loss: 0.0128 - acc: 0.9980 - val_loss: 0.3866 - val_acc: 0.8935\n",
      "\n",
      "Epoch 00010: val_acc did not improve from 0.89600\n",
      "Epoch 11/15\n",
      "125/125 [==============================] - 15s 123ms/step - loss: 0.0076 - acc: 0.9993 - val_loss: 0.4489 - val_acc: 0.8865\n",
      "\n",
      "Epoch 00011: val_acc did not improve from 0.89600\n",
      "Epoch 12/15\n",
      "125/125 [==============================] - 15s 124ms/step - loss: 0.0041 - acc: 0.9995 - val_loss: 0.4535 - val_acc: 0.8850\n",
      "\n",
      "Epoch 00012: val_acc did not improve from 0.89600\n",
      "Epoch 13/15\n",
      "125/125 [==============================] - 16s 126ms/step - loss: 0.0035 - acc: 0.9998 - val_loss: 0.4703 - val_acc: 0.8855\n",
      "\n",
      "Epoch 00013: val_acc did not improve from 0.89600\n",
      "Epoch 14/15\n",
      "125/125 [==============================] - 16s 124ms/step - loss: 0.0024 - acc: 1.0000 - val_loss: 0.4523 - val_acc: 0.8950\n",
      "\n",
      "Epoch 00014: val_acc did not improve from 0.89600\n",
      "Epoch 15/15\n",
      "125/125 [==============================] - 15s 124ms/step - loss: 0.0026 - acc: 0.9995 - val_loss: 0.4777 - val_acc: 0.8920\n",
      "\n",
      "Epoch 00015: val_acc did not improve from 0.89600\n"
     ]
    }
   ],
   "source": [
    "train_history = model.fit_generator(train_datagen,\n",
    "                                    steps_per_epoch=train_datagen.samples/batch_size,\n",
    "                                    epochs=15,\n",
    "                                    validation_data=validation_datagen,\n",
    "                                    validation_steps=validation_datagen.samples/batch_size,\n",
    "                                    callbacks=model_callback,\n",
    "                                    verbose=1)"
   ]
  },
  {
   "cell_type": "code",
   "execution_count": 19,
   "metadata": {},
   "outputs": [],
   "source": [
    "def plot_train_result(train_history):\n",
    "    plt.figure(figsize=(10,5))\n",
    "    plt.subplot(1,2,1)\n",
    "    plt.plot(train_history.history['loss']), plt.plot(train_history.history['val_loss'])\n",
    "    plt.legend(['train','validation'])\n",
    "    plt.title('loss_history')\n",
    "    plt.xlabel('Epoch'), plt.ylabel('loss',fontsize=20)\n",
    "    \n",
    "    plt.subplot(1,2,2)\n",
    "    plt.plot(train_history.history['acc']), plt.plot(train_history.history['val_acc'])\n",
    "    plt.legend(['train','validation'])\n",
    "    plt.title('acc_history')\n",
    "    plt.xlabel('Epoch'), plt.ylabel('Acc',fontsize=20)\n",
    "    plt.show()"
   ]
  },
  {
   "cell_type": "code",
   "execution_count": 20,
   "metadata": {},
   "outputs": [
    {
     "data": {
      "image/png": "[encoded data removed]",
      "text/plain": [
       "<Figure size 720x360 with 2 Axes>"
      ]
     },
     "metadata": {
      "needs_background": "light"
     },
     "output_type": "display_data"
    }
   ],
   "source": [
    "plot_train_result(train_history)"
   ]
  },
  {
   "cell_type": "markdown",
   "metadata": {},
   "source": [
    "## Result1\n",
    "\n",
    "accuracy達到88.45%"
   ]
  },
  {
   "cell_type": "code",
   "execution_count": 21,
   "metadata": {},
   "outputs": [
    {
     "name": "stdout",
     "output_type": "stream",
     "text": [
      "test data accuracy: 88.45\n"
     ]
    }
   ],
   "source": [
    "scores = model.evaluate_generator(test_datagen,steps=len(test_datagen))\n",
    "print('test data accuracy: %.2f' %(scores[1]*100))"
   ]
  },
  {
   "cell_type": "markdown",
   "metadata": {},
   "source": [
    "## Model2 -- using SWA\n",
    "\n",
    "定義SWA在callback module 中  \n",
    "\n",
    "### 定義SWA\n",
    "繼承Callback，需要定義的是\n",
    "* __init__: 繼承原始的init並自訂義\n",
    "* on_train_begin: 在訓練開始時的操作\n",
    "* on_train_end: 在訓練結束時的操作\n",
    "* on_epoch_end: 在每個epoch結束時怎麼操作，在這裡定義swa的儲存  "
   ]
  },
  {
   "cell_type": "code",
   "execution_count": 12,
   "metadata": {},
   "outputs": [],
   "source": [
    "class SWA(keras.callbacks.Callback):\n",
    "    def __init__(self, filepath, swa_epoch):\n",
    "        super(SWA, self).__init__()\n",
    "        self.filepath = filepath\n",
    "        self.swa_epoch = swa_epoch \n",
    "    \n",
    "    def on_train_begin(self, logs=None):\n",
    "        self.nb_epoch = self.params['epochs']\n",
    "        print('Stochastic weight averaging selected for last {} epochs.'\n",
    "              .format(self.nb_epoch-self.swa_epoch))\n",
    "        \n",
    "    def on_epoch_end(self, epoch, logs=None):  \n",
    "        if epoch == (self.swa_epoch):\n",
    "            self.swa_weights = self.model.get_weights()\n",
    "        elif epoch > self.swa_epoch :    \n",
    "            for i in range(len(self.swa_weights)):\n",
    "                self.swa_weights[i] = (self.swa_weights[i] * \n",
    "                    (epoch-self.swa_epoch) + self.model.get_weights()[i])/((epoch-self.swa_epoch)  + 1)  \n",
    "        else:\n",
    "            pass\n",
    "        \n",
    "    def on_train_end(self, logs=None):\n",
    "        self.model.set_weights(self.swa_weights)\n",
    "        print('Final model parameters set to stochastic weight average.')\n",
    "        self.model.save(self.filepath)\n",
    "        print('Final stochastic averaged weights saved to file.')"
   ]
  },
  {
   "cell_type": "markdown",
   "metadata": {},
   "source": [
    "## Snapshot scheduler\n",
    "\n",
    "定義snapshot schedule  \n",
    "除了Swa的weight save  \n",
    "需要另外定義learning rate scheduler  \n",
    "自訂義一組callback list包裝在SnapshotCallbackBuilder  \n",
    "其中learning rate的定義為 _cosine_anneal_schedule"
   ]
  },
  {
   "cell_type": "code",
   "execution_count": 23,
   "metadata": {},
   "outputs": [],
   "source": [
    "class SnapshotCallbackBuilder:\n",
    "    def __init__(self,epoches, nb_snapshot,init_lr=0.001):\n",
    "        self.T = epoches\n",
    "        self.N = nb_snapshot\n",
    "        self.lr = init_lr\n",
    "        \n",
    "    def getcallback(self):\n",
    "        callback_list=[\n",
    "            callbacks.ModelCheckpoint(\"./dogs-vs-cats/snapshot_best.model\",monitor='val_acc',\n",
    "                                      mode = 'max', save_best_only=True, verbose=1),\n",
    "            swa,\n",
    "            callbacks.LearningRateScheduler(schedule=self._cosine_anneal_schedule)\n",
    "        ]\n",
    "        return callback_list\n",
    "        \n",
    "    def _cosine_anneal_schedule(self,epoch):\n",
    "        cos_inner = np.pi * (epoch % (self.T // self.N))/(self.T // self.N)\n",
    "        cos_out = 0.5*(np.cos(cos_inner) + 1)\n",
    "        return 0.5*self.lr + 0.5*self.lr*cos_out"
   ]
  },
  {
   "cell_type": "markdown",
   "metadata": {},
   "source": [
    "## Illustrate cosine_anneal_schedule\n",
    "\n",
    "total 15 epoch, 1 cycle only"
   ]
  },
  {
   "cell_type": "code",
   "execution_count": 24,
   "metadata": {},
   "outputs": [
    {
     "data": {
      "text/plain": [
       "[<matplotlib.lines.Line2D at 0x148c2a46208>]"
      ]
     },
     "execution_count": 24,
     "metadata": {},
     "output_type": "execute_result"
    },
    {
     "data": {
      "image/png": "[encoded data removed]",
      "text/plain": [
       "<Figure size 432x288 with 1 Axes>"
      ]
     },
     "metadata": {
      "needs_background": "light"
     },
     "output_type": "display_data"
    }
   ],
   "source": [
    "def check_cosine_anneal_schedule(epoch,T=15,N=1):\n",
    "    cos_inner = (np.pi) * (epoch % (T // N))/(T // N)\n",
    "    cos_out = 0.5*np.cos(cos_inner) + 0.5\n",
    "    return 0.5* cos_out+0.5\n",
    "\n",
    "x = np.arange(0,15)\n",
    "plt.plot(x,check_cosine_anneal_schedule(x))"
   ]
  },
  {
   "cell_type": "markdown",
   "metadata": {},
   "source": [
    "## Training\n",
    "\n",
    "這裡SWA是利用最後三次的weight去做平均  \n",
    "為了比較SWA結果，訓練途中另外紀錄了最佳的model weight去做比較  \n",
    "總共15 epoch"
   ]
  },
  {
   "cell_type": "code",
   "execution_count": 28,
   "metadata": {},
   "outputs": [
    {
     "name": "stdout",
     "output_type": "stream",
     "text": [
      "_________________________________________________________________\n",
      "Layer (type)                 Output Shape              Param #   \n",
      "=================================================================\n",
      "vgg16 (Model)                (None, 4, 4, 512)         14714688  \n",
      "_________________________________________________________________\n",
      "flatten_8 (Flatten)          (None, 8192)              0         \n",
      "_________________________________________________________________\n",
      "dense_22 (Dense)             (None, 100)               819300    \n",
      "_________________________________________________________________\n",
      "dense_23 (Dense)             (None, 10)                1010      \n",
      "_________________________________________________________________\n",
      "dense_24 (Dense)             (None, 1)                 11        \n",
      "=================================================================\n",
      "Total params: 15,535,009\n",
      "Trainable params: 820,321\n",
      "Non-trainable params: 14,714,688\n",
      "_________________________________________________________________\n",
      "Stochastic weight averaging selected for last 3 epochs.\n",
      "Epoch 1/15\n",
      "125/125 [==============================] - 16s 126ms/step - loss: 0.5220 - acc: 0.8113 - val_loss: 0.4445 - val_acc: 0.8580\n",
      "\n",
      "Epoch 00001: val_acc improved from -inf to 0.85800, saving model to ./dogs-vs-cats/snapshot_best.model\n",
      "Epoch 2/15\n",
      "125/125 [==============================] - 15s 122ms/step - loss: 0.3803 - acc: 0.9025 - val_loss: 0.3980 - val_acc: 0.8775\n",
      "\n",
      "Epoch 00002: val_acc improved from 0.85800 to 0.87750, saving model to ./dogs-vs-cats/snapshot_best.model\n",
      "Epoch 3/15\n",
      "125/125 [==============================] - 15s 122ms/step - loss: 0.3147 - acc: 0.9227 - val_loss: 0.3802 - val_acc: 0.8810\n",
      "\n",
      "Epoch 00003: val_acc improved from 0.87750 to 0.88100, saving model to ./dogs-vs-cats/snapshot_best.model\n",
      "Epoch 4/15\n",
      "125/125 [==============================] - 16s 125ms/step - loss: 0.2676 - acc: 0.9427 - val_loss: 0.3594 - val_acc: 0.8805\n",
      "\n",
      "Epoch 00004: val_acc did not improve from 0.88100\n",
      "Epoch 5/15\n",
      "125/125 [==============================] - 16s 129ms/step - loss: 0.2264 - acc: 0.9607 - val_loss: 0.3874 - val_acc: 0.8815\n",
      "\n",
      "Epoch 00005: val_acc improved from 0.88100 to 0.88150, saving model to ./dogs-vs-cats/snapshot_best.model\n",
      "Epoch 6/15\n",
      "125/125 [==============================] - 16s 127ms/step - loss: 0.1956 - acc: 0.9710 - val_loss: 0.3641 - val_acc: 0.8850\n",
      "\n",
      "Epoch 00006: val_acc improved from 0.88150 to 0.88500, saving model to ./dogs-vs-cats/snapshot_best.model\n",
      "Epoch 7/15\n",
      "125/125 [==============================] - 16s 129ms/step - loss: 0.1754 - acc: 0.9745 - val_loss: 0.3702 - val_acc: 0.8830\n",
      "\n",
      "Epoch 00007: val_acc did not improve from 0.88500\n",
      "Epoch 8/15\n",
      "125/125 [==============================] - 16s 132ms/step - loss: 0.1520 - acc: 0.9808 - val_loss: 0.3638 - val_acc: 0.8860\n",
      "\n",
      "Epoch 00008: val_acc improved from 0.88500 to 0.88600, saving model to ./dogs-vs-cats/snapshot_best.model\n",
      "Epoch 9/15\n",
      "125/125 [==============================] - 16s 129ms/step - loss: 0.1448 - acc: 0.9830 - val_loss: 0.4106 - val_acc: 0.8855\n",
      "\n",
      "Epoch 00009: val_acc did not improve from 0.88600\n",
      "Epoch 10/15\n",
      "125/125 [==============================] - 16s 130ms/step - loss: 0.1323 - acc: 0.9848 - val_loss: 0.3918 - val_acc: 0.8780\n",
      "\n",
      "Epoch 00010: val_acc did not improve from 0.88600\n",
      "Epoch 11/15\n",
      "125/125 [==============================] - 16s 129ms/step - loss: 0.1232 - acc: 0.9865 - val_loss: 0.4162 - val_acc: 0.8855\n",
      "\n",
      "Epoch 00011: val_acc did not improve from 0.88600\n",
      "Epoch 12/15\n",
      "125/125 [==============================] - 17s 133ms/step - loss: 0.1180 - acc: 0.9868 - val_loss: 0.3956 - val_acc: 0.8875\n",
      "\n",
      "Epoch 00012: val_acc improved from 0.88600 to 0.88750, saving model to ./dogs-vs-cats/snapshot_best.model\n",
      "Epoch 13/15\n",
      "125/125 [==============================] - 17s 135ms/step - loss: 0.1158 - acc: 0.9862 - val_loss: 0.4482 - val_acc: 0.8885\n",
      "\n",
      "Epoch 00013: val_acc improved from 0.88750 to 0.88850, saving model to ./dogs-vs-cats/snapshot_best.model\n",
      "Epoch 14/15\n",
      "125/125 [==============================] - 16s 130ms/step - loss: 0.1097 - acc: 0.9878 - val_loss: 0.4224 - val_acc: 0.8840\n",
      "\n",
      "Epoch 00014: val_acc did not improve from 0.88850\n",
      "Epoch 15/15\n",
      "125/125 [==============================] - 16s 125ms/step - loss: 0.1061 - acc: 0.9870 - val_loss: 0.3968 - val_acc: 0.8845\n",
      "\n",
      "Epoch 00015: val_acc did not improve from 0.88850\n",
      "Final model parameters set to stochastic weight average.\n",
      "Final stochastic averaged weights saved to file.\n"
     ]
    }
   ],
   "source": [
    "epoch=15\n",
    "snapshot_epoches=12\n",
    "\n",
    "model2 = call_vgg16_dog_vs_cat()\n",
    "model2.summary()\n",
    "model2.compile(loss='binary_crossentropy',optimizer = optimizer, metrics = ['acc'])\n",
    "\n",
    "swa = SWA('./dogs-vs-cats/swa_model.model',swa_epoch=snapshot_epoches)\n",
    "SnapshotCallback = SnapshotCallbackBuilder(epoches=epoch,nb_snapshot=1)\n",
    "\n",
    "train_history = model2.fit_generator(train_datagen,\n",
    "                                    steps_per_epoch=train_datagen.samples/batch_size,\n",
    "                                    epochs=epoch,\n",
    "                                    validation_data=validation_datagen,\n",
    "                                    validation_steps=validation_datagen.samples/batch_size,\n",
    "                                    callbacks=SnapshotCallback.getcallback(),\n",
    "                                    verbose=1)"
   ]
  },
  {
   "cell_type": "code",
   "execution_count": 29,
   "metadata": {},
   "outputs": [
    {
     "data": {
      "image/png": "[encoded data removed]",
      "text/plain": [
       "<Figure size 720x360 with 2 Axes>"
      ]
     },
     "metadata": {
      "needs_background": "light"
     },
     "output_type": "display_data"
    }
   ],
   "source": [
    "plot_train_result(train_history)"
   ]
  },
  {
   "cell_type": "markdown",
   "metadata": {},
   "source": [
    "# Result\n",
    "\n",
    "best model = 88.75  \n",
    "swa = 89.20"
   ]
  },
  {
   "cell_type": "code",
   "execution_count": 30,
   "metadata": {},
   "outputs": [
    {
     "name": "stderr",
     "output_type": "stream",
     "text": [
      "C:\\Users\\a2720\\Anaconda3\\lib\\site-packages\\keras\\engine\\saving.py:327: UserWarning: Error in loading the saved optimizer state. As a result, your model is starting with a freshly initialized optimizer.\n",
      "  warnings.warn('Error in loading the saved optimizer '\n"
     ]
    },
    {
     "name": "stdout",
     "output_type": "stream",
     "text": [
      "test data accuracy on snap shot best model: 88.75\n",
      "test data accuracy on swa model: 89.20\n"
     ]
    }
   ],
   "source": [
    "from keras.models import load_model\n",
    "model_eval = load_model('./dogs-vs-cats/snapshot_best.model')\n",
    "scores = model_eval.evaluate_generator(test_datagen,steps=len(test_datagen))\n",
    "print('test data accuracy on snap shot best model: %.2f' %(scores[1]*100))\n",
    "\n",
    "model_eval = load_model('./dogs-vs-cats/swa_model.model')\n",
    "scores = model_eval.evaluate_generator(test_datagen,steps=len(test_datagen))\n",
    "print('test data accuracy on swa model: %.2f' %(scores[1]*100))"
   ]
  },
  {
   "cell_type": "code",
   "execution_count": null,
   "metadata": {},
   "outputs": [],
   "source": []
  }
 ],
 "metadata": {
  "kernelspec": {
   "display_name": "Python 3",
   "language": "python",
   "name": "python3"
  }
 },
 "nbformat": 4,
 "nbformat_minor": 2
}
